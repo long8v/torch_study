{
 "cells": [
  {
   "cell_type": "markdown",
   "metadata": {},
   "source": [
    "## tokenizer api 알아보기 "
   ]
  },
  {
   "cell_type": "markdown",
   "metadata": {},
   "source": [
    "https://huggingface.co/docs/tokenizers/python/latest/api/reference.html#tokenizer"
   ]
  },
  {
   "cell_type": "code",
   "execution_count": 1,
   "metadata": {},
   "outputs": [],
   "source": [
    "from Korpora import Korpora\n",
    "import pickle"
   ]
  },
  {
   "cell_type": "code",
   "execution_count": 2,
   "metadata": {},
   "outputs": [],
   "source": [
    "with open('../../file/kor.p', 'rb') as f:\n",
    "    corpus = pickle.load(f)"
   ]
  },
  {
   "cell_type": "code",
   "execution_count": 4,
   "metadata": {},
   "outputs": [],
   "source": [
    "train = corpus.train.texts"
   ]
  },
  {
   "cell_type": "code",
   "execution_count": 6,
   "metadata": {},
   "outputs": [
    {
     "data": {
      "text/plain": [
       "'연결 맵 몬스터 ← 피어나는 숲3 LV.7 슬라임 → 피어나는 숲1 연결 맵 몬스터 ← 피어나는 숲2 LV.7 슬라임 → 빛나는 동굴길 → 요정의 샘 연결 맵 몬스터 ← 피어나는 숲1 연결 맵 몬스터 ← 피어나는 숲1 → 에우렐 연결 맵 몬스터 ← 빛나는 동굴길 → 왕의 쉼터 → 엘프의 수련장 입구 연결 맵 몬스터 ← 에우렐 ( → 위대한 정신 강림 ) 하프를 통해 입장 Sound of Elf 제로 퀘스트 중 Chapter 1에서 혼테일을 재울 때 사용한 오르골과, 프렌즈스토리에서 전화 수신 및 발신 때 나오는 스마트폰 벨소리에서 이 BGM이 나온다. 아마도 스마트폰 벨소리로 쓰이게 된 이유는 음이 아름다운데다가 짧아서 그런 듯하다. 연결 맵 몬스터 ( ← 왕의 쉼터 ) 연결 맵 몬스터 ← 에우렐 → 엘프의 수련장1 → 엘프의 수련장2 → 엘프의 수련장3 연결 맵 몬스터 ← 엘프의 수련장 입구 LV.10 리프 퍼펫트리 연결 맵 몬스터 ← 엘프의 수련장 입구 LV.11 브라운 퍼펫트리 연결 맵 몬스터 ← 엘프의 수련장 입구 LV.13 플라워 퍼펫트리'"
      ]
     },
     "execution_count": 6,
     "metadata": {},
     "output_type": "execute_result"
    }
   ],
   "source": [
    "train[9]"
   ]
  },
  {
   "cell_type": "code",
   "execution_count": null,
   "metadata": {},
   "outputs": [],
   "source": []
  }
 ],
 "metadata": {
  "kernelspec": {
   "display_name": "long36v",
   "language": "python",
   "name": "long36v"
  },
  "language_info": {
   "codemirror_mode": {
    "name": "ipython",
    "version": 3
   },
   "file_extension": ".py",
   "mimetype": "text/x-python",
   "name": "python",
   "nbconvert_exporter": "python",
   "pygments_lexer": "ipython3",
   "version": "3.6.12"
  }
 },
 "nbformat": 4,
 "nbformat_minor": 4
}
