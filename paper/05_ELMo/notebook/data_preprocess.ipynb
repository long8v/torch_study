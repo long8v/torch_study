{
 "cells": [
  {
   "cell_type": "markdown",
   "metadata": {},
   "source": [
    "# Data Download"
   ]
  },
  {
   "cell_type": "code",
   "execution_count": 1,
   "metadata": {},
   "outputs": [],
   "source": [
    "from Korpora import Korpora\n",
    "import pickle"
   ]
  },
  {
   "cell_type": "code",
   "execution_count": 2,
   "metadata": {},
   "outputs": [],
   "source": [
    "# Korpora.fetch('namuwikitext')"
   ]
  },
  {
   "cell_type": "code",
   "execution_count": 3,
   "metadata": {},
   "outputs": [],
   "source": [
    "# corpus = Korpora.load('namuwikitext')\n",
    "# with open('kor.p', 'wb') as f:\n",
    "#     pickle.dump(corpus, f)"
   ]
  },
  {
   "cell_type": "code",
   "execution_count": 4,
   "metadata": {},
   "outputs": [],
   "source": [
    "with open('kor.p', 'rb') as f:\n",
    "    corpus = pickle.load(f)"
   ]
  },
  {
   "cell_type": "markdown",
   "metadata": {},
   "source": [
    "# data preprocess"
   ]
  },
  {
   "cell_type": "code",
   "execution_count": 5,
   "metadata": {},
   "outputs": [],
   "source": [
    "import mecab\n",
    "import torch\n",
    "import numpy as np\n",
    "import torch.nn as nn\n",
    "import torch.optim as optim\n",
    "\n",
    "import torchtext\n",
    "import sys\n",
    "sys.path.append('../source')\n",
    "from txt_cleaner.clean.master import MasterCleaner\n",
    "from txt_cleaner.utils import *\n",
    "from torch8text.data import Vocab, Field"
   ]
  },
  {
   "cell_type": "markdown",
   "metadata": {},
   "source": [
    "## field 1: mecab 사용 field"
   ]
  },
  {
   "cell_type": "code",
   "execution_count": 6,
   "metadata": {},
   "outputs": [],
   "source": [
    "pos = mecab.MeCab()\n",
    "\n",
    "def tokenize_pos(inp):\n",
    "    if type(inp) == str:\n",
    "        return pos.morphs(inp)\n",
    "    if type(inp) == list:\n",
    "        return [tokenize_pos(i) for i in inp]\n",
    "# pos.morphs(['안녕하세요'])"
   ]
  },
  {
   "cell_type": "code",
   "execution_count": 7,
   "metadata": {},
   "outputs": [
    {
     "data": {
      "text/plain": [
       "(['안녕', '하', '세요'], [['안녕', '하', '세요'], ['안녕', '?']])"
      ]
     },
     "execution_count": 7,
     "metadata": {},
     "output_type": "execute_result"
    }
   ],
   "source": [
    "tokenize_pos('안녕하세요'), tokenize_pos(['안녕하세요', '안녕?'])"
   ]
  },
  {
   "cell_type": "markdown",
   "metadata": {},
   "source": [
    "### 수인님 cleaner "
   ]
  },
  {
   "cell_type": "code",
   "execution_count": 8,
   "metadata": {},
   "outputs": [
    {
     "name": "stdout",
     "output_type": "stream",
     "text": [
      "size 1 dictionary is read from ../source/txt_cleaner/cleaner_config.json\n"
     ]
    }
   ],
   "source": [
    "config = json_reader('../source/txt_cleaner/cleaner_config.json')"
   ]
  },
  {
   "cell_type": "code",
   "execution_count": 9,
   "metadata": {},
   "outputs": [
    {
     "data": {
      "text/plain": [
       "{'minimum_space_count': 2}"
      ]
     },
     "execution_count": 9,
     "metadata": {},
     "output_type": "execute_result"
    }
   ],
   "source": [
    "config['minimum_space_count'] = 2\n",
    "config"
   ]
  },
  {
   "cell_type": "code",
   "execution_count": 10,
   "metadata": {},
   "outputs": [
    {
     "data": {
      "text/plain": [
       "'안녕하세요? 반갑습니다! 행복하세요'"
      ]
     },
     "execution_count": 10,
     "metadata": {},
     "output_type": "execute_result"
    }
   ],
   "source": [
    "cleaner = MasterCleaner(config)\n",
    "cleaner.cleaning('안녕하세요? 반갑습니다! 행복하세요~**')"
   ]
  },
  {
   "cell_type": "code",
   "execution_count": 11,
   "metadata": {},
   "outputs": [
    {
     "data": {
      "text/plain": [
       "[['안녕', '하', '세요'], ['안녕']]"
      ]
     },
     "execution_count": 11,
     "metadata": {},
     "output_type": "execute_result"
    }
   ],
   "source": [
    "tokenize_pos(['안녕하세요', '안녕'])"
   ]
  },
  {
   "cell_type": "code",
   "execution_count": 12,
   "metadata": {},
   "outputs": [],
   "source": [
    "mecab_field = Field(tokenize = tokenize_pos, \n",
    "                 preprocessing = cleaner.cleaning,\n",
    "                    init_token = False,\n",
    "                    eos_token = False\n",
    "                )"
   ]
  },
  {
   "cell_type": "code",
   "execution_count": 13,
   "metadata": {},
   "outputs": [
    {
     "data": {
      "text/plain": [
       "['안녕', '하', '세요', '룰루랄라']"
      ]
     },
     "execution_count": 13,
     "metadata": {},
     "output_type": "execute_result"
    }
   ],
   "source": [
    "train = [text for text in corpus.train.texts if text]\n",
    "mecab_field.build_vocab(train)\n",
    "mecab_field.preprocess('안녕하세요 룰루랄라 ㅇㅇㄹ')"
   ]
  },
  {
   "cell_type": "markdown",
   "metadata": {},
   "source": [
    "## field 2:  chr-level field"
   ]
  },
  {
   "cell_type": "code",
   "execution_count": 14,
   "metadata": {},
   "outputs": [
    {
     "data": {
      "text/plain": [
       "''"
      ]
     },
     "execution_count": 14,
     "metadata": {},
     "output_type": "execute_result"
    }
   ],
   "source": [
    "cleaner.cleaning('아')"
   ]
  },
  {
   "cell_type": "code",
   "execution_count": 15,
   "metadata": {},
   "outputs": [],
   "source": [
    "cleaner = MasterCleaner({'minimum_space_count':0})\n",
    "chr_field = Field(tokenize = list, \n",
    "                 preprocessing = lambda e: cleaner.cleaning(e) if len(e) > 1 else e,\n",
    "                  init_token = False,\n",
    "                  eos_token = False,\n",
    "                )"
   ]
  },
  {
   "cell_type": "code",
   "execution_count": 16,
   "metadata": {},
   "outputs": [],
   "source": [
    "chr_field.build_vocab(train)"
   ]
  },
  {
   "cell_type": "markdown",
   "metadata": {},
   "source": [
    "## 토큰별로 한번, 토큰 내 캐릭터 레벨로 한번 데이터셋을 구성해야 함 \n",
    "-> 토큰에서 unk이면 어차피 chr level도 unk이기 때문에 {토큰 idx: 캐릭터 idx 리스트} 딕셔너리를 만들면 쉽지 않을까? "
   ]
  },
  {
   "cell_type": "code",
   "execution_count": 17,
   "metadata": {},
   "outputs": [
    {
     "name": "stdout",
     "output_type": "stream",
     "text": [
      "0\n"
     ]
    }
   ],
   "source": [
    "for key, value in mecab_field.vocab.stoi_dict.items():\n",
    "    print(value)\n",
    "    break"
   ]
  },
  {
   "cell_type": "code",
   "execution_count": 18,
   "metadata": {},
   "outputs": [
    {
     "data": {
      "text/plain": [
       "['<UNK>', '<PAD>', '<SOS>', '<EOS>']"
      ]
     },
     "execution_count": 18,
     "metadata": {},
     "output_type": "execute_result"
    }
   ],
   "source": [
    "mecab_field.vocab.special_tokens"
   ]
  },
  {
   "cell_type": "code",
   "execution_count": 19,
   "metadata": {},
   "outputs": [],
   "source": [
    "chr_dict = {key: chr_field.process(value) \n",
    "            if value not in mecab_field.vocab.special_tokens\n",
    "            else [0]\n",
    "            for key, value in mecab_field.vocab.itos_dict.items() \n",
    "             }"
   ]
  },
  {
   "cell_type": "code",
   "execution_count": 20,
   "metadata": {},
   "outputs": [
    {
     "data": {
      "text/plain": [
       "('Up', 'U', 'p')"
      ]
     },
     "execution_count": 20,
     "metadata": {},
     "output_type": "execute_result"
    }
   ],
   "source": [
    "mecab_field.vocab.itos_dict[78], chr_field.vocab.itos_dict[160], chr_field.vocab.itos_dict[188]"
   ]
  },
  {
   "cell_type": "markdown",
   "metadata": {},
   "source": [
    "# dataset, dataloader\n",
    "## 헷갈리는 부분\n",
    "bi-directional LSTM을 쓸건데 이게 다음 단어 예측하는 LM만 데이터를 구성하면 되나? 아니면 뒤에서부터 앞의 단어를 예측하는 LM도 구성해서 concat해야 하나? -> 일단 전자라고 생각하고 함"
   ]
  },
  {
   "cell_type": "code",
   "execution_count": 21,
   "metadata": {},
   "outputs": [],
   "source": [
    "from collections import namedtuple  \n",
    "from torch.utils.data import Dataset, DataLoader\n",
    "import torch.nn.functional as F\n",
    "\n",
    "class ELMoDataset(Dataset):\n",
    "    def __init__(self, src, field):\n",
    "        self.src = src\n",
    "        self.field = field\n",
    "        self.named_tuple = namedtuple('data', ['src', 'trg'])\n",
    "        \n",
    "    def __len__(self):\n",
    "        return len(self.src)\n",
    "    \n",
    "    def __getitem__(self, idx):\n",
    "        return self.named_tuple(self.getitem(idx), self.getitem(idx)[1:])\n",
    "    \n",
    "    def getitem(self, idx):\n",
    "        data = self.src[idx]\n",
    "        tokenize_data = self.field.preprocess(data)\n",
    "        return torch.Tensor(self.field.vocab.stoi(tokenize_data)).long()"
   ]
  },
  {
   "cell_type": "code",
   "execution_count": 22,
   "metadata": {},
   "outputs": [],
   "source": [
    "from torch.nn.utils.rnn import pad_sequence, pack_padded_sequence"
   ]
  },
  {
   "cell_type": "code",
   "execution_count": 23,
   "metadata": {},
   "outputs": [],
   "source": [
    "ds = ELMoDataset(train, mecab_field)"
   ]
  },
  {
   "cell_type": "code",
   "execution_count": 24,
   "metadata": {},
   "outputs": [
    {
     "name": "stdout",
     "output_type": "stream",
     "text": [
      "tensor([1695,    8, 1066,    8, 1696,   94,  248,  313,   19,    6, 1697,    8,\n",
      "        1698,    9, 1699, 1700,  517,  112,   12,    4, 1701, 1067,    7,  518,\n",
      "        1702,    8, 1068,   13,  629,   18, 1703,  112,  150,   10,   85, 1069,\n",
      "          37,  189, 1704,    7, 1705,   10,  165,   21,  447,   22, 1068,   14,\n",
      "        1706, 1070,   17, 1707,    9, 1708,    4,  783, 1066,  223,   20,   21,\n",
      "          29,    6,   27,  379,   13, 1709,   79,   18, 1710, 1069,   18,    6,\n",
      "         630,    8, 1071,    7, 1711,    4,  278,  249,    5,   96,  631,    5,\n",
      "         106, 1712,   35, 1072, 1713,  314,   47,  113,   24,  448,   74, 1714,\n",
      "          10,   12,    4,   32, 1715,    9, 1716,  250,   35, 1717,  250, 1073,\n",
      "           8,  519,   19, 1074,  128,   10,  380,   31,   21, 1718,   54,   60,\n",
      "          22,  381,    4])\n",
      "tensor([   8, 1066,    8, 1696,   94,  248,  313,   19,    6, 1697,    8, 1698,\n",
      "           9, 1699, 1700,  517,  112,   12,    4, 1701, 1067,    7,  518, 1702,\n",
      "           8, 1068,   13,  629,   18, 1703,  112,  150,   10,   85, 1069,   37,\n",
      "         189, 1704,    7, 1705,   10,  165,   21,  447,   22, 1068,   14, 1706,\n",
      "        1070,   17, 1707,    9, 1708,    4,  783, 1066,  223,   20,   21,   29,\n",
      "           6,   27,  379,   13, 1709,   79,   18, 1710, 1069,   18,    6,  630,\n",
      "           8, 1071,    7, 1711,    4,  278,  249,    5,   96,  631,    5,  106,\n",
      "        1712,   35, 1072, 1713,  314,   47,  113,   24,  448,   74, 1714,   10,\n",
      "          12,    4,   32, 1715,    9, 1716,  250,   35, 1717,  250, 1073,    8,\n",
      "         519,   19, 1074,  128,   10,  380,   31,   21, 1718,   54,   60,   22,\n",
      "         381,    4])\n"
     ]
    }
   ],
   "source": [
    "for _ in ds:\n",
    "    print(_.src)\n",
    "    print(_.trg)\n",
    "    break"
   ]
  },
  {
   "cell_type": "code",
   "execution_count": 25,
   "metadata": {},
   "outputs": [],
   "source": [
    "def pad_collate(batch):\n",
    "    (src, trg) = zip(*batch)\n",
    "    named_tuple = namedtuple('data', ['src', 'trg'])\n",
    "    src_pad = pad_sequence(src, batch_first=True, padding_value=0)\n",
    "    trg_pad = pad_sequence(trg, batch_first=True, padding_value=0)\n",
    "    return named_tuple(src_pad, trg_pad)"
   ]
  },
  {
   "cell_type": "code",
   "execution_count": 26,
   "metadata": {},
   "outputs": [],
   "source": [
    "# def pack_pad_collate(batch):\n",
    "#     (src, trg) = zip(*batch)\n",
    "#     src_len = torch.Tensor([len(s) for s in src])\n",
    "#     trg_len = torch.Tensor([len(t) for t in trg])\n",
    "#     named_tuple = namedtuple('data', ['src', 'trg'])\n",
    "#     src_pad = pad_sequence(src, batch_first=True, padding_value=0)\n",
    "#     trg_pad = pad_sequence(trg, batch_first=True, padding_value=0)\n",
    "#     src_pack = pack_padded_sequence(src_pad, lengths=src_len, batch_first=True, enforce_sorted=False)\n",
    "#     trg_pack = pack_padded_sequence(trg_pad, lengths=trg_len, batch_first=True, enforce_sorted=False)\n",
    "#     return named_tuple(src_pack, trg_pack)"
   ]
  },
  {
   "cell_type": "code",
   "execution_count": 27,
   "metadata": {},
   "outputs": [
    {
     "name": "stdout",
     "output_type": "stream",
     "text": [
      "tensor([[1695,    8, 1066,  ...,    0,    0,    0],\n",
      "        [1719, 1075, 1720,  ...,    0,    0,    0],\n",
      "        [ 647,  648,   17,  ...,    0,    0,    0],\n",
      "        ...,\n",
      "        [2045,    8, 2046,  ...,    0,    0,    0],\n",
      "        [2068,   66,   65,  ...,    0,    0,    0],\n",
      "        [ 402,  688,   18,  ...,    0,    0,    0]])\n",
      "tensor([[   8, 1066,    8,  ...,    0,    0,    0],\n",
      "        [1075, 1720,  154,  ...,    0,    0,    0],\n",
      "        [ 648,   17, 1108,  ...,    0,    0,    0],\n",
      "        ...,\n",
      "        [   8, 2046, 2047,  ...,    0,    0,    0],\n",
      "        [  66,   65,  104,  ...,    0,    0,    0],\n",
      "        [ 688,   18,   32,  ...,    0,    0,    0]])\n"
     ]
    }
   ],
   "source": [
    "dl = DataLoader(ds, batch_size = 16, collate_fn = pad_collate)\n",
    "for _ in dl:\n",
    "    print(_.src.data)\n",
    "    print(_.trg.data)\n",
    "    break"
   ]
  },
  {
   "cell_type": "code",
   "execution_count": null,
   "metadata": {},
   "outputs": [],
   "source": []
  },
  {
   "cell_type": "code",
   "execution_count": 28,
   "metadata": {},
   "outputs": [],
   "source": [
    "class CNN(nn.Module):\n",
    "    def __init__(self, vocab_size, embedding_dim, n_filters, filter_sizes, output_dim, \n",
    "                 dropout, pad_idx):\n",
    "        \n",
    "        super().__init__()\n",
    "\n",
    "        self.embedding = nn.Embedding(vocab_size, embedding_dim, padding_idx = pad_idx)\n",
    "        \n",
    "        self.conv_0 = nn.Conv2d(in_channels = 1, \n",
    "                                out_channels = n_filters, \n",
    "                                kernel_size = (filter_sizes[0], embedding_dim)) \n",
    "        \n",
    "        self.conv_1 = nn.Conv2d(in_channels = 1, \n",
    "                                out_channels = n_filters, \n",
    "                                kernel_size = (filter_sizes[1], embedding_dim))\n",
    "\n",
    "        \n",
    "        self.fc = nn.Linear(len(filter_sizes) * n_filters, output_dim)\n",
    "        \n",
    "        self.dropout = nn.Dropout(dropout)\n",
    "        \n",
    "    def forward(self, text):\n",
    "                \n",
    "        #text = [batch size, sent len]\n",
    "        \n",
    "        embedded = self.embedding(text)\n",
    "#         print('embedded shape', embedded.shape) \n",
    "        embedded = embedded.unsqueeze(0)\n",
    "        #embedded = [batch size, sent len, emb dim]\n",
    "        \n",
    "        embedded = embedded.unsqueeze(1)\n",
    "        \n",
    "        #embedded = [batch size, 1, sent len, emb dim]\n",
    "        \n",
    "        conved_0 = F.relu(self.conv_0(embedded).squeeze(3))\n",
    "        conved_1 = F.relu(self.conv_1(embedded).squeeze(3))\n",
    "\n",
    "        #conved_n = [batch size, n_filters, sent len - filter_sizes[n] + 1]\n",
    "        \n",
    "        pooled_0 = F.max_pool1d(conved_0, conved_0.shape[2]).squeeze(2)\n",
    "        pooled_1 = F.max_pool1d(conved_1, conved_1.shape[2]).squeeze(2)\n",
    "        \n",
    "        #pooled_n = [batch size, n_filters]\n",
    "        \n",
    "        cat = self.dropout(torch.cat((pooled_0, pooled_1), dim = 1))\n",
    "\n",
    "        #cat = [batch size, n_filters * len(filter_sizes)]\n",
    "            \n",
    "        return self.fc(cat)"
   ]
  },
  {
   "cell_type": "code",
   "execution_count": 29,
   "metadata": {},
   "outputs": [],
   "source": [
    "VOCAB_SIZE = len(chr_field.vocab)\n",
    "EMBEDDING_DIM = 1024\n",
    "N_FILTERS = 1\n",
    "FILTER_SIZES = (1, 2)\n",
    "PAD_IDX = chr_field.vocab.stoi_dict['<PAD>']\n",
    "SPECIAL_TOKENS = chr_field.vocab.special_tokens\n",
    "SPECIAL_TOKENS_INDEX = chr_field.vocab.special_tokens_idx\n",
    "CHR_DICT = chr_dict\n",
    "OUTPUT_DIM = 1024\n",
    "DROPOUT = 0.5"
   ]
  },
  {
   "cell_type": "code",
   "execution_count": 30,
   "metadata": {},
   "outputs": [],
   "source": [
    "cnn = CNN(VOCAB_SIZE, EMBEDDING_DIM, N_FILTERS, FILTER_SIZES, OUTPUT_DIM, DROPOUT, PAD_IDX)"
   ]
  },
  {
   "cell_type": "code",
   "execution_count": 31,
   "metadata": {},
   "outputs": [],
   "source": [
    "class LSTM_LM(nn.Module):\n",
    "    def __init__(self, input_dim, output_dim, hid_dim, n_layers, dropout, bidirectional):\n",
    "        super().__init__()\n",
    "        \n",
    "        self.output_dim = output_dim\n",
    "        self.input_dim = input_dim\n",
    "        self.hid_dim = hid_dim\n",
    "        self.n_layers = n_layers\n",
    "        self.num_dircetions = 2 if bidirectional else 1\n",
    "        \n",
    "        self.rnn = nn.LSTM(input_dim, hid_dim, n_layers, dropout = dropout, bidirectional = bidirectional)\n",
    "        \n",
    "        self.fc_out = nn.Linear(hid_dim * self.num_dircetions, output_dim)\n",
    "        \n",
    "        self.dropout = nn.Dropout(dropout)\n",
    "    \n",
    "    def init_hidden(self):\n",
    "        # (num_layers * num_directions, batch, hidden_size)\n",
    "        return torch.zeros(self.n_layers * self.num_dircetions, 1, self.hid_dim)\n",
    "    \n",
    "    def forward(self, input):\n",
    "#         print(f'input shape : {input.shape}') # seqlen, batch, hid_dim(output_dim of cnn)\n",
    "        output, (hidden, cell) = self.rnn(input)\n",
    "#         print(f'output shape : {output.shape}') # ouput shape :(seq_len, batch, num_directions * hidden_size)  \n",
    "        \n",
    "        prediction = self.fc_out(output)\n",
    "#         print(f'prediction shape {prediction.shape}') # seq len, batchsize, trg_dim\n",
    "        return prediction, hidden, cell"
   ]
  },
  {
   "cell_type": "code",
   "execution_count": 32,
   "metadata": {},
   "outputs": [
    {
     "data": {
      "text/plain": [
       "1024"
      ]
     },
     "execution_count": 32,
     "metadata": {},
     "output_type": "execute_result"
    }
   ],
   "source": [
    "OUTPUT_DIM"
   ]
  },
  {
   "cell_type": "code",
   "execution_count": 33,
   "metadata": {},
   "outputs": [],
   "source": [
    "INPUT_DIM = OUTPUT_DIM\n",
    "PREDICT_DIM = len(mecab_field.vocab)\n",
    "HID_DIM = 1024\n",
    "N_LAYERS = 2\n",
    "DROPOUT = 0.5\n",
    "BIDIRECTIONAL = True\n",
    "TRG_PAD_IDX = mecab_field.vocab.stoi_dict['<PAD>']"
   ]
  },
  {
   "cell_type": "code",
   "execution_count": 34,
   "metadata": {},
   "outputs": [],
   "source": [
    "rnn = LSTM_LM(INPUT_DIM, PREDICT_DIM, HID_DIM, N_LAYERS, DROPOUT, BIDIRECTIONAL)"
   ]
  },
  {
   "cell_type": "code",
   "execution_count": 35,
   "metadata": {},
   "outputs": [
    {
     "data": {
      "text/plain": [
       "LSTM_LM(\n",
       "  (rnn): LSTM(1024, 1024, num_layers=2, dropout=0.5, bidirectional=True)\n",
       "  (fc_out): Linear(in_features=2048, out_features=3973, bias=True)\n",
       "  (dropout): Dropout(p=0.5, inplace=False)\n",
       ")"
      ]
     },
     "execution_count": 35,
     "metadata": {},
     "output_type": "execute_result"
    }
   ],
   "source": [
    "rnn"
   ]
  },
  {
   "cell_type": "markdown",
   "metadata": {},
   "source": [
    "`<sos>`토큰이랑 `<eos>` 토큰은 어떻게 CNN처리 해야하지?  -> 일단 빼는걸로 처리"
   ]
  },
  {
   "cell_type": "markdown",
   "metadata": {},
   "source": [
    "## 한글이랑 영어랑 다른점 : 영어는 3char이하인 단어가 별로 없는데 한글은 1~2개로 많이 끊겨서 conv연산 하기가 애매함 "
   ]
  },
  {
   "cell_type": "code",
   "execution_count": 36,
   "metadata": {},
   "outputs": [],
   "source": [
    "criterion = nn.CrossEntropyLoss(ignore_index = TRG_PAD_IDX)\n",
    "import torch.optim as optim\n",
    "\n",
    "optimizer = optim.Adam(cnn.parameters(), lr=0.0005)"
   ]
  },
  {
   "cell_type": "code",
   "execution_count": 43,
   "metadata": {},
   "outputs": [],
   "source": [
    "def initialize_weights(m):\n",
    "    if hasattr(m, 'weight') and m.weight.dim() > 1:\n",
    "        nn.init.xavier_uniform_(m.weight.data)"
   ]
  },
  {
   "cell_type": "code",
   "execution_count": 44,
   "metadata": {},
   "outputs": [],
   "source": [
    "cnn.apply(initialize_weights);\n",
    "rnn.apply(initialize_weights);"
   ]
  },
  {
   "cell_type": "code",
   "execution_count": 45,
   "metadata": {},
   "outputs": [],
   "source": [
    "epoch_loss = []\n",
    "n_pass = 0\n",
    "for epoch in range():\n",
    "    optimizer.zero_grad()\n",
    "    for src, trg in dl: \n",
    "        for idx, token in enumerate(src): # for one batch\n",
    "            inputs = [torch.tensor(chr_dict[int(t)]) for t in token]\n",
    "            try:\n",
    "                features = torch.cat([cnn(input) for input in inputs if input.shape[0] >1], axis=0)         # cnn으로 뽑은 feature의 모음\n",
    "                output, hidden, cell = rnn(features.unsqueeze(1))\n",
    "                target = trg[idx][:len(output)]\n",
    "                loss = criterion(output.squeeze(1), target)\n",
    "                loss.backward()\n",
    "                optimizer.step()\n",
    "                epoch_loss += [loss.item()]\n",
    "            except Exception as e: # 글자가 1개 짜리인 거밖에 없을 때\n",
    "                n_pass += 1\n",
    "                pass"
   ]
  },
  {
   "cell_type": "code",
   "execution_count": 47,
   "metadata": {},
   "outputs": [],
   "source": [
    "import matplotlib.pyplot as plt"
   ]
  },
  {
   "cell_type": "code",
   "execution_count": 50,
   "metadata": {},
   "outputs": [
    {
     "data": {
      "text/plain": [
       "[<matplotlib.lines.Line2D at 0x7f98e9aeb320>]"
      ]
     },
     "execution_count": 50,
     "metadata": {},
     "output_type": "execute_result"
    },
    {
     "data": {
      "image/png": "[encoded data removed]",
      "text/plain": [
       "<Figure size 432x288 with 1 Axes>"
      ]
     },
     "metadata": {
      "needs_background": "light"
     },
     "output_type": "display_data"
    }
   ],
   "source": [
    "plt.plot(epoch_loss)"
   ]
  },
  {
   "cell_type": "markdown",
   "metadata": {},
   "source": [
    "# 해야 할 일 : 1) for 문 안돌고 배치 처리할 수 있게 하기 2) CNN + RNN 감싸기"
   ]
  },
  {
   "cell_type": "code",
   "execution_count": null,
   "metadata": {},
   "outputs": [],
   "source": []
  }
 ],
 "metadata": {
  "kernelspec": {
   "display_name": "long36v",
   "language": "python",
   "name": "long36v"
  },
  "language_info": {
   "codemirror_mode": {
    "name": "ipython",
    "version": 3
   },
   "file_extension": ".py",
   "mimetype": "text/x-python",
   "name": "python",
   "nbconvert_exporter": "python",
   "pygments_lexer": "ipython3",
   "version": "3.6.12"
  }
 },
 "nbformat": 4,
 "nbformat_minor": 4
}
