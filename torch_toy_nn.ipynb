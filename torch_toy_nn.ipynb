{
 "cells": [
  {
   "cell_type": "markdown",
   "metadata": {},
   "source": [
    "# neural-network related toy examples"
   ]
  },
  {
   "cell_type": "code",
   "execution_count": 51,
   "metadata": {},
   "outputs": [],
   "source": [
    "import torch\n",
    "from torch.nn.utils.rnn import pad_sequence\n",
    "import torch.optim as optim\n",
    "import torch.nn as nn\n",
    "import torch.nn.functional as F"
   ]
  },
  {
   "cell_type": "markdown",
   "metadata": {},
   "source": [
    "# pad"
   ]
  },
  {
   "cell_type": "code",
   "execution_count": 53,
   "metadata": {},
   "outputs": [
    {
     "name": "stdout",
     "output_type": "stream",
     "text": [
      "tensor([[-1.3055e-27],\n",
      "        [ 4.5845e-41],\n",
      "        [-2.4656e+23]])\n"
     ]
    },
    {
     "data": {
      "text/plain": [
       "tensor([[-1.3055e-27, -1.3055e-27, -1.3055e-27],\n",
       "        [ 4.5845e-41,  4.5845e-41,  4.5845e-41],\n",
       "        [-2.4656e+23, -2.4656e+23, -2.4656e+23]])"
      ]
     },
     "execution_count": 53,
     "metadata": {},
     "output_type": "execute_result"
    }
   ],
   "source": [
    "import torch.nn.functional as F\n",
    "\n",
    "input_tensor = torch.Tensor(3, 1)\n",
    "print(input_tensor)\n",
    "padded_tensor = F.pad(input_tensor, (0, 2), mode='replicate')\n",
    "padded_tensor"
   ]
  },
  {
   "cell_type": "code",
   "execution_count": 54,
   "metadata": {},
   "outputs": [
    {
     "data": {
      "text/plain": [
       "tensor([[-1.3055e-27,  0.0000e+00,  0.0000e+00],\n",
       "        [ 4.5845e-41,  0.0000e+00,  0.0000e+00],\n",
       "        [-2.4656e+23,  0.0000e+00,  0.0000e+00]])"
      ]
     },
     "execution_count": 54,
     "metadata": {},
     "output_type": "execute_result"
    }
   ],
   "source": [
    "pad = nn.ConstantPad2d((0, 2), 0)\n",
    "pad(input_tensor)"
   ]
  },
  {
   "cell_type": "markdown",
   "metadata": {},
   "source": [
    "# Dropout\n",
    "Dropout을 적용하고 싶은 레이어 전에 Dropout을 넣어줘야 함<br>\n",
    "train시에는 꺼지지 않은 값이 2배가 됨"
   ]
  },
  {
   "cell_type": "code",
   "execution_count": null,
   "metadata": {},
   "outputs": [
    {
     "data": {
      "text/plain": [
       "tensor([[0., 0., 0., 0.],\n",
       "        [8., 0., 0., 0.]])"
      ]
     },
     "metadata": {},
     "output_type": "display_data"
    }
   ],
   "source": [
    "x = torch.Tensor([[1,2,3,4], [4,5,6,7]])\n",
    "nn.Dropout(0.5).forward(x)"
   ]
  },
  {
   "cell_type": "markdown",
   "metadata": {},
   "source": [
    "# nn.CrossEntropyLoss()\n",
    "logsoftmax + nllloss이기 때문에 모델 안에 softmax레이어를 넣을 필요 없음<br>\n",
    "target은 long이어야 하고 input은 데이터 개수 x output_dim(=카테고리개수)여야 함<br>\n",
    "output은 데이터개수 차원이고 안의 내용은 카테고리 숫자여야함 <br>"
   ]
  },
  {
   "cell_type": "code",
   "execution_count": null,
   "metadata": {},
   "outputs": [],
   "source": [
    ">>> loss = nn.CrossEntropyLoss()\n",
    ">>> input = torch.randn(3, 5, requires_grad=True)\n",
    ">>> target = torch.empty(3, dtype=torch.long).random_(5)\n",
    ">>> output = loss(input, target)\n",
    ">>> output.backward()"
   ]
  },
  {
   "cell_type": "code",
   "execution_count": null,
   "metadata": {
    "scrolled": true
   },
   "outputs": [
    {
     "data": {
      "text/plain": [
       "(torch.Size([3]), torch.Size([3, 5]))"
      ]
     },
     "metadata": {},
     "output_type": "display_data"
    }
   ],
   "source": [
    "target.shape, input.shape"
   ]
  },
  {
   "cell_type": "code",
   "execution_count": null,
   "metadata": {},
   "outputs": [
    {
     "data": {
      "text/plain": [
       "tensor([[-0.5201,  0.9689,  0.0953, -1.2881,  0.0179],\n",
       "        [-0.5532, -1.0832, -1.5432, -2.9757, -0.6711],\n",
       "        [ 1.0784,  0.6373,  0.2693,  0.7127,  0.7822]], requires_grad=True)"
      ]
     },
     "metadata": {},
     "output_type": "display_data"
    }
   ],
   "source": [
    "input"
   ]
  },
  {
   "cell_type": "code",
   "execution_count": null,
   "metadata": {},
   "outputs": [
    {
     "data": {
      "text/plain": [
       "tensor([2, 0, 1])"
      ]
     },
     "metadata": {},
     "output_type": "display_data"
    }
   ],
   "source": [
    "target"
   ]
  }
 ],
 "metadata": {
  "kernelspec": {
   "display_name": "Python 3.8.8 ('base')",
   "language": "python",
   "name": "python3"
  },
  "language_info": {
   "codemirror_mode": {
    "name": "ipython",
    "version": 3
   },
   "file_extension": ".py",
   "mimetype": "text/x-python",
   "name": "python",
   "nbconvert_exporter": "python",
   "pygments_lexer": "ipython3",
   "version": "3.8.8"
  },
  "vscode": {
   "interpreter": {
    "hash": "4de80974f87294fd1fdcc19e5ba4ef608a8b1a6d8ff488c40fc196dc4f2301bf"
   }
  }
 },
 "nbformat": 4,
 "nbformat_minor": 4
}
