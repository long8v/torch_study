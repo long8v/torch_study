{
 "cells": [
  {
   "cell_type": "markdown",
   "metadata": {},
   "source": [
    "## char단위 bio태그를 tokenizer 사용하여 token단위 bio태그로 바꾸기 "
   ]
  },
  {
   "cell_type": "markdown",
   "metadata": {},
   "source": [
    "## klue data loading "
   ]
  },
  {
   "cell_type": "code",
   "execution_count": 1,
   "metadata": {},
   "outputs": [],
   "source": [
    "with open('../../file/klue-ner-v1_train.tsv', 'r') as f:\n",
    "    corpus = f.read()"
   ]
  },
  {
   "cell_type": "code",
   "execution_count": 2,
   "metadata": {},
   "outputs": [],
   "source": [
    "corpus = corpus.split('\\n\\n')"
   ]
  },
  {
   "cell_type": "code",
   "execution_count": 3,
   "metadata": {},
   "outputs": [
    {
     "data": {
      "text/plain": [
       "'## klue-ner-v1_train_00001_nsmc\\t<한군데:QT>서 필름을 너무 낭비한 작품입니다.\\n한\\tB-QT\\n군\\tI-QT\\n데\\tI-QT\\n서\\tO\\n \\tO\\n필\\tO\\n름\\tO\\n을\\tO\\n \\tO\\n너\\tO\\n무\\tO\\n \\tO\\n낭\\tO\\n비\\tO\\n한\\tO\\n \\tO\\n작\\tO\\n품\\tO\\n입\\tO\\n니\\tO\\n다\\tO\\n.\\tO'"
      ]
     },
     "execution_count": 3,
     "metadata": {},
     "output_type": "execute_result"
    }
   ],
   "source": [
    "corpus[1]"
   ]
  },
  {
   "cell_type": "code",
   "execution_count": 4,
   "metadata": {},
   "outputs": [],
   "source": [
    "splitted_corpus = [[sen.split('\\t') for sen in sentence.split('\\n')] for sentence in corpus if '\\t' in sentence]\n",
    "splitted_corpus = [[sen for sen in sentence if len(sen) > 1] for sentence in splitted_corpus]"
   ]
  },
  {
   "cell_type": "code",
   "execution_count": 5,
   "metadata": {},
   "outputs": [],
   "source": [
    "corpus_pair = [[[char, bio] \n",
    "                     for char, bio in corpus \n",
    "                     if bio[:2] in ['B-', 'I-', 'O']] \n",
    "                    for corpus in splitted_corpus]"
   ]
  },
  {
   "cell_type": "code",
   "execution_count": 6,
   "metadata": {},
   "outputs": [],
   "source": [
    "corpus_char = [''.join([char for char, bio in corpus]) for corpus in corpus_pair]\n",
    "corpus_bio = [[bio for char, bio in corpus] for corpus in corpus_pair]"
   ]
  },
  {
   "cell_type": "markdown",
   "metadata": {},
   "source": [
    "## tokenizer loading "
   ]
  },
  {
   "cell_type": "code",
   "execution_count": 7,
   "metadata": {},
   "outputs": [],
   "source": [
    "from tokenizers import Tokenizer"
   ]
  },
  {
   "cell_type": "code",
   "execution_count": 8,
   "metadata": {},
   "outputs": [],
   "source": [
    "tokenizer_path =  '~/torch_study/paper/file/bert/vocab.json'\n",
    "tokenizer = Tokenizer.from_file(tokenizer_path)"
   ]
  },
  {
   "cell_type": "code",
   "execution_count": 9,
   "metadata": {},
   "outputs": [],
   "source": [
    "tokenized_char = [tokenizer.encode(corpus).tokens for corpus in corpus_char]"
   ]
  },
  {
   "cell_type": "code",
   "execution_count": 10,
   "metadata": {},
   "outputs": [
    {
     "data": {
      "text/plain": [
       "[(0, 2), (2, 3), (3, 6)]"
      ]
     },
     "execution_count": 10,
     "metadata": {},
     "output_type": "execute_result"
    }
   ],
   "source": [
    "tokenizer.encode('안녕하십니까').offsets"
   ]
  },
  {
   "cell_type": "code",
   "execution_count": 11,
   "metadata": {},
   "outputs": [],
   "source": [
    "special_token = ['[UNK]', '[SEP]', '[CLS]']"
   ]
  },
  {
   "cell_type": "code",
   "execution_count": 12,
   "metadata": {},
   "outputs": [],
   "source": [
    "import re"
   ]
  },
  {
   "cell_type": "code",
   "execution_count": 13,
   "metadata": {},
   "outputs": [],
   "source": [
    "def get_token_labels(text, label, tokenizer):\n",
    "    tokenized = tokenizer.encode(text)\n",
    "    token_word = tokenized.tokens\n",
    "    offset = tokenized.offsets\n",
    "    index = 0\n",
    "    token_labels = []\n",
    "    label_clean = [lbl for txt, lbl in list(zip(text, label)) if txt.strip()]\n",
    "    for token_off, token in zip(offset, token_word):\n",
    "        len_token_clean = token_off[1] - token_off[0] \n",
    "        token_labels.append(label_clean[index:index+len_token_clean][0]) # 가장 첫번째 bio 태그를 태그로 사용\n",
    "        index += len_token_clean\n",
    "    return token_labels"
   ]
  },
  {
   "cell_type": "code",
   "execution_count": 14,
   "metadata": {},
   "outputs": [],
   "source": [
    "idx = 10"
   ]
  },
  {
   "cell_type": "code",
   "execution_count": 15,
   "metadata": {},
   "outputs": [
    {
     "data": {
      "text/plain": [
       "'중국 후난(湖南)성 창샤(長沙)시 우자링(五家岭)가 한 시장에서 14일 오전 10시 15분께 칼부림 사건이 일어나 5명이 숨지고 1명이 부상했다고 중신넷이 14일 보도했다.'"
      ]
     },
     "execution_count": 15,
     "metadata": {},
     "output_type": "execute_result"
    }
   ],
   "source": [
    "corpus_char[idx]"
   ]
  },
  {
   "cell_type": "code",
   "execution_count": 16,
   "metadata": {},
   "outputs": [
    {
     "data": {
      "text/plain": [
       "['중국',\n",
       " '후',\n",
       " '##난',\n",
       " '[UNK]',\n",
       " '[UNK]',\n",
       " '[UNK]',\n",
       " '[UNK]',\n",
       " '성',\n",
       " '[UNK]',\n",
       " '[UNK]',\n",
       " '[UNK]',\n",
       " '[UNK]',\n",
       " '[UNK]',\n",
       " '시',\n",
       " '우',\n",
       " '##자',\n",
       " '##링',\n",
       " '[UNK]',\n",
       " '[UNK]',\n",
       " '[UNK]',\n",
       " '[UNK]',\n",
       " '[UNK]',\n",
       " '가',\n",
       " '한',\n",
       " '시장',\n",
       " '##에',\n",
       " '##서',\n",
       " '14',\n",
       " '##일',\n",
       " '오전',\n",
       " '10',\n",
       " '##시',\n",
       " '15',\n",
       " '##분',\n",
       " '##께',\n",
       " '칼',\n",
       " '##부',\n",
       " '##림',\n",
       " '사건',\n",
       " '##이',\n",
       " '일어나',\n",
       " '5',\n",
       " '##명',\n",
       " '##이',\n",
       " '숨',\n",
       " '##지',\n",
       " '##고',\n",
       " '1',\n",
       " '##명',\n",
       " '##이',\n",
       " '부상',\n",
       " '##했',\n",
       " '##다고',\n",
       " '중',\n",
       " '##신',\n",
       " '##넷',\n",
       " '##이',\n",
       " '14',\n",
       " '##일',\n",
       " '보도',\n",
       " '##했',\n",
       " '##다',\n",
       " '.']"
      ]
     },
     "execution_count": 16,
     "metadata": {},
     "output_type": "execute_result"
    }
   ],
   "source": [
    "tokenizer.encode(corpus_char[idx]).tokens"
   ]
  },
  {
   "cell_type": "code",
   "execution_count": 17,
   "metadata": {},
   "outputs": [],
   "source": [
    "labels = get_token_labels(corpus_char[idx], corpus_bio[idx], tokenizer)"
   ]
  },
  {
   "cell_type": "code",
   "execution_count": 18,
   "metadata": {},
   "outputs": [
    {
     "data": {
      "text/plain": [
       "['O', 'O', 'O', 'B-LC', 'I-LC', 'I-LC', 'I-LC', 'I-LC', 'I-LC', 'O']"
      ]
     },
     "execution_count": 18,
     "metadata": {},
     "output_type": "execute_result"
    }
   ],
   "source": [
    "corpus_bio[0][:10]"
   ]
  },
  {
   "cell_type": "code",
   "execution_count": 19,
   "metadata": {},
   "outputs": [],
   "source": [
    "from itertools import zip_longest"
   ]
  },
  {
   "cell_type": "code",
   "execution_count": 20,
   "metadata": {},
   "outputs": [
    {
     "data": {
      "text/plain": [
       "[('중', 'B-LC'),\n",
       " ('국', 'I-LC'),\n",
       " (' ', 'I-LC'),\n",
       " ('후', 'I-LC'),\n",
       " ('난', 'I-LC'),\n",
       " ('(', 'I-LC'),\n",
       " ('湖', 'I-LC'),\n",
       " ('南', 'I-LC'),\n",
       " (')', 'I-LC'),\n",
       " ('성', 'I-LC'),\n",
       " (' ', 'I-LC'),\n",
       " ('창', 'I-LC'),\n",
       " ('샤', 'I-LC'),\n",
       " ('(', 'I-LC'),\n",
       " ('長', 'I-LC'),\n",
       " ('沙', 'I-LC'),\n",
       " (')', 'I-LC'),\n",
       " ('시', 'I-LC'),\n",
       " (' ', 'I-LC'),\n",
       " ('우', 'I-LC'),\n",
       " ('자', 'I-LC'),\n",
       " ('링', 'I-LC'),\n",
       " ('(', 'I-LC'),\n",
       " ('五', 'I-LC'),\n",
       " ('家', 'I-LC'),\n",
       " ('岭', 'I-LC'),\n",
       " (')', 'I-LC'),\n",
       " ('가', 'I-LC'),\n",
       " (' ', 'O'),\n",
       " ('한', 'O'),\n",
       " (' ', 'O'),\n",
       " ('시', 'O'),\n",
       " ('장', 'O'),\n",
       " ('에', 'O'),\n",
       " ('서', 'O'),\n",
       " (' ', 'O'),\n",
       " ('1', 'B-DT'),\n",
       " ('4', 'I-DT'),\n",
       " ('일', 'I-DT'),\n",
       " (' ', 'O'),\n",
       " ('오', 'B-TI'),\n",
       " ('전', 'I-TI'),\n",
       " (' ', 'I-TI'),\n",
       " ('1', 'I-TI'),\n",
       " ('0', 'I-TI'),\n",
       " ('시', 'I-TI'),\n",
       " (' ', 'I-TI'),\n",
       " ('1', 'I-TI'),\n",
       " ('5', 'I-TI'),\n",
       " ('분', 'I-TI'),\n",
       " ('께', 'O'),\n",
       " (' ', 'O'),\n",
       " ('칼', 'O'),\n",
       " ('부', 'O'),\n",
       " ('림', 'O'),\n",
       " (' ', 'O'),\n",
       " ('사', 'O'),\n",
       " ('건', 'O'),\n",
       " ('이', 'O'),\n",
       " (' ', 'O'),\n",
       " ('일', 'O'),\n",
       " ('어', 'O'),\n",
       " ('나', 'O'),\n",
       " (' ', 'O'),\n",
       " ('5', 'B-QT'),\n",
       " ('명', 'I-QT'),\n",
       " ('이', 'O'),\n",
       " (' ', 'O'),\n",
       " ('숨', 'O'),\n",
       " ('지', 'O'),\n",
       " ('고', 'O'),\n",
       " (' ', 'O'),\n",
       " ('1', 'B-QT'),\n",
       " ('명', 'I-QT'),\n",
       " ('이', 'O'),\n",
       " (' ', 'O'),\n",
       " ('부', 'O'),\n",
       " ('상', 'O'),\n",
       " ('했', 'O'),\n",
       " ('다', 'O'),\n",
       " ('고', 'O'),\n",
       " (' ', 'O'),\n",
       " ('중', 'B-OG'),\n",
       " ('신', 'I-OG'),\n",
       " ('넷', 'I-OG'),\n",
       " ('이', 'O'),\n",
       " (' ', 'O'),\n",
       " ('1', 'B-DT'),\n",
       " ('4', 'I-DT'),\n",
       " ('일', 'I-DT'),\n",
       " (' ', 'O'),\n",
       " ('보', 'O'),\n",
       " ('도', 'O'),\n",
       " ('했', 'O'),\n",
       " ('다', 'O'),\n",
       " ('.', 'O')]"
      ]
     },
     "execution_count": 20,
     "metadata": {},
     "output_type": "execute_result"
    }
   ],
   "source": [
    "list(zip(corpus_char[idx], corpus_bio[idx]))"
   ]
  },
  {
   "cell_type": "code",
   "execution_count": 21,
   "metadata": {},
   "outputs": [
    {
     "data": {
      "text/plain": [
       "[('중국', 'B-LC'),\n",
       " ('후', 'I-LC'),\n",
       " ('##난', 'I-LC'),\n",
       " ('[UNK]', 'I-LC'),\n",
       " ('[UNK]', 'I-LC'),\n",
       " ('[UNK]', 'I-LC'),\n",
       " ('[UNK]', 'I-LC'),\n",
       " ('성', 'I-LC'),\n",
       " ('[UNK]', 'I-LC'),\n",
       " ('[UNK]', 'I-LC'),\n",
       " ('[UNK]', 'I-LC'),\n",
       " ('[UNK]', 'I-LC'),\n",
       " ('[UNK]', 'I-LC'),\n",
       " ('시', 'I-LC'),\n",
       " ('우', 'I-LC'),\n",
       " ('##자', 'I-LC'),\n",
       " ('##링', 'I-LC'),\n",
       " ('[UNK]', 'I-LC'),\n",
       " ('[UNK]', 'I-LC'),\n",
       " ('[UNK]', 'I-LC'),\n",
       " ('[UNK]', 'I-LC'),\n",
       " ('[UNK]', 'I-LC'),\n",
       " ('가', 'I-LC'),\n",
       " ('한', 'O'),\n",
       " ('시장', 'O'),\n",
       " ('##에', 'O'),\n",
       " ('##서', 'O'),\n",
       " ('14', 'B-DT'),\n",
       " ('##일', 'I-DT'),\n",
       " ('오전', 'B-TI'),\n",
       " ('10', 'I-TI'),\n",
       " ('##시', 'I-TI'),\n",
       " ('15', 'I-TI'),\n",
       " ('##분', 'I-TI'),\n",
       " ('##께', 'O'),\n",
       " ('칼', 'O'),\n",
       " ('##부', 'O'),\n",
       " ('##림', 'O'),\n",
       " ('사건', 'O'),\n",
       " ('##이', 'O'),\n",
       " ('일어나', 'O'),\n",
       " ('5', 'B-QT'),\n",
       " ('##명', 'I-QT'),\n",
       " ('##이', 'O'),\n",
       " ('숨', 'O'),\n",
       " ('##지', 'O'),\n",
       " ('##고', 'O'),\n",
       " ('1', 'B-QT'),\n",
       " ('##명', 'I-QT'),\n",
       " ('##이', 'O'),\n",
       " ('부상', 'O'),\n",
       " ('##했', 'O'),\n",
       " ('##다고', 'O'),\n",
       " ('중', 'B-OG'),\n",
       " ('##신', 'I-OG'),\n",
       " ('##넷', 'I-OG'),\n",
       " ('##이', 'O'),\n",
       " ('14', 'B-DT'),\n",
       " ('##일', 'I-DT'),\n",
       " ('보도', 'O'),\n",
       " ('##했', 'O'),\n",
       " ('##다', 'O'),\n",
       " ('.', 'O')]"
      ]
     },
     "execution_count": 21,
     "metadata": {},
     "output_type": "execute_result"
    }
   ],
   "source": [
    "list(zip_longest(tokenized_char[idx], labels))"
   ]
  },
  {
   "cell_type": "code",
   "execution_count": null,
   "metadata": {},
   "outputs": [],
   "source": []
  },
  {
   "cell_type": "code",
   "execution_count": null,
   "metadata": {},
   "outputs": [],
   "source": []
  }
 ],
 "metadata": {
  "kernelspec": {
   "display_name": "long36v",
   "language": "python",
   "name": "long36v"
  },
  "language_info": {
   "codemirror_mode": {
    "name": "ipython",
    "version": 3
   },
   "file_extension": ".py",
   "mimetype": "text/x-python",
   "name": "python",
   "nbconvert_exporter": "python",
   "pygments_lexer": "ipython3",
   "version": "3.6.12"
  }
 },
 "nbformat": 4,
 "nbformat_minor": 4
}
