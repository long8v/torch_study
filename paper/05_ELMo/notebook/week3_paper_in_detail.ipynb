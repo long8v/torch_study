{
 "cells": [
  {
   "cell_type": "markdown",
   "metadata": {},
   "source": [
    "# week 3 \n",
    "저번주에 잘못한 것 수정하기 + 데이터셋 청원 데이터로 바꾸기\n",
    "\n",
    "0) 데이터셋 변경 (v)<br>\n",
    "1) forward, backward 는 k번째 토큰을 k 전의 토큰으로 예측 k 뒤의 토큰으로 예측함 (v)<br>\n",
    "→ rnn에서 hidden state forward, backward hidden 가져오면 됨. 어차피 time-step으로 예측함<br>\n",
    "2) padding : 0,  unk : 1 (v)<br>\n",
    "3) eos, sos는 추가하는게 맞겠다 <br>\n",
    "lm에서 eos, sos를 추가하는게 맞나? -> 보류 <br>\n",
    "4) rnn을 for문 돌려서 넣을 필요 없이 바로 넣으면 된다. squeeze같은건 rnn 안에 넣자(src는 어차피 안씀) (v)<br>\n",
    "5) cnn에서 fc를 빼니 마니? (v)<br>\n",
    "6) gpu에서 나온 텐서를 쓰려면 스칼라로 만들어줘야함 <br>\n",
    "epoch_loss += loss.item() : 안하면 epoch_loss에 gpu 할당<br>\n",
    "7) max_len 긴게 너무 많아서 max 로 안구하고 직접 지정해주는게 나을듯 (v)<br>\n",
    "8) sent tokenize (v)<br>\n",
    "9) highway network 추가 (v)\n",
    "\n",
    "====\n",
    "\n",
    "# week  4\n",
    "저번주에 잘못한 것 수정하기<br> \n",
    "1) chr에선 cleaning할 필요 없음 <br>\n",
    "2) max_len이 chr, mecab 달라야함<br>\n",
    "3) loss에서 `.view`하는 부분 <br>\n",
    "4) elmo 모델에서 CNN, RNN 불러오는게 더 맞는듯<br>\n",
    "5) CNN 채널의 output dim이 `sum(filter_size)`이 아니라 `len(filter_size)* N_FILTERS`이 맞음 (맥스풀링 차원이 잘못됨)"
   ]
  },
  {
   "cell_type": "markdown",
   "metadata": {},
   "source": [
    "# Data Download"
   ]
  },
  {
   "cell_type": "code",
   "execution_count": 1,
   "metadata": {},
   "outputs": [],
   "source": [
    "device = 'cuda'"
   ]
  },
  {
   "cell_type": "code",
   "execution_count": 2,
   "metadata": {},
   "outputs": [],
   "source": [
    "with open('../data/petitions_2019-01.txt', 'r') as f:\n",
    "    corpus = f.readlines()"
   ]
  },
  {
   "cell_type": "code",
   "execution_count": 3,
   "metadata": {},
   "outputs": [],
   "source": [
    "json_list = [eval(json.strip()) for json in corpus]"
   ]
  },
  {
   "cell_type": "code",
   "execution_count": 4,
   "metadata": {},
   "outputs": [],
   "source": [
    "corpus = [json['content'] for json in json_list]"
   ]
  },
  {
   "cell_type": "code",
   "execution_count": 5,
   "metadata": {},
   "outputs": [],
   "source": [
    "import pickle"
   ]
  },
  {
   "cell_type": "code",
   "execution_count": 6,
   "metadata": {},
   "outputs": [],
   "source": [
    "with open('../data/petitions_dev.p', 'wb') as f:\n",
    "    pickle.dump(corpus[:1024], f)"
   ]
  },
  {
   "cell_type": "code",
   "execution_count": 7,
   "metadata": {},
   "outputs": [],
   "source": [
    "with open('../data/petitions.p', 'wb') as f:\n",
    "    pickle.dump(corpus, f)"
   ]
  },
  {
   "cell_type": "markdown",
   "metadata": {},
   "source": [
    "# data preprocess"
   ]
  },
  {
   "cell_type": "code",
   "execution_count": 8,
   "metadata": {},
   "outputs": [],
   "source": [
    "import re\n",
    "import mecab\n",
    "import torch\n",
    "import numpy as np\n",
    "import torch.nn as nn\n",
    "import torch.optim as optim\n",
    "\n",
    "import torchtext\n",
    "import sys\n",
    "sys.path.append('../source')\n",
    "from txt_cleaner.clean.master import MasterCleaner\n",
    "from txt_cleaner.utils import *\n",
    "from torch8text.data import Vocab, Field"
   ]
  },
  {
   "cell_type": "markdown",
   "metadata": {},
   "source": [
    "## sent_tokenize"
   ]
  },
  {
   "cell_type": "code",
   "execution_count": 9,
   "metadata": {},
   "outputs": [
    {
     "data": {
      "text/plain": [
       "['안녕하세요?', '반갑습니다.', '오늘은 엘모를 구현보겠습니다?']"
      ]
     },
     "execution_count": 9,
     "metadata": {},
     "output_type": "execute_result"
    }
   ],
   "source": [
    "from nltk.tokenize import sent_tokenize\n",
    "sent_tokenize('안녕하세요? 반갑습니다. 오늘은 엘모를 구현보겠습니다?')"
   ]
  },
  {
   "cell_type": "markdown",
   "metadata": {},
   "source": [
    "## field 1: mecab 사용 field"
   ]
  },
  {
   "cell_type": "code",
   "execution_count": 10,
   "metadata": {},
   "outputs": [],
   "source": [
    "pos = mecab.MeCab()\n",
    "\n",
    "def tokenize_pos(inp):\n",
    "    if type(inp) == str:\n",
    "        return pos.morphs(inp)\n",
    "    if type(inp) == list:\n",
    "        return [tokenize_pos(i) for i in inp]"
   ]
  },
  {
   "cell_type": "code",
   "execution_count": 11,
   "metadata": {},
   "outputs": [
    {
     "data": {
      "text/plain": [
       "(['안녕', '하', '세요'],\n",
       " [['안녕', '하', '세요'], ['안녕', '?']],\n",
       " [[['안녕', '하', '세요']], [['안녕', '?']]])"
      ]
     },
     "execution_count": 11,
     "metadata": {},
     "output_type": "execute_result"
    }
   ],
   "source": [
    "tokenize_pos('안녕하세요'), tokenize_pos(['안녕하세요', '안녕?']), tokenize_pos([['안녕하세요'], ['안녕?']])"
   ]
  },
  {
   "cell_type": "markdown",
   "metadata": {},
   "source": [
    "### 수인님 cleaner "
   ]
  },
  {
   "cell_type": "code",
   "execution_count": 12,
   "metadata": {},
   "outputs": [
    {
     "name": "stdout",
     "output_type": "stream",
     "text": [
      "size 1 dictionary is read from ../source/txt_cleaner/cleaner_config.json\n"
     ]
    }
   ],
   "source": [
    "config = json_reader('../source/txt_cleaner/cleaner_config.json')"
   ]
  },
  {
   "cell_type": "code",
   "execution_count": 13,
   "metadata": {},
   "outputs": [
    {
     "data": {
      "text/plain": [
       "{'minimum_space_count': 2}"
      ]
     },
     "execution_count": 13,
     "metadata": {},
     "output_type": "execute_result"
    }
   ],
   "source": [
    "config['minimum_space_count'] = 2\n",
    "config"
   ]
  },
  {
   "cell_type": "code",
   "execution_count": 14,
   "metadata": {},
   "outputs": [
    {
     "data": {
      "text/plain": [
       "'안녕하세요? 반갑습니다! 행복하세요'"
      ]
     },
     "execution_count": 14,
     "metadata": {},
     "output_type": "execute_result"
    }
   ],
   "source": [
    "cleaner = MasterCleaner(config)\n",
    "cleaner.cleaning('안녕하세요? 반갑습니다! 행복하세요~**')"
   ]
  },
  {
   "cell_type": "code",
   "execution_count": 15,
   "metadata": {},
   "outputs": [
    {
     "data": {
      "text/plain": [
       "[['안녕', '하', '세요'], ['안녕']]"
      ]
     },
     "execution_count": 15,
     "metadata": {},
     "output_type": "execute_result"
    }
   ],
   "source": [
    "tokenize_pos(['안녕하세요', '안녕'])"
   ]
  },
  {
   "cell_type": "code",
   "execution_count": 16,
   "metadata": {},
   "outputs": [],
   "source": [
    "def flatten(S):\n",
    "    if S == []:\n",
    "        return S\n",
    "    if isinstance(S[0], list):\n",
    "        return flatten(S[0]) + flatten(S[1:])\n",
    "    return S[:1] + flatten(S[1:])"
   ]
  },
  {
   "cell_type": "code",
   "execution_count": 17,
   "metadata": {},
   "outputs": [],
   "source": [
    "token_max_len = 40"
   ]
  },
  {
   "cell_type": "code",
   "execution_count": 18,
   "metadata": {},
   "outputs": [],
   "source": [
    "mecab_field = Field(tokenize = tokenize_pos, \n",
    "                    preprocessing = lambda e: cleaner.cleaning(e),\n",
    "                    init_token = False,\n",
    "                    eos_token = False,\n",
    "                    max_len = token_max_len\n",
    "                )"
   ]
  },
  {
   "cell_type": "code",
   "execution_count": 19,
   "metadata": {},
   "outputs": [
    {
     "data": {
      "text/plain": [
       "['dks', 'df']"
      ]
     },
     "execution_count": 19,
     "metadata": {},
     "output_type": "execute_result"
    }
   ],
   "source": [
    "flatten([[['dks','df']]])"
   ]
  },
  {
   "cell_type": "code",
   "execution_count": 20,
   "metadata": {},
   "outputs": [
    {
     "data": {
      "text/plain": [
       "['국민과 소통하시고 자유롭고 행복한 나라를 만들기 위해 힘쓰고 계신 대통령께 존경과 찬사를 올립니다.',\n",
       " '기해년 새해 복 많이 받으십시오.',\n",
       " '저는 경북 울진군 북면 부구검성로 12번지에 살고 있는 북면발전협의회장 이희국이라고 합니다.',\n",
       " '저는 8기의 원전이 가동․건설되고 있는 이곳 북면에 태어나 68년째 거주하고 있는 원전지역 주민입니다.',\n",
       " '간절한 마음을 담아 대통령께 다음과 같이 호소 드립니다.']"
      ]
     },
     "execution_count": 20,
     "metadata": {},
     "output_type": "execute_result"
    }
   ],
   "source": [
    "train = [sen\n",
    "         for text in corpus \n",
    "         for sen in sent_tokenize(text)\n",
    "         if cleaner.cleaning(sen)]\n",
    "train[:5]"
   ]
  },
  {
   "cell_type": "code",
   "execution_count": 21,
   "metadata": {},
   "outputs": [
    {
     "data": {
      "text/plain": [
       "['안녕', '하', '세요', '?', '룰루랄라']"
      ]
     },
     "execution_count": 21,
     "metadata": {},
     "output_type": "execute_result"
    }
   ],
   "source": [
    "mecab_field.build_vocab(train)\n",
    "mecab_field.preprocess('안녕하세요? 룰루랄라 ㅇㅇㄹ')"
   ]
  },
  {
   "cell_type": "code",
   "execution_count": 22,
   "metadata": {},
   "outputs": [
    {
     "data": {
      "text/plain": [
       "['국민과 소통하시고 자유롭고 행복한 나라를 만들기 위해 힘쓰고 계신 대통령께 존경과 찬사를 올립니다.',\n",
       " '기해년 새해 복 많이 받으십시오.',\n",
       " '저는 경북 울진군 북면 부구검성로 12번지에 살고 있는 북면발전협의회장 이희국이라고 합니다.']"
      ]
     },
     "execution_count": 22,
     "metadata": {},
     "output_type": "execute_result"
    }
   ],
   "source": [
    "train[:3]"
   ]
  },
  {
   "cell_type": "markdown",
   "metadata": {},
   "source": [
    "## field 2:  chr-level field"
   ]
  },
  {
   "cell_type": "code",
   "execution_count": 23,
   "metadata": {},
   "outputs": [],
   "source": [
    "chr_field = Field(tokenize = list, \n",
    "                  init_token = False,\n",
    "                  eos_token = False,\n",
    "                )"
   ]
  },
  {
   "cell_type": "code",
   "execution_count": 24,
   "metadata": {},
   "outputs": [],
   "source": [
    "chr_field.build_vocab(train)"
   ]
  },
  {
   "cell_type": "code",
   "execution_count": 25,
   "metadata": {},
   "outputs": [
    {
     "data": {
      "text/plain": [
       "[75, 546, 10, 64, 50, 355, 421]"
      ]
     },
     "execution_count": 25,
     "metadata": {},
     "output_type": "execute_result"
    }
   ],
   "source": [
    "token_chr = chr_field.preprocess('안녕하세요sd')\n",
    "chr_field.process(token_chr)"
   ]
  },
  {
   "cell_type": "markdown",
   "metadata": {},
   "source": [
    "# dataset, dataloader"
   ]
  },
  {
   "cell_type": "code",
   "execution_count": 26,
   "metadata": {},
   "outputs": [],
   "source": [
    "from torch.nn.utils.rnn import pad_sequence, pack_padded_sequence\n",
    "from dataset import *"
   ]
  },
  {
   "cell_type": "code",
   "execution_count": 27,
   "metadata": {},
   "outputs": [],
   "source": [
    "chr_max_len = 3"
   ]
  },
  {
   "cell_type": "code",
   "execution_count": 28,
   "metadata": {},
   "outputs": [],
   "source": [
    "ds = ELMoDataset(train, mecab_field, chr_field, token_max_len = token_max_len, chr_max_len = chr_max_len)"
   ]
  },
  {
   "cell_type": "code",
   "execution_count": 29,
   "metadata": {},
   "outputs": [],
   "source": [
    "X  = [torch.tensor([[72,  0,  0,  0,  0]]), torch.tensor([[0, 0, 0, 0, 0]])]"
   ]
  },
  {
   "cell_type": "code",
   "execution_count": 30,
   "metadata": {},
   "outputs": [
    {
     "data": {
      "text/plain": [
       "tensor([[72,  0,  0,  0,  0],\n",
       "        [ 0,  0,  0,  0,  0]])"
      ]
     },
     "execution_count": 30,
     "metadata": {},
     "output_type": "execute_result"
    }
   ],
   "source": [
    "torch.cat(X)"
   ]
  },
  {
   "cell_type": "code",
   "execution_count": 31,
   "metadata": {},
   "outputs": [
    {
     "data": {
      "text/plain": [
       "[['e', 'k'], ['e', 'd', 'd']]"
      ]
     },
     "execution_count": 31,
     "metadata": {},
     "output_type": "execute_result"
    }
   ],
   "source": [
    "chr_field.preprocess(['ek', 'edd'])"
   ]
  },
  {
   "cell_type": "code",
   "execution_count": 32,
   "metadata": {},
   "outputs": [],
   "source": [
    "# train"
   ]
  },
  {
   "cell_type": "code",
   "execution_count": 33,
   "metadata": {},
   "outputs": [
    {
     "name": "stdout",
     "output_type": "stream",
     "text": [
      "['안녕', '하', '세요', '반갑', '습니', 'ek', 'edd']\n",
      "[['안', '녕'], ['하'], ['세', '요'], ['반', '갑'], ['습', '니'], ['e', 'k'], ['e', 'd', 'd']]\n",
      "tensor([[ 75, 546,   0],\n",
      "        [ 10,   0,   0],\n",
      "        [ 64,  50,   0],\n",
      "        [173, 419,   0],\n",
      "        [ 49,  11,   0],\n",
      "        [295, 500,   0],\n",
      "        [295, 421, 421]])\n"
     ]
    }
   ],
   "source": [
    "data = '안녕하세요 반갑습니ek edd'\n",
    "token_data = mecab_field.preprocess(data)\n",
    "print(token_data)\n",
    "token_chr_data = chr_field.preprocess(token_data) \n",
    "print(token_chr_data)\n",
    "process_chr = chr_field.pad_process(token_chr_data, max_len = chr_max_len)\n",
    "print(process_chr)"
   ]
  },
  {
   "cell_type": "code",
   "execution_count": 34,
   "metadata": {},
   "outputs": [
    {
     "data": {
      "text/plain": [
       "torch.Size([7, 3])"
      ]
     },
     "execution_count": 34,
     "metadata": {},
     "output_type": "execute_result"
    }
   ],
   "source": [
    "process_chr.shape"
   ]
  },
  {
   "cell_type": "code",
   "execution_count": 35,
   "metadata": {},
   "outputs": [
    {
     "data": {
      "text/plain": [
       "data(src_chr=tensor([[ 22,  24,   0],\n",
       "        [ 94,   0,   0],\n",
       "        [390,  24,   0],\n",
       "        [203,   0,   0],\n",
       "        [169,   5,   0],\n",
       "        [128,   0,   0],\n",
       "        [ 40, 286,  29],\n",
       "        [  7,   0,   0]]), trg=tensor([  47, 1860, 1948,  176,   48, 7827,    4]))"
      ]
     },
     "execution_count": 35,
     "metadata": {},
     "output_type": "execute_result"
    }
   ],
   "source": [
    "ds[1]"
   ]
  },
  {
   "cell_type": "code",
   "execution_count": 36,
   "metadata": {},
   "outputs": [],
   "source": [
    "def see_process(data):\n",
    "    token_data = mecab_field.preprocess(data)\n",
    "    print(token_data)\n",
    "    token_chr_data = chr_field.preprocess(token_data) \n",
    "    print(token_chr_data)\n",
    "    process_chr = chr_field.pad_process(token_chr_data, max_len = chr_max_len)\n",
    "    print(process_chr)"
   ]
  },
  {
   "cell_type": "code",
   "execution_count": 37,
   "metadata": {},
   "outputs": [
    {
     "name": "stdout",
     "output_type": "stream",
     "text": [
      "국민과 소통하시고 자유롭고 행복한 나라를 만들기 위해 힘쓰고 계신 대통령께 존경과 찬사를 올립니다.\n",
      "['국민', '과', '소통', '하', '시', '고', '자유', '롭', '고', '행복', '한', '나라', '를', '만들', '기', '위해', '힘쓰', '고', '계신', '대통령', '께', '존경', '과', '찬사', '를', '올립니다', '.']\n",
      "[['국', '민'], ['과'], ['소', '통'], ['하'], ['시'], ['고'], ['자', '유'], ['롭'], ['고'], ['행', '복'], ['한'], ['나', '라'], ['를'], ['만', '들'], ['기'], ['위', '해'], ['힘', '쓰'], ['고'], ['계', '신'], ['대', '통', '령'], ['께'], ['존', '경'], ['과'], ['찬', '사'], ['를'], ['올', '립', '니', '다'], ['.']]\n",
      "tensor([[ 36,  56,   0],\n",
      "        [ 66,   0,   0],\n",
      "        [ 74, 114,   0],\n",
      "        [ 10,   0,   0],\n",
      "        [ 29,   0,   0],\n",
      "        [  9,   0,   0],\n",
      "        [ 28, 109,   0],\n",
      "        [562,   0,   0],\n",
      "        [  9,   0,   0],\n",
      "        [ 95, 203,   0],\n",
      "        [ 18,   0,   0],\n",
      "        [ 38,  39,   0],\n",
      "        [ 30,   0,   0],\n",
      "        [ 47,  23,   0],\n",
      "        [ 22,   0,   0],\n",
      "        [ 81,  24,   0],\n",
      "        [274, 346,   0],\n",
      "        [  9,   0,   0],\n",
      "        [116,  79,   0],\n",
      "        [ 26, 114, 202],\n",
      "        [351,   0,   0],\n",
      "        [383,  84,   0],\n",
      "        [ 66,   0,   0],\n",
      "        [558,  19,   0],\n",
      "        [ 30,   0,   0],\n",
      "        [230, 261,  11],\n",
      "        [  7,   0,   0]])\n",
      "tensor([[ 36,  56,   0],\n",
      "        [ 66,   0,   0],\n",
      "        [ 74, 114,   0],\n",
      "        [ 10,   0,   0],\n",
      "        [ 29,   0,   0],\n",
      "        [  9,   0,   0],\n",
      "        [ 28, 109,   0],\n",
      "        [562,   0,   0],\n",
      "        [  9,   0,   0],\n",
      "        [ 95, 203,   0],\n",
      "        [ 18,   0,   0],\n",
      "        [ 38,  39,   0],\n",
      "        [ 30,   0,   0],\n",
      "        [ 47,  23,   0],\n",
      "        [ 22,   0,   0],\n",
      "        [ 81,  24,   0],\n",
      "        [274, 346,   0],\n",
      "        [  9,   0,   0],\n",
      "        [116,  79,   0],\n",
      "        [ 26, 114, 202],\n",
      "        [351,   0,   0],\n",
      "        [383,  84,   0],\n",
      "        [ 66,   0,   0],\n",
      "        [558,  19,   0],\n",
      "        [ 30,   0,   0],\n",
      "        [230, 261,  11],\n",
      "        [  7,   0,   0]])\n",
      "tensor([   35,  1711,     7,    52,     9,   368,  1331,     9,   817,    19,\n",
      "           67,    13,   140,    43,   134,  5522,     9,  2273,    93,   684,\n",
      "         1468,    35, 15517,    13,  1087,     4])\n"
     ]
    }
   ],
   "source": [
    "for original, batch in zip(train, ds):\n",
    "    print(original)\n",
    "    see_process(original)\n",
    "    print(batch.src_chr)\n",
    "    print(batch.trg)\n",
    "    break"
   ]
  },
  {
   "cell_type": "code",
   "execution_count": 38,
   "metadata": {},
   "outputs": [],
   "source": [
    "# mecab_field.vocab.stoi_dict"
   ]
  },
  {
   "cell_type": "code",
   "execution_count": 39,
   "metadata": {},
   "outputs": [],
   "source": [
    "def pad_collate(batch):\n",
    "    (src_chr, trg) = zip(*batch)\n",
    "    named_tuple = namedtuple('data', ['src_chr', 'trg'])\n",
    "    src_chr_pad = pad_sequence(src_chr, batch_first=True, padding_value=0)\n",
    "    trg_pad = pad_sequence(trg, batch_first=True, padding_value=0)\n",
    "    return named_tuple(src_chr_pad, trg_pad)"
   ]
  },
  {
   "cell_type": "code",
   "execution_count": 40,
   "metadata": {},
   "outputs": [],
   "source": [
    "BATCH_SIZE = 16"
   ]
  },
  {
   "cell_type": "code",
   "execution_count": 41,
   "metadata": {},
   "outputs": [
    {
     "name": "stdout",
     "output_type": "stream",
     "text": [
      "tensor([[[ 36,  56,   0],\n",
      "         [ 66,   0,   0],\n",
      "         [ 74, 114,   0],\n",
      "         ...,\n",
      "         [  0,   0,   0],\n",
      "         [  0,   0,   0],\n",
      "         [  0,   0,   0]],\n",
      "\n",
      "        [[ 22,  24,   0],\n",
      "         [ 94,   0,   0],\n",
      "         [390,  24,   0],\n",
      "         ...,\n",
      "         [  0,   0,   0],\n",
      "         [  0,   0,   0],\n",
      "         [  0,   0,   0]],\n",
      "\n",
      "        [[ 85,   0,   0],\n",
      "         [  8,   0,   0],\n",
      "         [ 84, 326,   0],\n",
      "         ...,\n",
      "         [  0,   0,   0],\n",
      "         [  0,   0,   0],\n",
      "         [  0,   0,   0]],\n",
      "\n",
      "        ...,\n",
      "\n",
      "        [[224, 131,   0],\n",
      "         [208,  56,   0],\n",
      "         [ 66,   0,   0],\n",
      "         ...,\n",
      "         [ 10,   0,   0],\n",
      "         [ 13,   0,   0],\n",
      "         [108,   0,   0]],\n",
      "\n",
      "        [[ 51,  59,   0],\n",
      "         [  5,   0,   0],\n",
      "         [148,  20,   0],\n",
      "         ...,\n",
      "         [  0,   0,   0],\n",
      "         [  0,   0,   0],\n",
      "         [  0,   0,   0]],\n",
      "\n",
      "        [[224, 131, 208],\n",
      "         [ 56,  25,   0],\n",
      "         [ 32,  44,   0],\n",
      "         ...,\n",
      "         [  0,   0,   0],\n",
      "         [  0,   0,   0],\n",
      "         [  0,   0,   0]]])\n",
      "torch.Size([16, 40, 3])\n",
      "torch.Size([16, 39])\n"
     ]
    }
   ],
   "source": [
    "dl = DataLoader(ds, batch_size = BATCH_SIZE, collate_fn = pad_collate)\n",
    "for _ in dl:\n",
    "    print(_.src_chr.data)\n",
    "    print(_.src_chr.data.shape)\n",
    "    print(_.trg.data.shape)\n",
    "    break"
   ]
  },
  {
   "cell_type": "markdown",
   "metadata": {},
   "source": [
    "# CNN + highway"
   ]
  },
  {
   "attachments": {
    "f40d3859-4ef1-4ea6-98d1-0078e1542a86.png": {
     "image/png": "[encoded data removed]"
    }
   },
   "cell_type": "markdown",
   "metadata": {},
   "source": [
    "![image.png](attachment:f40d3859-4ef1-4ea6-98d1-0078e1542a86.png)"
   ]
  },
  {
   "cell_type": "code",
   "execution_count": 63,
   "metadata": {},
   "outputs": [],
   "source": [
    "class CNN(nn.Module):\n",
    "    def __init__(self, vocab_size, embedding_dim, n_filters, filter_sizes, output_dim, \n",
    "                 dropout, pad_idx):\n",
    "        \n",
    "        super().__init__()\n",
    "        \n",
    "        self.n_filters = n_filters\n",
    "\n",
    "        self.embedding = nn.Embedding(vocab_size, embedding_dim, padding_idx = pad_idx)\n",
    "        \n",
    "        self.conv_0 = nn.Conv2d(in_channels = 1, \n",
    "                                out_channels = n_filters, \n",
    "                                kernel_size = (filter_sizes[0], embedding_dim)) \n",
    "        \n",
    "        self.conv_1 = nn.Conv2d(in_channels = 1, \n",
    "                                out_channels = n_filters, \n",
    "                                kernel_size = (filter_sizes[1], embedding_dim))\n",
    "        \n",
    "        self.conv_2 = nn.Conv2d(in_channels = 1, \n",
    "                        out_channels = n_filters, \n",
    "                        kernel_size = (filter_sizes[2], embedding_dim))\n",
    "\n",
    "        \n",
    "        self.fc = nn.Linear(len(filter_sizes) * n_filters, output_dim)\n",
    "        \n",
    "        self.dropout = nn.Dropout(dropout)\n",
    "        \n",
    "    def forward(self, text):\n",
    "                \n",
    "        #text = [batch size, sent len, token len]\n",
    "#         print(text.shape) # torch.Size([16, 64, 3])\n",
    "        bs, max_seq_len, max_chr_len = text.shape\n",
    "        \n",
    "        embedded = self.embedding(text.reshape(-1, max_chr_len).unsqueeze(1))\n",
    "#         print(embedded.shape) # batch_size * max_seq_len, 1, max_chr_len, embed_dim\n",
    "        \n",
    "        conved_0 = F.relu(self.conv_0(embedded).squeeze(3))\n",
    "        conved_1 = F.relu(self.conv_1(embedded).squeeze(3))\n",
    "        conved_2 = F.relu(self.conv_2(embedded).squeeze(3))\n",
    "#         print(conved_0.shape, conved_1.shape, conved_2.shape) \n",
    "#           torch.Size([1024, 10, 3]) torch.Size([1024, 10, 2]) torch.Size([1024, 10, 1]) \n",
    "#         print('conv', conved_0.shape) # [640, 10, 3]\n",
    "        pooled_0, _  = torch.max(conved_0, dim = -1)\n",
    "#         print('pool', pooled_0.shape) # [1024, 3]\n",
    "        pooled_1, _ = torch.max(conved_1, dim = -1)\n",
    "        pooled_2, _ = torch.max(conved_2, dim = -1)\n",
    "        cat = self.dropout(torch.cat((pooled_0, pooled_1, pooled_2), dim = -1))\n",
    "#         print('cat', cat.shape) # 640, 30\n",
    "        cat = cat.view(bs, max_seq_len, -1) \n",
    "        return cat"
   ]
  },
  {
   "cell_type": "code",
   "execution_count": 64,
   "metadata": {},
   "outputs": [],
   "source": [
    "VOCAB_SIZE = len(chr_field.vocab)\n",
    "EMBEDDING_DIM = 1024\n",
    "N_FILTERS = 10\n",
    "FILTER_SIZES = (1, 2, 3)\n",
    "PAD_IDX = chr_field.vocab.stoi_dict['<PAD>']\n",
    "SPECIAL_TOKENS = chr_field.vocab.special_tokens\n",
    "SPECIAL_TOKENS_INDEX = chr_field.vocab.special_tokens_idx\n",
    "OUTPUT_DIM = 512\n",
    "DROPOUT = 0.5"
   ]
  },
  {
   "cell_type": "code",
   "execution_count": 65,
   "metadata": {},
   "outputs": [],
   "source": [
    "cnn = CNN(VOCAB_SIZE, EMBEDDING_DIM, N_FILTERS, FILTER_SIZES, OUTPUT_DIM, DROPOUT, PAD_IDX)"
   ]
  },
  {
   "cell_type": "code",
   "execution_count": 66,
   "metadata": {},
   "outputs": [
    {
     "data": {
      "text/plain": [
       "torch.Size([16, 40, 3])"
      ]
     },
     "execution_count": 66,
     "metadata": {},
     "output_type": "execute_result"
    }
   ],
   "source": [
    "_.src_chr.data.shape # batch_size, max_seq_len(문장 내 토큰 개수), max_chr_len(토큰 내 chr개수)"
   ]
  },
  {
   "cell_type": "code",
   "execution_count": 67,
   "metadata": {},
   "outputs": [
    {
     "data": {
      "text/plain": [
       "torch.Size([16, 40, 30])"
      ]
     },
     "execution_count": 67,
     "metadata": {},
     "output_type": "execute_result"
    }
   ],
   "source": [
    "cnn_output = cnn(_.src_chr.data) # batch_size(=16) * max_seq_len(=40), 1(channel 개수), max_chr_len \n",
    "cnn_output.shape # 3 (from conv 1) + 2 (from conv 2) + 1 (from conv 3)"
   ]
  },
  {
   "cell_type": "code",
   "execution_count": 78,
   "metadata": {},
   "outputs": [],
   "source": [
    "# https://github.com/kefirski/pytorch_Highway/blob/master/highway/highway.py\n",
    "class Highway(nn.Module):\n",
    "    def __init__(self, size, num_layers, f):\n",
    "\n",
    "        super(Highway, self).__init__()\n",
    "\n",
    "        self.num_layers = num_layers\n",
    "        self.nonlinear = nn.ModuleList([nn.Linear(size, size) for _ in range(num_layers)])\n",
    "        self.linear = nn.ModuleList([nn.Linear(size, size) for _ in range(num_layers)])\n",
    "        self.gate = nn.ModuleList([nn.Linear(size, size) for _ in range(num_layers)])\n",
    "        self.f = f\n",
    "\n",
    "    def forward(self, x):\n",
    "        \"\"\"\n",
    "            :param x: tensor with shape of [batch_size, size]\n",
    "            :return: tensor with shape of [batch_size, size]\n",
    "            applies σ(x) ⨀ (f(G(x))) + (1 - σ(x)) ⨀ (Q(x)) transformation | G and Q is affine transformation,\n",
    "            f is non-linear transformation, σ(x) is affine transformation with sigmoid non-linearition\n",
    "            and ⨀ is element-wise multiplication\n",
    "            \"\"\"\n",
    "\n",
    "        for layer in range(self.num_layers):\n",
    "            gate = torch.sigmoid(self.gate[layer](x))\n",
    "\n",
    "            nonlinear = self.f(self.nonlinear[layer](x))\n",
    "            linear = self.linear[layer](x)\n",
    "\n",
    "            x = gate * nonlinear + (1 - gate) * linear\n",
    "\n",
    "        return x"
   ]
  },
  {
   "cell_type": "code",
   "execution_count": 79,
   "metadata": {},
   "outputs": [],
   "source": [
    "HIGHWAY_N_LAYERS = 2"
   ]
  },
  {
   "cell_type": "code",
   "execution_count": 80,
   "metadata": {},
   "outputs": [
    {
     "name": "stdout",
     "output_type": "stream",
     "text": [
      "torch.Size([16, 40, 30])\n"
     ]
    }
   ],
   "source": [
    "highway = Highway(30, HIGHWAY_N_LAYERS, f=torch.nn.functional.relu)\n",
    "highwayed_output = highway(cnn_output)\n",
    "print(highwayed_output.shape)"
   ]
  },
  {
   "cell_type": "code",
   "execution_count": 81,
   "metadata": {},
   "outputs": [],
   "source": [
    "# https://github.com/GyuminJack/torchstudy/blob/main/05May/ELMo/src/models.py\n",
    "class LSTM_LM(nn.Module):\n",
    "    def __init__(self, input_dim, output_dim, hid_dim, n_layers, dropout, bidirectional):\n",
    "        super().__init__()\n",
    "        \n",
    "        self.output_dim = output_dim\n",
    "        self.input_dim = input_dim\n",
    "        self.hid_dim = hid_dim\n",
    "        self.n_layers = n_layers\n",
    "        self.lstm = nn.LSTM(input_dim, hid_dim, n_layers, dropout = dropout, bidirectional = bidirectional, batch_first=True)\n",
    "        self.fc_out = nn.Linear(hid_dim, output_dim)\n",
    "        self.dropout = nn.Dropout(dropout)\n",
    "    \n",
    "    def forward(self, input):\n",
    "        # batch_size, seq_len, 30 -> seq_len, batch_size, 30\n",
    "        input = input.permute(1, 0, 2)\n",
    "        output, (hidden, cell) = self.lstm(input)  \n",
    "        seq_len, bs, _ = output.size()\n",
    "        # output : (seq_len, batch, num_directions * hidden size) -> (seq_len, batch, hidden_size, num_directions)\n",
    "        output = output.reshape(seq_len, bs, 2, -1) # 2 because bidirectional, stacked RNN output is last layer output\n",
    "        forward_hidden, backward_hidden = output[:,:,0,:], output[:,:,1,:]\n",
    "        # forward_hidden : (seq_len, batch, hidden_size)\n",
    "        # forward_prediction : (seq_len, batch, output_dim) -> (batch, seq_len, output_dim)\n",
    "        forward_prediction = self.fc_out(forward_hidden).permute(1, 0, 2)\n",
    "        backward_prediction = self.fc_out(backward_hidden).permute(1, 0, 2)\n",
    "        return forward_prediction, backward_prediction"
   ]
  },
  {
   "cell_type": "code",
   "execution_count": 82,
   "metadata": {},
   "outputs": [],
   "source": [
    "INPUT_DIM = OUTPUT_DIM\n",
    "PREDICT_DIM = len(mecab_field.vocab)\n",
    "HID_DIM = 1024\n",
    "N_LAYERS = 2\n",
    "DROPOUT = 0.5\n",
    "BIDIRECTIONAL = True\n",
    "TRG_PAD_IDX = mecab_field.vocab.stoi_dict['<PAD>']"
   ]
  },
  {
   "cell_type": "code",
   "execution_count": 83,
   "metadata": {},
   "outputs": [],
   "source": [
    "rnn = LSTM_LM(30, PREDICT_DIM, HID_DIM, N_LAYERS, DROPOUT, BIDIRECTIONAL)"
   ]
  },
  {
   "cell_type": "code",
   "execution_count": 84,
   "metadata": {},
   "outputs": [
    {
     "data": {
      "text/plain": [
       "512"
      ]
     },
     "execution_count": 84,
     "metadata": {},
     "output_type": "execute_result"
    }
   ],
   "source": [
    "INPUT_DIM"
   ]
  },
  {
   "cell_type": "code",
   "execution_count": 85,
   "metadata": {},
   "outputs": [
    {
     "data": {
      "text/plain": [
       "torch.Size([16, 40, 30])"
      ]
     },
     "execution_count": 85,
     "metadata": {},
     "output_type": "execute_result"
    }
   ],
   "source": [
    "highwayed_output.shape"
   ]
  },
  {
   "cell_type": "code",
   "execution_count": 86,
   "metadata": {},
   "outputs": [
    {
     "data": {
      "text/plain": [
       "torch.Size([16, 40, 50887])"
      ]
     },
     "execution_count": 86,
     "metadata": {},
     "output_type": "execute_result"
    }
   ],
   "source": [
    "forward_prediction, backward_prediction = rnn(highwayed_output)\n",
    "forward_prediction.shape"
   ]
  },
  {
   "cell_type": "code",
   "execution_count": 87,
   "metadata": {},
   "outputs": [
    {
     "data": {
      "text/plain": [
       "torch.Size([16, 40, 50887])"
      ]
     },
     "execution_count": 87,
     "metadata": {},
     "output_type": "execute_result"
    }
   ],
   "source": [
    "forward_prediction.shape"
   ]
  },
  {
   "cell_type": "code",
   "execution_count": 88,
   "metadata": {},
   "outputs": [
    {
     "data": {
      "text/plain": [
       "tensor([[31856, 31856, 40721, 10887, 10887, 10887, 31856, 10887, 31856, 10887,\n",
       "         44345, 10887, 10887, 10887, 32298, 10887, 10887, 31856, 32298, 10199,\n",
       "         10887, 44345, 34756, 31856, 31856, 31856, 31856, 32298, 34756, 10887,\n",
       "         28773, 31856, 31856, 40721, 10887, 31856, 31856, 31856, 32298,  6782],\n",
       "        [31856, 10887, 10887, 14897, 32298, 10887, 10887, 10887, 41272, 10887,\n",
       "         41517, 10887, 10887, 10887, 32298, 41517, 10887, 31856, 32298, 10887,\n",
       "         10887, 41517, 31856, 10887, 41517, 41517, 10887, 32298, 10887,  6782,\n",
       "         10887, 31856, 34756, 40721, 44345, 34756, 31856, 31856, 34756, 32298],\n",
       "        [41517, 40721, 10887, 10887, 10887, 10887, 10887, 41517, 41272, 41272,\n",
       "         41517, 32298, 10887, 10887, 10199, 41517, 10887, 40721, 34756, 10887,\n",
       "         40721, 41517, 44345, 10887, 41517, 41517, 41517, 10887, 34756, 50331,\n",
       "         41517, 41517, 14897, 41517, 41517, 41517, 31856, 41517, 34756, 18836],\n",
       "        [40721, 10887, 10887, 10887, 41517, 10887, 14897, 41517, 41272, 41517,\n",
       "         41517, 41517, 10887, 10887, 41517, 41517, 10887, 40721, 10887, 14897,\n",
       "         41517, 41517, 41517, 10887, 40721, 41517, 41517, 10887, 10887, 40721,\n",
       "         40721, 41517, 10887, 41517, 41517, 10887, 10887, 40721, 44345, 41517],\n",
       "        [41517, 10887, 41517, 41517, 41517, 41517, 41517, 41517, 14897, 41517,\n",
       "         41517, 41517, 10887, 41517, 41517, 41517, 41517, 10887, 16218, 41517,\n",
       "         41517, 41517, 41517, 41517, 10887, 10887, 41517, 10887, 10887, 10887,\n",
       "         40721, 10887, 10887, 41517, 41517, 41517, 10887, 40721, 40721, 41517],\n",
       "        [41517, 10887, 10887, 44345, 41517, 10887, 14897, 41517, 10887, 41517,\n",
       "         41517, 41517, 34756, 41517, 10887, 41517, 41517, 10887, 10887, 10887,\n",
       "         41517, 41517, 10887, 10887, 41517, 10887, 41517, 10887, 10887, 10887,\n",
       "         10887, 41517, 10887, 41517, 41517, 41517, 41517, 41517, 10887, 41517],\n",
       "        [44345, 41517, 10887, 41517, 10887, 41517, 14897, 41517, 41517, 41517,\n",
       "         41517, 10887, 14897, 10887, 10887, 41517, 41517, 41517, 41517, 10887,\n",
       "         41517, 41517, 41517, 10887, 41517, 41517, 14897, 41517, 10887, 41517,\n",
       "         41517, 10887, 10887, 40721, 34756, 41517, 10887, 10887, 10887, 41517],\n",
       "        [41517, 41517, 10887, 41517, 41517, 40721, 41517, 41517, 10887, 41517,\n",
       "         10887, 41517, 14897, 41517, 10887, 10887, 41517, 41517, 41517, 41517,\n",
       "         41517, 41517, 41517, 41517, 41517, 10887, 10887, 41517, 41517, 41517,\n",
       "         41517, 10887, 10887, 41517, 10887, 41517, 41517, 10887, 10887, 10887],\n",
       "        [41517, 41517, 41517, 41517, 10887, 41517, 44345, 41517, 41517, 41517,\n",
       "         40721, 41517, 41517, 41517, 41517, 41517, 41517, 40721, 41517, 10887,\n",
       "         10887, 41517, 10887, 10887, 41272, 10887, 10887, 41517, 10887, 41517,\n",
       "         10887, 10887, 10887, 41517, 41517, 34327, 41517, 10887, 40721, 10887],\n",
       "        [41517, 10887, 41517, 10887, 10887, 41517, 41272, 10887, 41517, 10887,\n",
       "         10887, 41517, 10887, 44345, 41517, 41517, 41517, 41517, 41517, 10887,\n",
       "         10887, 41517, 41517, 41517, 41517, 41517, 41517, 41517, 41517, 44345,\n",
       "         41517, 41517, 41517, 41517, 41517, 41517, 41517, 10887, 10887, 10887],\n",
       "        [41517, 10887, 41517, 10887, 10887, 10887, 41517, 10887, 41517, 10887,\n",
       "         41517, 41517, 10887, 10887, 14897, 14897, 41517, 41517, 41517, 41517,\n",
       "         10887, 41517, 41517, 10887, 40721, 41517, 41517, 41517, 41517, 44345,\n",
       "         41517, 10887, 41517, 10887, 10887, 34756, 41517, 10887, 41517, 41517],\n",
       "        [10887, 10887, 41517, 10887, 10887, 41517, 41517, 10887, 41517, 10887,\n",
       "         41517, 41517, 41517, 10887, 41517, 41517, 10887, 10887, 41517, 41517,\n",
       "         41517, 41517, 41517, 10887, 40721, 41517, 41517, 41517, 41517, 10887,\n",
       "         41517, 41517, 41517, 10887, 41517, 41517, 41517, 10887, 41517, 10887],\n",
       "        [10887, 10887, 41517, 10887, 10887, 10887, 10887, 41517, 10887, 10887,\n",
       "         41517, 41517, 41517, 10887, 41517, 41517, 41517, 41517, 41517, 41517,\n",
       "         41517, 41517, 44345, 10887, 41517, 41517, 10887, 41517, 41517, 41517,\n",
       "         41517, 41517, 41517, 41517, 10887, 10887, 41517, 41517, 41517, 10887],\n",
       "        [41517, 10887, 41517, 10887, 10887, 10887, 41517, 10887, 10887, 10887,\n",
       "         41517, 10887, 10887, 41517, 41517, 41517, 41517, 10887, 10887, 41517,\n",
       "         41517, 41517, 41517, 10887, 41517, 41517, 41517, 41517, 41517, 41517,\n",
       "         41517, 41517, 41517, 41517, 41517, 41517, 41517, 41517, 10887, 10887],\n",
       "        [41517, 41517, 41517, 10887, 10887, 10887, 10887, 41517, 10887, 41517,\n",
       "         41517, 41517, 10887, 41517, 10887, 41517, 41517, 34756, 41517, 41517,\n",
       "         41517, 41517, 10887, 10887, 41517, 10887, 10887, 41517, 44345, 41517,\n",
       "         10887, 10887, 41517, 10887, 41517, 10887, 41517, 41517, 41517, 10887],\n",
       "        [10887, 10887, 41517, 10887, 10887, 10887, 10887, 41517, 14897, 41517,\n",
       "         41517, 41517, 10887, 41517, 10887, 10887, 41517, 41517, 41517, 10887,\n",
       "         41517, 10887, 10887, 10887, 10887, 41517, 10887, 10887, 41272, 41517,\n",
       "         41517, 10887, 41517, 41517, 41517, 10887, 41517, 41517, 10887, 10887]])"
      ]
     },
     "execution_count": 88,
     "metadata": {},
     "output_type": "execute_result"
    }
   ],
   "source": [
    "torch.max(forward_prediction, dim=2).indices"
   ]
  },
  {
   "cell_type": "code",
   "execution_count": 90,
   "metadata": {},
   "outputs": [],
   "source": [
    "import pytorch_lightning as pl\n",
    "class ELMo(pl.LightningModule):\n",
    "    # https://www.mlflow.org/docs/latest/python_api/mlflow.pytorch.html \n",
    "    def __init__(self, config, chr_vocab_size, chr_pad_idx, trg_pad_idx, predict_dim):\n",
    "        super(ELMo, self).__init__()\n",
    "        self.config = config\n",
    "        cnn_config = self.config['MODEL']['CNN']\n",
    "        self.cnn = CNN(chr_vocab_size, cnn_config['EMBEDDING_DIM'],\n",
    "                       cnn_config['N_FILTERS'], cnn_config['FILTER_SIZES'], \n",
    "                       cnn_config['OUTPUT_DIM'], cnn_config['DROPOUT'],\n",
    "                       chr_pad_idx)\n",
    "        \n",
    "        highway_config = self.config['MODEL']['HIGHWAY']\n",
    "\n",
    "        cnn_output_dim = len(cnn_config['FILTER_SIZES']) * cnn_config['N_FILTERS']\n",
    "\n",
    "        self.highway = Highway(cnn_output_dim, highway_config['HIGHWAY_N_LAYERS'], f=torch.nn.functional.relu)\n",
    "        \n",
    "        \n",
    "        lstm_config = self.config['MODEL']['LSTM']\n",
    "        self.rnn = LSTM_LM(cnn_output_dim, predict_dim, lstm_config['HID_DIM'], lstm_config['N_LAYERS'], \n",
    "                            lstm_config['DROPOUT'], lstm_config['BIDIRECTIONAL'])\n",
    "        \n",
    "        self.criterion = nn.CrossEntropyLoss(ignore_index = trg_pad_idx)\n",
    "        self.PREDICT_DIM = predict_dim\n",
    "        \n",
    "        \n",
    "    def forward(self, input, finetune=False):\n",
    "        output = self.cnn(input)\n",
    "        output = self.highway(output)\n",
    "        if finetune:\n",
    "            return self.rnn(output, finetune)\n",
    "        forward_output, backward_output = self.rnn(output, finetune)\n",
    "        return forward_output, backward_output\n",
    "\n",
    "\n",
    "    def training_step(self, batch, batch_nb):\n",
    "        src_chr, trg = batch\n",
    "        src_chr, trg = src_chr.to(self.device), trg.to(self.device)\n",
    "        # forward_output[:, :-1, :] -> (batch, seq_len - 1, output_dim) \n",
    "        # forward_output[...].reshape(-1, PREDICT_DIM) -> ( batch * (seq_len - 1), output_dim)\n",
    "\n",
    "        # trg -> (batch_size, seq_len)\n",
    "        # trg.reshape(-1) -> (batch_size * seq_len)\n",
    "        forward_output, backward_output = self(src_chr[:, :-1 :])\n",
    "        forward_loss = self.criterion(forward_output.reshape(-1, self.PREDICT_DIM), trg.reshape(-1))\n",
    "        backward_loss = self.criterion(backward_output.reshape(-1, self.PREDICT_DIM), trg.reshape(-1))\n",
    "        loss = forward_loss + backward_loss\n",
    "        self.log('train_loss', loss / 2, on_step=True)\n",
    "        \n",
    "        return loss / 2\n",
    "\n",
    "        \n",
    "    def print_auto_logged_info(r):\n",
    "        tags = {k: v for k, v in r.data.tags.items() if not k.startswith(\"mlflow.\")}\n",
    "        artifacts = [f.path for f in MlflowClient().list_artifacts(r.info.run_id, \"model\")]\n",
    "        print(\"run_id: {}\".format(r.info.run_id))\n",
    "        print(\"artifacts: {}\".format(artifacts))\n",
    "        print(\"params: {}\".format(r.data.params))\n",
    "        print(\"metrics: {}\".format(r.data.metrics))\n",
    "        print(\"tags: {}\".format(tags))\n",
    "        \n",
    "    def configure_optimizers(self):\n",
    "        optimizer = optim.Adam(self.parameters(), lr = self.config['TRAIN']['LR'])\n",
    "        scheduler = StepLR(optimizer, step_size=30, gamma=0.1)\n",
    "        return optimizer\n",
    "#         return [optimizer], [scheduler]"
   ]
  },
  {
   "cell_type": "code",
   "execution_count": 91,
   "metadata": {},
   "outputs": [
    {
     "ename": "TypeError",
     "evalue": "__init__() missing 2 required positional arguments: 'trg_pad_idx' and 'predict_dim'",
     "output_type": "error",
     "traceback": [
      "\u001b[0;31m---------------------------------------------------------------------------\u001b[0m",
      "\u001b[0;31mTypeError\u001b[0m                                 Traceback (most recent call last)",
      "\u001b[0;32m<ipython-input-91-efee494a3c9d>\u001b[0m in \u001b[0;36m<module>\u001b[0;34m\u001b[0m\n\u001b[0;32m----> 1\u001b[0;31m \u001b[0melmo\u001b[0m \u001b[0;34m=\u001b[0m \u001b[0mELMo\u001b[0m\u001b[0;34m(\u001b[0m\u001b[0mcnn\u001b[0m\u001b[0;34m,\u001b[0m \u001b[0mhighway\u001b[0m\u001b[0;34m,\u001b[0m \u001b[0mrnn\u001b[0m\u001b[0;34m)\u001b[0m\u001b[0;34m\u001b[0m\u001b[0;34m\u001b[0m\u001b[0m\n\u001b[0m\u001b[1;32m      2\u001b[0m \u001b[0melmo\u001b[0m\u001b[0;34m.\u001b[0m\u001b[0mto\u001b[0m\u001b[0;34m(\u001b[0m\u001b[0mdevice\u001b[0m\u001b[0;34m)\u001b[0m\u001b[0;34m;\u001b[0m\u001b[0;34m\u001b[0m\u001b[0;34m\u001b[0m\u001b[0m\n",
      "\u001b[0;31mTypeError\u001b[0m: __init__() missing 2 required positional arguments: 'trg_pad_idx' and 'predict_dim'"
     ]
    }
   ],
   "source": [
    "elmo = ELMo()\n",
    "elmo.to(device);"
   ]
  },
  {
   "cell_type": "code",
   "execution_count": 92,
   "metadata": {},
   "outputs": [
    {
     "ename": "NameError",
     "evalue": "name 'elmo' is not defined",
     "output_type": "error",
     "traceback": [
      "\u001b[0;31m---------------------------------------------------------------------------\u001b[0m",
      "\u001b[0;31mNameError\u001b[0m                                 Traceback (most recent call last)",
      "\u001b[0;32m<ipython-input-92-5004743e8ecc>\u001b[0m in \u001b[0;36m<module>\u001b[0;34m\u001b[0m\n\u001b[1;32m      3\u001b[0m \u001b[0;32mfrom\u001b[0m \u001b[0mtorch\u001b[0m\u001b[0;34m.\u001b[0m\u001b[0moptim\u001b[0m\u001b[0;34m.\u001b[0m\u001b[0mlr_scheduler\u001b[0m \u001b[0;32mimport\u001b[0m \u001b[0mStepLR\u001b[0m\u001b[0;34m\u001b[0m\u001b[0;34m\u001b[0m\u001b[0m\n\u001b[1;32m      4\u001b[0m \u001b[0;34m\u001b[0m\u001b[0m\n\u001b[0;32m----> 5\u001b[0;31m \u001b[0moptimizer\u001b[0m \u001b[0;34m=\u001b[0m \u001b[0moptim\u001b[0m\u001b[0;34m.\u001b[0m\u001b[0mAdam\u001b[0m\u001b[0;34m(\u001b[0m\u001b[0melmo\u001b[0m\u001b[0;34m.\u001b[0m\u001b[0mparameters\u001b[0m\u001b[0;34m(\u001b[0m\u001b[0;34m)\u001b[0m\u001b[0;34m,\u001b[0m \u001b[0mlr\u001b[0m\u001b[0;34m=\u001b[0m\u001b[0;36m0.000005\u001b[0m\u001b[0;34m)\u001b[0m\u001b[0;34m\u001b[0m\u001b[0;34m\u001b[0m\u001b[0m\n\u001b[0m\u001b[1;32m      6\u001b[0m \u001b[0mscheduler\u001b[0m \u001b[0;34m=\u001b[0m \u001b[0mStepLR\u001b[0m\u001b[0;34m(\u001b[0m\u001b[0moptimizer\u001b[0m\u001b[0;34m,\u001b[0m \u001b[0mstep_size\u001b[0m\u001b[0;34m=\u001b[0m\u001b[0;36m30\u001b[0m\u001b[0;34m,\u001b[0m \u001b[0mgamma\u001b[0m\u001b[0;34m=\u001b[0m\u001b[0;36m0.1\u001b[0m\u001b[0;34m)\u001b[0m\u001b[0;34m\u001b[0m\u001b[0;34m\u001b[0m\u001b[0m\n",
      "\u001b[0;31mNameError\u001b[0m: name 'elmo' is not defined"
     ]
    }
   ],
   "source": [
    "criterion = nn.CrossEntropyLoss(ignore_index = TRG_PAD_IDX)\n",
    "import torch.optim as optim\n",
    "from torch.optim.lr_scheduler import StepLR\n",
    "\n",
    "optimizer = optim.Adam(elmo.parameters(), lr=0.000005)\n",
    "scheduler = StepLR(optimizer, step_size=30, gamma=0.1)"
   ]
  },
  {
   "cell_type": "code",
   "execution_count": 61,
   "metadata": {},
   "outputs": [],
   "source": [
    "def initialize_weights(m):\n",
    "    if hasattr(m, 'weight') and m.weight.dim() > 1:\n",
    "        nn.init.xavier_uniform_(m.weight.data)"
   ]
  },
  {
   "cell_type": "code",
   "execution_count": 62,
   "metadata": {},
   "outputs": [],
   "source": [
    "elmo.apply(initialize_weights);"
   ]
  },
  {
   "cell_type": "code",
   "execution_count": 63,
   "metadata": {},
   "outputs": [],
   "source": [
    "N_EPOCHS = 20"
   ]
  },
  {
   "cell_type": "code",
   "execution_count": 64,
   "metadata": {},
   "outputs": [],
   "source": [
    "for src_chr, trg in dl:\n",
    "    break"
   ]
  },
  {
   "cell_type": "code",
   "execution_count": 65,
   "metadata": {},
   "outputs": [
    {
     "data": {
      "text/plain": [
       "(tensor([[[ 0.0165,  0.0120, -0.0078,  ..., -0.0215,  0.0027,  0.0100],\n",
       "          [ 0.0159,  0.0125, -0.0086,  ..., -0.0220,  0.0024,  0.0103],\n",
       "          [ 0.0158,  0.0123, -0.0094,  ..., -0.0217,  0.0021,  0.0097],\n",
       "          ...,\n",
       "          [ 0.0154,  0.0118, -0.0082,  ..., -0.0224,  0.0028,  0.0102],\n",
       "          [ 0.0160,  0.0114, -0.0081,  ..., -0.0225,  0.0029,  0.0103],\n",
       "          [ 0.0157,  0.0127, -0.0091,  ..., -0.0219,  0.0022,  0.0101]],\n",
       " \n",
       "         [[ 0.0153,  0.0125, -0.0094,  ..., -0.0210,  0.0028,  0.0109],\n",
       "          [ 0.0157,  0.0132, -0.0103,  ..., -0.0223,  0.0021,  0.0112],\n",
       "          [ 0.0147,  0.0124, -0.0101,  ..., -0.0214,  0.0021,  0.0107],\n",
       "          ...,\n",
       "          [ 0.0155,  0.0120, -0.0090,  ..., -0.0224,  0.0028,  0.0107],\n",
       "          [ 0.0151,  0.0126, -0.0094,  ..., -0.0219,  0.0029,  0.0107],\n",
       "          [ 0.0153,  0.0127, -0.0094,  ..., -0.0214,  0.0020,  0.0117]],\n",
       " \n",
       "         [[ 0.0144,  0.0135, -0.0102,  ..., -0.0208,  0.0034,  0.0113],\n",
       "          [ 0.0159,  0.0128, -0.0107,  ..., -0.0217,  0.0030,  0.0115],\n",
       "          [ 0.0144,  0.0120, -0.0106,  ..., -0.0222,  0.0033,  0.0112],\n",
       "          ...,\n",
       "          [ 0.0154,  0.0126, -0.0091,  ..., -0.0218,  0.0020,  0.0109],\n",
       "          [ 0.0147,  0.0129, -0.0105,  ..., -0.0212,  0.0032,  0.0111],\n",
       "          [ 0.0140,  0.0125, -0.0099,  ..., -0.0208,  0.0027,  0.0125]],\n",
       " \n",
       "         ...,\n",
       " \n",
       "         [[ 0.0157,  0.0133, -0.0098,  ..., -0.0210,  0.0027,  0.0121],\n",
       "          [ 0.0151,  0.0139, -0.0110,  ..., -0.0214,  0.0030,  0.0130],\n",
       "          [ 0.0144,  0.0138, -0.0112,  ..., -0.0201,  0.0025,  0.0122],\n",
       "          ...,\n",
       "          [ 0.0143,  0.0138, -0.0108,  ..., -0.0219,  0.0020,  0.0117],\n",
       "          [ 0.0137,  0.0148, -0.0105,  ..., -0.0221,  0.0020,  0.0128],\n",
       "          [ 0.0141,  0.0149, -0.0092,  ..., -0.0219,  0.0028,  0.0113]],\n",
       " \n",
       "         [[ 0.0153,  0.0141, -0.0106,  ..., -0.0210,  0.0039,  0.0120],\n",
       "          [ 0.0150,  0.0139, -0.0108,  ..., -0.0213,  0.0037,  0.0118],\n",
       "          [ 0.0134,  0.0130, -0.0111,  ..., -0.0205,  0.0028,  0.0125],\n",
       "          ...,\n",
       "          [ 0.0142,  0.0148, -0.0112,  ..., -0.0221,  0.0015,  0.0118],\n",
       "          [ 0.0134,  0.0148, -0.0109,  ..., -0.0222,  0.0018,  0.0130],\n",
       "          [ 0.0154,  0.0147, -0.0100,  ..., -0.0224,  0.0026,  0.0121]],\n",
       " \n",
       "         [[ 0.0146,  0.0143, -0.0108,  ..., -0.0206,  0.0028,  0.0118],\n",
       "          [ 0.0142,  0.0133, -0.0108,  ..., -0.0216,  0.0032,  0.0113],\n",
       "          [ 0.0132,  0.0136, -0.0112,  ..., -0.0204,  0.0028,  0.0123],\n",
       "          ...,\n",
       "          [ 0.0147,  0.0148, -0.0104,  ..., -0.0217,  0.0021,  0.0124],\n",
       "          [ 0.0138,  0.0147, -0.0112,  ..., -0.0223,  0.0027,  0.0134],\n",
       "          [ 0.0153,  0.0143, -0.0103,  ..., -0.0220,  0.0029,  0.0121]]],\n",
       "        device='cuda:0', grad_fn=<PermuteBackward>),\n",
       " tensor([[[ 0.0142,  0.0068, -0.0032,  ..., -0.0218, -0.0019,  0.0107],\n",
       "          [ 0.0132,  0.0045, -0.0026,  ..., -0.0215, -0.0005,  0.0117],\n",
       "          [ 0.0136,  0.0061, -0.0031,  ..., -0.0218, -0.0019,  0.0111],\n",
       "          ...,\n",
       "          [ 0.0141,  0.0056, -0.0032,  ..., -0.0217, -0.0012,  0.0120],\n",
       "          [ 0.0143,  0.0051, -0.0031,  ..., -0.0223, -0.0015,  0.0112],\n",
       "          [ 0.0141,  0.0059, -0.0022,  ..., -0.0210, -0.0019,  0.0115]],\n",
       " \n",
       "         [[ 0.0147,  0.0066, -0.0032,  ..., -0.0227, -0.0011,  0.0106],\n",
       "          [ 0.0138,  0.0051, -0.0036,  ..., -0.0218, -0.0013,  0.0121],\n",
       "          [ 0.0136,  0.0060, -0.0031,  ..., -0.0218, -0.0024,  0.0114],\n",
       "          ...,\n",
       "          [ 0.0139,  0.0054, -0.0027,  ..., -0.0225, -0.0014,  0.0117],\n",
       "          [ 0.0139,  0.0056, -0.0029,  ..., -0.0213, -0.0014,  0.0111],\n",
       "          [ 0.0139,  0.0054, -0.0020,  ..., -0.0209, -0.0012,  0.0110]],\n",
       " \n",
       "         [[ 0.0146,  0.0066, -0.0028,  ..., -0.0231, -0.0009,  0.0111],\n",
       "          [ 0.0138,  0.0057, -0.0028,  ..., -0.0216, -0.0017,  0.0118],\n",
       "          [ 0.0137,  0.0061, -0.0021,  ..., -0.0216, -0.0024,  0.0109],\n",
       "          ...,\n",
       "          [ 0.0142,  0.0054, -0.0022,  ..., -0.0226, -0.0023,  0.0104],\n",
       "          [ 0.0144,  0.0055, -0.0020,  ..., -0.0222, -0.0012,  0.0111],\n",
       "          [ 0.0140,  0.0049, -0.0033,  ..., -0.0214, -0.0018,  0.0118]],\n",
       " \n",
       "         ...,\n",
       " \n",
       "         [[ 0.0141,  0.0070, -0.0035,  ..., -0.0231, -0.0018,  0.0100],\n",
       "          [ 0.0152,  0.0066, -0.0024,  ..., -0.0220, -0.0013,  0.0101],\n",
       "          [ 0.0158,  0.0064, -0.0027,  ..., -0.0223, -0.0012,  0.0100],\n",
       "          ...,\n",
       "          [ 0.0147,  0.0073, -0.0036,  ..., -0.0231, -0.0015,  0.0098],\n",
       "          [ 0.0151,  0.0078, -0.0036,  ..., -0.0220, -0.0011,  0.0101],\n",
       "          [ 0.0143,  0.0065, -0.0025,  ..., -0.0222, -0.0001,  0.0102]],\n",
       " \n",
       "         [[ 0.0149,  0.0080, -0.0042,  ..., -0.0223, -0.0009,  0.0095],\n",
       "          [ 0.0155,  0.0072, -0.0033,  ..., -0.0234, -0.0008,  0.0098],\n",
       "          [ 0.0164,  0.0076, -0.0032,  ..., -0.0221, -0.0002,  0.0098],\n",
       "          ...,\n",
       "          [ 0.0138,  0.0070, -0.0043,  ..., -0.0225, -0.0007,  0.0089],\n",
       "          [ 0.0150,  0.0083, -0.0042,  ..., -0.0222, -0.0008,  0.0094],\n",
       "          [ 0.0155,  0.0077, -0.0032,  ..., -0.0218,  0.0004,  0.0100]],\n",
       " \n",
       "         [[ 0.0159,  0.0092, -0.0049,  ..., -0.0228,  0.0003,  0.0094],\n",
       "          [ 0.0161,  0.0085, -0.0044,  ..., -0.0219,  0.0005,  0.0090],\n",
       "          [ 0.0164,  0.0086, -0.0042,  ..., -0.0227,  0.0006,  0.0084],\n",
       "          ...,\n",
       "          [ 0.0148,  0.0096, -0.0052,  ..., -0.0224,  0.0002,  0.0083],\n",
       "          [ 0.0153,  0.0086, -0.0048,  ..., -0.0224,  0.0004,  0.0087],\n",
       "          [ 0.0159,  0.0088, -0.0051,  ..., -0.0227,  0.0009,  0.0091]]],\n",
       "        device='cuda:0', grad_fn=<PermuteBackward>))"
      ]
     },
     "execution_count": 65,
     "metadata": {},
     "output_type": "execute_result"
    }
   ],
   "source": [
    "elmo(src_chr.to('cuda'))"
   ]
  },
  {
   "cell_type": "code",
   "execution_count": 66,
   "metadata": {},
   "outputs": [
    {
     "data": {
      "text/plain": [
       "torch.Size([624])"
      ]
     },
     "execution_count": 66,
     "metadata": {},
     "output_type": "execute_result"
    }
   ],
   "source": [
    "trg.reshape(-1).shape"
   ]
  },
  {
   "cell_type": "code",
   "execution_count": 69,
   "metadata": {},
   "outputs": [
    {
     "name": "stdout",
     "output_type": "stream",
     "text": [
      "Epoch 0\n",
      "forward torch.Size([16, 40, 50887])\n",
      "torch.Size([16, 39])\n",
      "tensor(18.3928, device='cuda:0', grad_fn=<AddBackward0>)\n",
      "forward torch.Size([16, 40, 50887])\n",
      "torch.Size([16, 39])\n",
      "tensor(18.2711, device='cuda:0', grad_fn=<AddBackward0>)\n",
      "forward torch.Size([16, 40, 50887])\n",
      "torch.Size([16, 39])\n",
      "tensor(18.2944, device='cuda:0', grad_fn=<AddBackward0>)\n",
      "forward torch.Size([16, 40, 50887])\n",
      "torch.Size([16, 39])\n",
      "tensor(18.1560, device='cuda:0', grad_fn=<AddBackward0>)\n",
      "forward torch.Size([16, 40, 50887])\n",
      "torch.Size([16, 39])\n",
      "tensor(17.9757, device='cuda:0', grad_fn=<AddBackward0>)\n",
      "forward torch.Size([16, 40, 50887])\n",
      "torch.Size([16, 39])\n",
      "tensor(18.0182, device='cuda:0', grad_fn=<AddBackward0>)\n",
      "forward torch.Size([16, 40, 50887])\n",
      "torch.Size([16, 39])\n",
      "tensor(18.1385, device='cuda:0', grad_fn=<AddBackward0>)\n",
      "forward torch.Size([16, 40, 50887])\n",
      "torch.Size([16, 39])\n",
      "tensor(17.8708, device='cuda:0', grad_fn=<AddBackward0>)\n",
      "forward torch.Size([16, 40, 50887])\n",
      "torch.Size([16, 39])\n",
      "tensor(17.8256, device='cuda:0', grad_fn=<AddBackward0>)\n",
      "forward torch.Size([16, 39, 50887])\n",
      "torch.Size([16, 38])\n",
      "tensor(17.7794, device='cuda:0', grad_fn=<AddBackward0>)\n",
      "forward torch.Size([16, 40, 50887])\n",
      "torch.Size([16, 39])\n",
      "tensor(17.7218, device='cuda:0', grad_fn=<AddBackward0>)\n",
      "forward torch.Size([16, 40, 50887])\n",
      "torch.Size([16, 39])\n",
      "tensor(17.9861, device='cuda:0', grad_fn=<AddBackward0>)\n",
      "forward torch.Size([16, 40, 50887])\n",
      "torch.Size([16, 39])\n",
      "tensor(17.8289, device='cuda:0', grad_fn=<AddBackward0>)\n",
      "forward torch.Size([16, 40, 50887])\n",
      "torch.Size([16, 39])\n",
      "tensor(17.8471, device='cuda:0', grad_fn=<AddBackward0>)\n",
      "forward torch.Size([16, 40, 50887])\n",
      "torch.Size([16, 39])\n",
      "tensor(17.7329, device='cuda:0', grad_fn=<AddBackward0>)\n",
      "forward torch.Size([16, 40, 50887])\n",
      "torch.Size([16, 39])\n",
      "tensor(17.7278, device='cuda:0', grad_fn=<AddBackward0>)\n",
      "forward torch.Size([16, 40, 50887])\n",
      "torch.Size([16, 39])\n",
      "tensor(17.4742, device='cuda:0', grad_fn=<AddBackward0>)\n",
      "forward torch.Size([16, 40, 50887])\n",
      "torch.Size([16, 39])\n",
      "tensor(17.6845, device='cuda:0', grad_fn=<AddBackward0>)\n",
      "forward torch.Size([16, 40, 50887])\n",
      "torch.Size([16, 39])\n"
     ]
    },
    {
     "ename": "KeyboardInterrupt",
     "evalue": "",
     "output_type": "error",
     "traceback": [
      "\u001b[0;31m---------------------------------------------------------------------------\u001b[0m",
      "\u001b[0;31mKeyboardInterrupt\u001b[0m                         Traceback (most recent call last)",
      "\u001b[0;32m<ipython-input-69-cd16efd25171>\u001b[0m in \u001b[0;36m<module>\u001b[0;34m\u001b[0m\n\u001b[1;32m     23\u001b[0m         \u001b[0mloss\u001b[0m \u001b[0;34m=\u001b[0m \u001b[0mforward_loss\u001b[0m \u001b[0;34m+\u001b[0m \u001b[0mbackward_loss\u001b[0m\u001b[0;34m\u001b[0m\u001b[0;34m\u001b[0m\u001b[0m\n\u001b[1;32m     24\u001b[0m         \u001b[0mepoch_loss\u001b[0m \u001b[0;34m+=\u001b[0m \u001b[0mloss\u001b[0m\u001b[0;34m.\u001b[0m\u001b[0mitem\u001b[0m\u001b[0;34m(\u001b[0m\u001b[0;34m)\u001b[0m\u001b[0;34m\u001b[0m\u001b[0;34m\u001b[0m\u001b[0m\n\u001b[0;32m---> 25\u001b[0;31m         \u001b[0mloss\u001b[0m\u001b[0;34m.\u001b[0m\u001b[0mbackward\u001b[0m\u001b[0;34m(\u001b[0m\u001b[0;34m)\u001b[0m\u001b[0;34m\u001b[0m\u001b[0;34m\u001b[0m\u001b[0m\n\u001b[0m\u001b[1;32m     26\u001b[0m         \u001b[0mprint\u001b[0m\u001b[0;34m(\u001b[0m\u001b[0mloss\u001b[0m\u001b[0;34m)\u001b[0m\u001b[0;34m\u001b[0m\u001b[0;34m\u001b[0m\u001b[0m\n\u001b[1;32m     27\u001b[0m         \u001b[0moptimizer\u001b[0m\u001b[0;34m.\u001b[0m\u001b[0mstep\u001b[0m\u001b[0;34m(\u001b[0m\u001b[0;34m)\u001b[0m\u001b[0;34m\u001b[0m\u001b[0;34m\u001b[0m\u001b[0m\n",
      "\u001b[0;32m~/anaconda3/envs/long36v/lib/python3.6/site-packages/torch/tensor.py\u001b[0m in \u001b[0;36mbackward\u001b[0;34m(self, gradient, retain_graph, create_graph)\u001b[0m\n\u001b[1;32m    219\u001b[0m                 \u001b[0mretain_graph\u001b[0m\u001b[0;34m=\u001b[0m\u001b[0mretain_graph\u001b[0m\u001b[0;34m,\u001b[0m\u001b[0;34m\u001b[0m\u001b[0;34m\u001b[0m\u001b[0m\n\u001b[1;32m    220\u001b[0m                 create_graph=create_graph)\n\u001b[0;32m--> 221\u001b[0;31m         \u001b[0mtorch\u001b[0m\u001b[0;34m.\u001b[0m\u001b[0mautograd\u001b[0m\u001b[0;34m.\u001b[0m\u001b[0mbackward\u001b[0m\u001b[0;34m(\u001b[0m\u001b[0mself\u001b[0m\u001b[0;34m,\u001b[0m \u001b[0mgradient\u001b[0m\u001b[0;34m,\u001b[0m \u001b[0mretain_graph\u001b[0m\u001b[0;34m,\u001b[0m \u001b[0mcreate_graph\u001b[0m\u001b[0;34m)\u001b[0m\u001b[0;34m\u001b[0m\u001b[0;34m\u001b[0m\u001b[0m\n\u001b[0m\u001b[1;32m    222\u001b[0m \u001b[0;34m\u001b[0m\u001b[0m\n\u001b[1;32m    223\u001b[0m     \u001b[0;32mdef\u001b[0m \u001b[0mregister_hook\u001b[0m\u001b[0;34m(\u001b[0m\u001b[0mself\u001b[0m\u001b[0;34m,\u001b[0m \u001b[0mhook\u001b[0m\u001b[0;34m)\u001b[0m\u001b[0;34m:\u001b[0m\u001b[0;34m\u001b[0m\u001b[0;34m\u001b[0m\u001b[0m\n",
      "\u001b[0;32m~/anaconda3/envs/long36v/lib/python3.6/site-packages/torch/autograd/__init__.py\u001b[0m in \u001b[0;36mbackward\u001b[0;34m(tensors, grad_tensors, retain_graph, create_graph, grad_variables)\u001b[0m\n\u001b[1;32m    130\u001b[0m     Variable._execution_engine.run_backward(\n\u001b[1;32m    131\u001b[0m         \u001b[0mtensors\u001b[0m\u001b[0;34m,\u001b[0m \u001b[0mgrad_tensors_\u001b[0m\u001b[0;34m,\u001b[0m \u001b[0mretain_graph\u001b[0m\u001b[0;34m,\u001b[0m \u001b[0mcreate_graph\u001b[0m\u001b[0;34m,\u001b[0m\u001b[0;34m\u001b[0m\u001b[0;34m\u001b[0m\u001b[0m\n\u001b[0;32m--> 132\u001b[0;31m         allow_unreachable=True)  # allow_unreachable flag\n\u001b[0m\u001b[1;32m    133\u001b[0m \u001b[0;34m\u001b[0m\u001b[0m\n\u001b[1;32m    134\u001b[0m \u001b[0;34m\u001b[0m\u001b[0m\n",
      "\u001b[0;31mKeyboardInterrupt\u001b[0m: "
     ]
    }
   ],
   "source": [
    "log_epoch_loss = []\n",
    "n_pass = 0\n",
    "for epoch in range(N_EPOCHS):\n",
    "    print(f'Epoch {epoch}')\n",
    "    optimizer.zero_grad()\n",
    "    i = 0 \n",
    "    epoch_loss = 0\n",
    "    for src_chr, trg in dl:\n",
    "        src_chr, trg = src_chr.to(device), trg.to(device)\n",
    "        output = cnn(src_chr)\n",
    "        output = highway(output)\n",
    "        forward_output, backward_output = rnn(output)\n",
    "        print('forward', forward_output.shape)\n",
    "        # forward_output[:, :-1, :] -> (batch, seq_len - 1, output_dim) \n",
    "        # forward_output[...].reshape(-1, PREDICT_DIM) -> (batch * (seq_len - 1), output_dim)\n",
    "        \n",
    "        # trg -> (batch_size, seq_len)\n",
    "        # trg.transpose(1, 0) -> (seq_len, batch_size)\n",
    "        # trg.view(-1) -> (seq_len * batch_size)\n",
    "        print(trg.shape)\n",
    "        forward_loss = criterion(forward_output[:, :-1, :].reshape(-1, PREDICT_DIM), trg.transpose(1, 0).reshape(-1))\n",
    "        backward_loss = criterion(backward_output[:, :-1, :].reshape(-1, PREDICT_DIM), trg.transpose(1, 0).reshape(-1))\n",
    "        loss = forward_loss + backward_loss\n",
    "        epoch_loss += loss.item()\n",
    "        loss.backward()\n",
    "        optimizer.step()\n",
    "        i += 1\n",
    "    log_epoch_loss += [epoch_loss / i]"
   ]
  },
  {
   "cell_type": "code",
   "execution_count": null,
   "metadata": {},
   "outputs": [],
   "source": [
    "import matplotlib.pyplot as plt"
   ]
  },
  {
   "cell_type": "code",
   "execution_count": 130,
   "metadata": {},
   "outputs": [
    {
     "ename": "NameError",
     "evalue": "name 'plt' is not defined",
     "output_type": "error",
     "traceback": [
      "\u001b[0;31m---------------------------------------------------------------------------\u001b[0m",
      "\u001b[0;31mNameError\u001b[0m                                 Traceback (most recent call last)",
      "\u001b[0;32m<ipython-input-130-1da8d0593e38>\u001b[0m in \u001b[0;36m<module>\u001b[0;34m\u001b[0m\n\u001b[0;32m----> 1\u001b[0;31m \u001b[0mplt\u001b[0m\u001b[0;34m.\u001b[0m\u001b[0mplot\u001b[0m\u001b[0;34m(\u001b[0m\u001b[0mlog_epoch_loss\u001b[0m\u001b[0;34m)\u001b[0m\u001b[0;34m\u001b[0m\u001b[0;34m\u001b[0m\u001b[0m\n\u001b[0m",
      "\u001b[0;31mNameError\u001b[0m: name 'plt' is not defined"
     ]
    }
   ],
   "source": [
    "plt.plot(log_epoch_loss)"
   ]
  },
  {
   "cell_type": "code",
   "execution_count": 75,
   "metadata": {},
   "outputs": [
    {
     "data": {
      "text/plain": [
       "[16.516703319324336,\n",
       " 15.721247812771114,\n",
       " 15.04570914338117,\n",
       " 14.800581989646728,\n",
       " 13.444680514748379,\n",
       " 12.167916640643895,\n",
       " 11.861345249177592,\n",
       " 11.653339857584594,\n",
       " 11.465884133523122,\n",
       " 11.395304642806664]"
      ]
     },
     "execution_count": 75,
     "metadata": {},
     "output_type": "execute_result"
    }
   ],
   "source": [
    "log_epoch_loss"
   ]
  },
  {
   "cell_type": "markdown",
   "metadata": {},
   "source": [
    "# predict"
   ]
  },
  {
   "cell_type": "code",
   "execution_count": 76,
   "metadata": {},
   "outputs": [],
   "source": [
    "query = '저는 억울합니다'"
   ]
  },
  {
   "cell_type": "code",
   "execution_count": 77,
   "metadata": {},
   "outputs": [],
   "source": [
    "token_query = mecab_field.preprocess(query)\n",
    "chr_token_query = chr_field.preprocess(token_query)\n",
    "processed_query = chr_field.pad_process(chr_token_query, max_len=chr_max_len)"
   ]
  },
  {
   "cell_type": "code",
   "execution_count": 78,
   "metadata": {},
   "outputs": [
    {
     "data": {
      "text/plain": [
       "['저', '는', '억울', '합니다']"
      ]
     },
     "execution_count": 78,
     "metadata": {},
     "output_type": "execute_result"
    }
   ],
   "source": [
    "token_query"
   ]
  },
  {
   "cell_type": "code",
   "execution_count": 79,
   "metadata": {},
   "outputs": [],
   "source": [
    "processed_query = processed_query.unsqueeze(0)"
   ]
  },
  {
   "cell_type": "code",
   "execution_count": 80,
   "metadata": {},
   "outputs": [],
   "source": [
    "forward_output, backward_output = elmo(processed_query.to(device))"
   ]
  },
  {
   "cell_type": "code",
   "execution_count": 81,
   "metadata": {},
   "outputs": [
    {
     "data": {
      "text/plain": [
       "torch.Size([1, 4, 50887])"
      ]
     },
     "execution_count": 81,
     "metadata": {},
     "output_type": "execute_result"
    }
   ],
   "source": [
    "forward_output.shape"
   ]
  },
  {
   "cell_type": "code",
   "execution_count": 82,
   "metadata": {},
   "outputs": [],
   "source": [
    "predicted = torch.argmax(forward_output, dim=2)"
   ]
  },
  {
   "cell_type": "code",
   "execution_count": 83,
   "metadata": {},
   "outputs": [
    {
     "data": {
      "text/plain": [
       "tensor([[103,  73, 726, 726]], device='cuda:0')"
      ]
     },
     "execution_count": 83,
     "metadata": {},
     "output_type": "execute_result"
    }
   ],
   "source": [
    "predicted"
   ]
  },
  {
   "cell_type": "code",
   "execution_count": 84,
   "metadata": {},
   "outputs": [],
   "source": [
    "predicted = predicted.squeeze(0)"
   ]
  },
  {
   "cell_type": "code",
   "execution_count": 86,
   "metadata": {},
   "outputs": [
    {
     "data": {
      "text/plain": [
       "'전 같 장관 장관'"
      ]
     },
     "execution_count": 86,
     "metadata": {},
     "output_type": "execute_result"
    }
   ],
   "source": [
    "mecab_field.vocab.itos(predicted.tolist())"
   ]
  },
  {
   "cell_type": "code",
   "execution_count": null,
   "metadata": {},
   "outputs": [],
   "source": []
  }
 ],
 "metadata": {
  "kernelspec": {
   "display_name": "long36v",
   "language": "python",
   "name": "long36v"
  },
  "language_info": {
   "codemirror_mode": {
    "name": "ipython",
    "version": 3
   },
   "file_extension": ".py",
   "mimetype": "text/x-python",
   "name": "python",
   "nbconvert_exporter": "python",
   "pygments_lexer": "ipython3",
   "version": "3.6.12"
  }
 },
 "nbformat": 4,
 "nbformat_minor": 4
}
