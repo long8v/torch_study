{
 "metadata": {
  "orig_nbformat": 2,
  "kernelspec": {
   "name": "long36v",
   "display_name": "long36v",
   "language": "python"
  }
 },
 "nbformat": 4,
 "nbformat_minor": 2,
 "cells": [
  {
   "cell_type": "code",
   "execution_count": 46,
   "metadata": {},
   "outputs": [],
   "source": [
    "from Korpora import Korpora\n",
    "import sys\n",
    "sys.path.append('..')\n",
    "from txt_cleaner.clean import *\n",
    "from txt_cleaner.utils import *"
   ]
  },
  {
   "source": [],
   "cell_type": "markdown",
   "metadata": {}
  },
  {
   "cell_type": "code",
   "execution_count": 47,
   "metadata": {},
   "outputs": [
    {
     "output_type": "stream",
     "name": "stdout",
     "text": [
      "[Korpora] Corpus `namuwikitext` is already installed at /home/hscho/Korpora/namuwikitext/namuwikitext_20200302.train.zip\n",
      "[Korpora] Corpus `namuwikitext` is already installed at /home/hscho/Korpora/namuwikitext/namuwikitext_20200302.train\n",
      "[Korpora] Corpus `namuwikitext` is already installed at /home/hscho/Korpora/namuwikitext/namuwikitext_20200302.test.zip\n",
      "[Korpora] Corpus `namuwikitext` is already installed at /home/hscho/Korpora/namuwikitext/namuwikitext_20200302.test\n",
      "[Korpora] Corpus `namuwikitext` is already installed at /home/hscho/Korpora/namuwikitext/namuwikitext_20200302.dev.zip\n",
      "[Korpora] Corpus `namuwikitext` is already installed at /home/hscho/Korpora/namuwikitext/namuwikitext_20200302.dev\n"
     ]
    }
   ],
   "source": [
    "Korpora.fetch('namuwikitext')"
   ]
  },
  {
   "cell_type": "code",
   "execution_count": 48,
   "metadata": {},
   "outputs": [
    {
     "output_type": "stream",
     "name": "stdout",
     "text": [
      "\n",
      "    Korpora 는 다른 분들이 연구 목적으로 공유해주신 말뭉치들을\n",
      "    손쉽게 다운로드, 사용할 수 있는 기능만을 제공합니다.\n",
      "\n",
      "    말뭉치들을 공유해 주신 분들에게 감사드리며, 각 말뭉치 별 설명과 라이센스를 공유 드립니다.\n",
      "    해당 말뭉치에 대해 자세히 알고 싶으신 분은 아래의 description 을 참고,\n",
      "    해당 말뭉치를 연구/상용의 목적으로 이용하실 때에는 아래의 라이센스를 참고해 주시기 바랍니다.\n",
      "\n",
      "    # Description\n",
      "    Author : Hyunjoong Kim lovit@github\n",
      "    Repository : https://github.com/lovit/namuwikitext\n",
      "    References :\n",
      "\n",
      "    나무위키의 덤프 데이터를 바탕을 제작한 wikitext 형식의 텍스트 파일입니다.\n",
      "    학습 및 평가를 위하여 위키페이지 별로 train (99%), dev (0.5%), test (0.5%) 로 나뉘어져있습니다.\n",
      "\n",
      "\n",
      "    # License\n",
      "    CC BY-NC-SA 2.0 KR which Namuwiki dump dataset is licensed\n",
      "\n",
      "[Korpora] Corpus `namuwikitext` is already installed at /home/hscho/Korpora/namuwikitext/namuwikitext_20200302.train.zip\n",
      "[Korpora] Corpus `namuwikitext` is already installed at /home/hscho/Korpora/namuwikitext/namuwikitext_20200302.train\n",
      "[Korpora] Corpus `namuwikitext` is already installed at /home/hscho/Korpora/namuwikitext/namuwikitext_20200302.test.zip\n",
      "[Korpora] Corpus `namuwikitext` is already installed at /home/hscho/Korpora/namuwikitext/namuwikitext_20200302.test\n",
      "[Korpora] Corpus `namuwikitext` is already installed at /home/hscho/Korpora/namuwikitext/namuwikitext_20200302.dev.zip\n",
      "[Korpora] Corpus `namuwikitext` is already installed at /home/hscho/Korpora/namuwikitext/namuwikitext_20200302.dev\n"
     ]
    }
   ],
   "source": [
    "corpus_iter = Korpora.load('namuwikitext')"
   ]
  },
  {
   "cell_type": "code",
   "execution_count": null,
   "metadata": {},
   "outputs": [],
   "source": [
    "corpus.train.texts, corpus.train.pairs"
   ]
  },
  {
   "cell_type": "code",
   "execution_count": 33,
   "metadata": {},
   "outputs": [
    {
     "output_type": "execute_result",
     "data": {
      "text/plain": [
       "<Korpora.korpus_namuwiki.NamuwikiTextKorpus at 0x7f1e153360f0>"
      ]
     },
     "metadata": {},
     "execution_count": 33
    }
   ],
   "source": [
    "corpus."
   ]
  },
  {
   "cell_type": "code",
   "execution_count": null,
   "metadata": {},
   "outputs": [],
   "source": []
  }
 ]
}