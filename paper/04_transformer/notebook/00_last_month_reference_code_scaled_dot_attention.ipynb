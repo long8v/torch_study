{
 "cells": [
  {
   "cell_type": "markdown",
   "metadata": {},
   "source": [
    "# Welcome to Torch study week 2"
   ]
  },
  {
   "cell_type": "markdown",
   "metadata": {},
   "source": [
    "multi-head scaled-dot attention을 RNN-encoder seq2seq에 적용해보기"
   ]
  },
  {
   "cell_type": "code",
   "execution_count": 1,
   "metadata": {},
   "outputs": [],
   "source": [
    "import torch\n",
    "import torch.nn as nn\n",
    "import torch.optim as optim\n",
    "import torch.nn.functional as F\n",
    "\n",
    "from torchtext.datasets import Multi30k\n",
    "from torchtext.data import Field, BucketIterator\n",
    "\n",
    "import spacy\n",
    "import numpy as np\n",
    "\n",
    "import random\n",
    "import math\n",
    "import time"
   ]
  },
  {
   "cell_type": "code",
   "execution_count": 2,
   "metadata": {},
   "outputs": [],
   "source": [
    "SEED = 1234\n",
    "\n",
    "random.seed(SEED)\n",
    "np.random.seed(SEED)\n",
    "torch.manual_seed(SEED)\n",
    "torch.cuda.manual_seed(SEED)\n",
    "torch.backends.cudnn.deterministic = True"
   ]
  },
  {
   "cell_type": "code",
   "execution_count": 3,
   "metadata": {},
   "outputs": [],
   "source": [
    "spacy_fr = spacy.load('fr_core_news_sm')\n",
    "spacy_en = spacy.load('en_core_web_sm')"
   ]
  },
  {
   "cell_type": "code",
   "execution_count": 4,
   "metadata": {},
   "outputs": [],
   "source": [
    "def tokenize_fr(text):\n",
    "    \"\"\"\n",
    "    Tokenizes German text from a string into a list of strings\n",
    "    \"\"\"\n",
    "    return [tok.text for tok in spacy_fr.tokenizer(text)]\n",
    "\n",
    "def tokenize_en(text):\n",
    "    \"\"\"\n",
    "    Tokenizes English text from a string into a list of strings\n",
    "    \"\"\"\n",
    "    return [tok.text for tok in spacy_en.tokenizer(text)]"
   ]
  },
  {
   "cell_type": "code",
   "execution_count": 5,
   "metadata": {},
   "outputs": [
    {
     "name": "stderr",
     "output_type": "stream",
     "text": [
      "/home/long8v/anaconda3/envs/long36v/lib/python3.6/site-packages/torchtext/data/field.py:150: UserWarning: Field class will be retired soon and moved to torchtext.legacy. Please see the most recent release notes for further information.\n",
      "  warnings.warn('{} class will be retired soon and moved to torchtext.legacy. Please see the most recent release notes for further information.'.format(self.__class__.__name__), UserWarning)\n"
     ]
    }
   ],
   "source": [
    "SRC = Field(tokenize = tokenize_en, \n",
    "            init_token = '<sos>', \n",
    "            eos_token = '<eos>', \n",
    "            lower = True)\n",
    "\n",
    "TRG = Field(tokenize = tokenize_fr, \n",
    "            init_token = '<sos>', \n",
    "            eos_token = '<eos>', \n",
    "            lower = True)"
   ]
  },
  {
   "cell_type": "code",
   "execution_count": 6,
   "metadata": {},
   "outputs": [
    {
     "name": "stderr",
     "output_type": "stream",
     "text": [
      "/home/long8v/anaconda3/envs/long36v/lib/python3.6/site-packages/torchtext/data/example.py:78: UserWarning: Example class will be retired soon and moved to torchtext.legacy. Please see the most recent release notes for further information.\n",
      "  warnings.warn('Example class will be retired soon and moved to torchtext.legacy. Please see the most recent release notes for further information.', UserWarning)\n"
     ]
    }
   ],
   "source": [
    "train_data, valid_data, test_data = Multi30k.splits(exts = ('.en', '.fr'), \n",
    "                                                    fields = (SRC, TRG),\n",
    "                                                   root = '/home/long8v/torch_study/paper/03_attention/.data')"
   ]
  },
  {
   "cell_type": "code",
   "execution_count": 7,
   "metadata": {},
   "outputs": [],
   "source": [
    "SRC.build_vocab(train_data, min_freq = 2)\n",
    "TRG.build_vocab(train_data, min_freq = 2)"
   ]
  },
  {
   "cell_type": "code",
   "execution_count": 8,
   "metadata": {},
   "outputs": [],
   "source": [
    "device = torch.device('cuda' if torch.cuda.is_available() else 'cpu')"
   ]
  },
  {
   "cell_type": "code",
   "execution_count": 9,
   "metadata": {},
   "outputs": [
    {
     "name": "stderr",
     "output_type": "stream",
     "text": [
      "/home/long8v/anaconda3/envs/long36v/lib/python3.6/site-packages/torchtext/data/iterator.py:48: UserWarning: BucketIterator class will be retired soon and moved to torchtext.legacy. Please see the most recent release notes for further information.\n",
      "  warnings.warn('{} class will be retired soon and moved to torchtext.legacy. Please see the most recent release notes for further information.'.format(self.__class__.__name__), UserWarning)\n"
     ]
    }
   ],
   "source": [
    "BATCH_SIZE = 32\n",
    "\n",
    "train_iterator, valid_iterator, test_iterator = BucketIterator.splits(\n",
    "    (train_data, valid_data, test_data), \n",
    "    batch_size = BATCH_SIZE,\n",
    "    device = device)"
   ]
  },
  {
   "cell_type": "code",
   "execution_count": 10,
   "metadata": {},
   "outputs": [
    {
     "data": {
      "text/plain": [
       "([['i', 'drink', 'beer'],\n",
       "  ['i', 'am', 'drunk'],\n",
       "  ['i', 'am', 'good'],\n",
       "  ['you', 'good', '?', 'i', 'am', 'good']],\n",
       " tensor([[   2,    2,    2,    2],\n",
       "         [ 956,  956,  956, 1145],\n",
       "         [ 413, 2647, 2647, 1192],\n",
       "         [ 460, 3995, 1192, 2417],\n",
       "         [   3,    3,    3,  956],\n",
       "         [   1,    1,    1, 2647],\n",
       "         [   1,    1,    1, 1192],\n",
       "         [   1,    1,    1,    3]]))"
      ]
     },
     "execution_count": 10,
     "metadata": {},
     "output_type": "execute_result"
    }
   ],
   "source": [
    "examples = ['i drink beer', 'i am drunk', 'i am good', 'you good? i am good'] \n",
    "preprocessed = [SRC.preprocess(example) for example in examples]\n",
    "processed = SRC.process(preprocessed)\n",
    "preprocessed, processed"
   ]
  },
  {
   "cell_type": "code",
   "execution_count": 11,
   "metadata": {},
   "outputs": [
    {
     "data": {
      "text/plain": [
       "([['i', 'drink', 'beer'],\n",
       "  ['i', 'am', 'drunk'],\n",
       "  ['i', 'am', 'good'],\n",
       "  ['you', 'good', '?', 'i', 'am', 'good']],\n",
       " tensor([[   2,    2,    2,    2],\n",
       "         [5622, 5622, 5622,    0],\n",
       "         [   0,    0,    0,    0],\n",
       "         [   0,    0,    0, 2054],\n",
       "         [   3,    3,    3, 5622],\n",
       "         [   1,    1,    1,    0],\n",
       "         [   1,    1,    1,    0],\n",
       "         [   1,    1,    1,    3]]))"
      ]
     },
     "execution_count": 11,
     "metadata": {},
     "output_type": "execute_result"
    }
   ],
   "source": [
    "trg_ = ['나 맥주 마신다', '나는 취했다', '나 괜찮다', '너 괜찮냐? 난 괜찮다'] \n",
    "trg_preprocessed = [TRG.preprocess(example) for example in examples]\n",
    "trg_processed = TRG.process(trg_preprocessed)\n",
    "trg_preprocessed, trg_processed"
   ]
  },
  {
   "cell_type": "code",
   "execution_count": 12,
   "metadata": {},
   "outputs": [],
   "source": [
    "x = processed"
   ]
  },
  {
   "cell_type": "code",
   "execution_count": 13,
   "metadata": {},
   "outputs": [],
   "source": [
    "class Encoder(nn.Module):\n",
    "    def __init__(self, input_dim, emb_dim, enc_hid_dim, dec_hid_dim, dropout):\n",
    "        super().__init__()\n",
    "        \n",
    "        self.embedding = nn.Embedding(input_dim, emb_dim)\n",
    "        \n",
    "        self.rnn = nn.GRU(emb_dim, enc_hid_dim, bidirectional = False)\n",
    "        \n",
    "        self.fc = nn.Linear(enc_hid_dim, dec_hid_dim)\n",
    "        \n",
    "        self.dropout = nn.Dropout(dropout)\n",
    "        \n",
    "    def forward(self, src):\n",
    "        \n",
    "        #src = [src len, batch size]\n",
    "        \n",
    "        embedded = self.dropout(self.embedding(src))\n",
    "        \n",
    "        #embedded = [src len, batch size, emb dim]\n",
    "        \n",
    "        outputs, hidden = self.rnn(embedded)\n",
    "                \n",
    "        #outputs = [src len, batch size, hid dim * num directions]\n",
    "        #hidden = [n layers * num directions, batch size, hid dim]\n",
    "        \n",
    "        #hidden is stacked [forward_1, backward_1, forward_2, backward_2, ...]\n",
    "        #outputs are always from the last layer\n",
    "        \n",
    "        #hidden [-2, :, : ] is the last of the forwards RNN \n",
    "        #hidden [-1, :, : ] is the last of the backwards RNN\n",
    "        \n",
    "        #initial decoder hidden is final hidden state of the forwards and backwards \n",
    "        #  encoder RNNs fed through a linear layer\n",
    "        hidden = torch.tanh(self.fc(hidden[-1,:,:]))\n",
    "        # |hideen| = (batch_size, hid_dim * 2) \n",
    "        \n",
    "        #outputs = [src len, batch size, enc hid dim * 2]\n",
    "        #hidden = [batch size, dec hid dim]\n",
    "        \n",
    "        return outputs, hidden"
   ]
  },
  {
   "cell_type": "code",
   "execution_count": 14,
   "metadata": {},
   "outputs": [],
   "source": [
    "INPUT_DIM = len(SRC.vocab)\n",
    "OUTPUT_DIM = len(TRG.vocab)\n",
    "ENC_EMB_DIM = 620 # the word embedding dimensionality\n",
    "DEC_EMB_DIM = 620 # the word embedding dimensionality\n",
    "ENC_HID_DIM = 1000 # the size of a hidden layer n \n",
    "DEC_HID_DIM = 1000 # the size of a hidden layer n \n",
    "ENC_DROPOUT = 0.5\n",
    "DEC_DROPOUT = 0.5 \n",
    "MAXOUT_HID_DIM = 500 # the size of the maxout hidden layer in the deep output l\n",
    "MAXOUT_POOLSIZE = 2\n",
    "\n",
    "# attn = Attention(ENC_HID_DIM, DEC_HID_DIM)\n",
    "enc = Encoder(INPUT_DIM, ENC_EMB_DIM, ENC_HID_DIM, DEC_HID_DIM, ENC_DROPOUT)\n",
    "\n",
    "\n",
    "# model = Seq2Seq(enc, dec, device).to(device)"
   ]
  },
  {
   "cell_type": "code",
   "execution_count": 15,
   "metadata": {},
   "outputs": [
    {
     "data": {
      "text/plain": [
       "torch.Size([8, 4, 1000])"
      ]
     },
     "execution_count": 15,
     "metadata": {},
     "output_type": "execute_result"
    }
   ],
   "source": [
    "outputs, hidden = enc(processed)\n",
    "outputs.shape\n",
    "# encoder_source_len, batch_size, encoder_hidden_size(1000 * 2)"
   ]
  },
  {
   "cell_type": "code",
   "execution_count": 16,
   "metadata": {},
   "outputs": [],
   "source": [
    "key = value = outputs"
   ]
  },
  {
   "cell_type": "code",
   "execution_count": 17,
   "metadata": {},
   "outputs": [],
   "source": [
    "class MultiHeadAttentionLayer(nn.Module):\n",
    "    def __init__(self, hid_dim, n_heads, dropout, device):\n",
    "        super().__init__()\n",
    "        \n",
    "        assert hid_dim % n_heads == 0\n",
    "        \n",
    "        self.hid_dim = hid_dim\n",
    "        self.n_heads = n_heads\n",
    "        self.head_dim = hid_dim // n_heads\n",
    "        \n",
    "        self.fc_q = nn.Linear(hid_dim, hid_dim)\n",
    "        self.fc_k = nn.Linear(hid_dim, hid_dim)\n",
    "        self.fc_v = nn.Linear(hid_dim, hid_dim)\n",
    "        \n",
    "        self.fc_o = nn.Linear(hid_dim, hid_dim)\n",
    "        \n",
    "        self.dropout = nn.Dropout(dropout)\n",
    "        \n",
    "        self.scale = torch.sqrt(torch.FloatTensor([self.head_dim])).to(device)\n",
    "        \n",
    "    def forward(self, query, key, value, mask = None):\n",
    "        \n",
    "        batch_size = query.shape[0]\n",
    "        \n",
    "        #query = [batch size, query len, hid dim]\n",
    "        #key = [batch size, key len, hid dim]\n",
    "        #value = [batch size, value len, hid dim]\n",
    "        \n",
    "        query = query.to(device)\n",
    "        key = key.to(device)\n",
    "        value = value.to(device)\n",
    "                \n",
    "        Q = self.fc_q(query)\n",
    "        K = self.fc_k(key)\n",
    "        V = self.fc_v(value)\n",
    "        \n",
    "        #Q = [batch size, query len, hid dim]\n",
    "        #K = [batch size, key len, hid dim]\n",
    "        #V = [batch size, value len, hid dim]\n",
    "                \n",
    "        Q = Q.view(batch_size, -1, self.n_heads, self.head_dim).permute(0, 2, 1, 3)\n",
    "        K = K.view(batch_size, -1, self.n_heads, self.head_dim).permute(0, 2, 1, 3)\n",
    "        V = V.view(batch_size, -1, self.n_heads, self.head_dim).permute(0, 2, 1, 3)\n",
    "        \n",
    "        #Q = [batch size, n heads, query len, head dim]\n",
    "        #K = [batch size, n heads, key len, head dim]\n",
    "        #V = [batch size, n heads, value len, head dim]\n",
    "                \n",
    "        # k.permute(0, 1, 3, 2) = [batch size, n heads, head dim, key len]\n",
    "        energy = torch.matmul(Q, K.permute(0, 1, 3, 2)) / self.scale\n",
    "        \n",
    "        #energy = [batch size, n heads, query len, key len]\n",
    "        \n",
    "        if mask is not None:\n",
    "            energy = energy.masked_fill(mask == 0, -1e10)\n",
    "        \n",
    "        attention = torch.softmax(energy, dim = -1)\n",
    "                \n",
    "        #attention = [batch size, n heads, query len, key len]\n",
    "                \n",
    "        x = torch.matmul(self.dropout(attention), V)\n",
    "        \n",
    "        #x = [batch size, n heads, query len, head dim]\n",
    "        \n",
    "        x = x.permute(0, 2, 1, 3).contiguous()\n",
    "        \n",
    "        #x = [batch size, query len, n heads, head dim]\n",
    "        \n",
    "        # n_heads * head_dim을 hid dim으로 합치는 부분\n",
    "        x = x.view(batch_size, -1, self.hid_dim)\n",
    "        \n",
    "        #x = [batch size, query len, hid dim]\n",
    "        \n",
    "        x = self.fc_o(x)\n",
    "        \n",
    "        #x = [batch size, query len, hid dim]\n",
    "        \n",
    "        return x, attention"
   ]
  },
  {
   "cell_type": "code",
   "execution_count": 18,
   "metadata": {},
   "outputs": [],
   "source": [
    "att = MultiHeadAttentionLayer(ENC_HID_DIM, 4, 0.5, device)"
   ]
  },
  {
   "attachments": {
    "image.png": {
     "image/png": "[encoded data removed]"
    }
   },
   "cell_type": "markdown",
   "metadata": {},
   "source": [
    "![image.png](attachment:image.png)"
   ]
  },
  {
   "cell_type": "code",
   "execution_count": 20,
   "metadata": {},
   "outputs": [],
   "source": [
    "class Decoder(nn.Module):\n",
    "    def __init__(self, output_dim, emb_dim, enc_hid_dim, dec_hid_dim, dropout, attention):\n",
    "        super().__init__()\n",
    "\n",
    "        self.output_dim = output_dim\n",
    "        \n",
    "        # attention class를 input으로 받음\n",
    "        self.attention = attention\n",
    "        \n",
    "        self.embedding = nn.Embedding(output_dim, emb_dim)\n",
    "        \n",
    "        self.rnn = nn.GRU(emb_dim, dec_hid_dim)\n",
    "\n",
    "        self.fc_out = nn.Linear(dec_hid_dim + enc_hid_dim, output_dim)\n",
    "        # trg_hid_dim(디코더의 hidden dimension) + enc_hid_dim(곱해지는 value 벡터의 크기(=enc_hid_dim)\n",
    "\n",
    "        self.dropout = nn.Dropout(dropout)\n",
    "        \n",
    "    def forward(self, input, hidden, encoder_outputs):\n",
    "        # decoder의 forward는 지난달 seq2seq처럼 한 토큰임에 주의!\n",
    "        #input = [batch size]\n",
    "        #hidden = [batch size, dec hid dim]\n",
    "        #encoder_outputs = [src len, batch size, enc hid dim * 2]\n",
    "        \n",
    "        input = input.unsqueeze(0)\n",
    "        \n",
    "        #input = [1, batch size]\n",
    "        \n",
    "        #output을 뽑을때 지난번의 output vector도 넣어주는데 그것은 input과 같으므로,\n",
    "        #그런데 이 경우에는, teacher-forcing에서 gt를 넣어주면 gt를 넣어주는 것과 같다 \n",
    "        embedded = self.dropout(self.embedding(input))\n",
    "        #embedded = [1, batch size, emb dim]\n",
    "        \n",
    "        # query : hidden state, key : encoder_outputs, value : encoder_outputs\n",
    "        x, _ = self.attention(hidden, encoder_outputs, encoder_outputs)\n",
    "#         print(f'attention shape {x.shape}') # src_max_len, batch_size, hid_dim\n",
    "        \n",
    "        #rnn_input = [1, batch size, (enc hid dim * 2) + emb dim]\n",
    "            \n",
    "#         print(f'hidden_shape {hidden.shape}')\n",
    "        output, hidden = self.rnn(embedded, hidden.unsqueeze(0))\n",
    "        \n",
    "        #output = [seq len, batch size, dec hid dim * n directions]\n",
    "        #hidden = [n layers * n directions, batch size, dec hid dim]\n",
    "        \n",
    "        #seq len, n layers and n directions will always be 1 in this decoder, therefore:\n",
    "        #output = [1, batch size, dec hid dim]\n",
    "        #hidden = [1, batch size, dec hid dim]\n",
    "        #this also means that output == hidden\n",
    "        assert (output == hidden).all()\n",
    "        \n",
    "        # output 예측할 때 \n",
    "        embedded = embedded.squeeze(0)\n",
    "        output = output.squeeze(0)\n",
    "        \n",
    "#         print(f'output shape : {output.shape} attention shape : {x.shape}')\n",
    "        # | output | = (batch_size, dec_hid_dim) |attention shape| = (batch_size, query_len, hid_dim) \n",
    "        x = x.squeeze(1)\n",
    "        prediction = torch.cat((x, output), dim = 1)\n",
    "#         print(f'prediction shape : {prediction.shape}')\n",
    "        # | prediction | = (batch_size, enc_hid_dim + dec_hid_dim)\n",
    "        prediction = self.fc_out(prediction)\n",
    "        \n",
    "        #prediction = [batch size, output dim]\n",
    "        \n",
    "        return prediction, hidden.squeeze(0)"
   ]
  },
  {
   "cell_type": "code",
   "execution_count": 21,
   "metadata": {},
   "outputs": [
    {
     "data": {
      "text/plain": [
       "tensor([2, 2, 2, 2])"
      ]
     },
     "execution_count": 21,
     "metadata": {},
     "output_type": "execute_result"
    }
   ],
   "source": [
    "trg_processed[0]"
   ]
  },
  {
   "cell_type": "code",
   "execution_count": 22,
   "metadata": {},
   "outputs": [],
   "source": [
    "dec = Decoder(OUTPUT_DIM, DEC_EMB_DIM, ENC_HID_DIM, DEC_HID_DIM, DEC_DROPOUT, att)"
   ]
  },
  {
   "cell_type": "code",
   "execution_count": 23,
   "metadata": {},
   "outputs": [
    {
     "data": {
      "text/plain": [
       "device(type='cpu')"
      ]
     },
     "execution_count": 23,
     "metadata": {},
     "output_type": "execute_result"
    }
   ],
   "source": [
    "trg_processed.device"
   ]
  },
  {
   "cell_type": "code",
   "execution_count": 24,
   "metadata": {},
   "outputs": [
    {
     "data": {
      "text/plain": [
       "Decoder(\n",
       "  (attention): MultiHeadAttentionLayer(\n",
       "    (fc_q): Linear(in_features=1000, out_features=1000, bias=True)\n",
       "    (fc_k): Linear(in_features=1000, out_features=1000, bias=True)\n",
       "    (fc_v): Linear(in_features=1000, out_features=1000, bias=True)\n",
       "    (fc_o): Linear(in_features=1000, out_features=1000, bias=True)\n",
       "    (dropout): Dropout(p=0.5, inplace=False)\n",
       "  )\n",
       "  (embedding): Embedding(6469, 620)\n",
       "  (rnn): GRU(620, 1000)\n",
       "  (fc_out): Linear(in_features=2000, out_features=6469, bias=True)\n",
       "  (dropout): Dropout(p=0.5, inplace=False)\n",
       ")"
      ]
     },
     "execution_count": 24,
     "metadata": {},
     "output_type": "execute_result"
    }
   ],
   "source": [
    "dec.to(device)"
   ]
  },
  {
   "cell_type": "code",
   "execution_count": 25,
   "metadata": {},
   "outputs": [
    {
     "data": {
      "text/plain": [
       "(torch.Size([8, 4, 1000]), torch.Size([8, 4, 1000]))"
      ]
     },
     "execution_count": 25,
     "metadata": {},
     "output_type": "execute_result"
    }
   ],
   "source": [
    "key.shape, value.shape"
   ]
  },
  {
   "cell_type": "code",
   "execution_count": 26,
   "metadata": {},
   "outputs": [
    {
     "data": {
      "text/plain": [
       "(torch.Size([8, 4, 1000]), torch.Size([8, 4, 1000]))"
      ]
     },
     "execution_count": 26,
     "metadata": {},
     "output_type": "execute_result"
    }
   ],
   "source": [
    "key.shape, value.shape"
   ]
  },
  {
   "cell_type": "code",
   "execution_count": 27,
   "metadata": {},
   "outputs": [
    {
     "data": {
      "text/plain": [
       "tensor([2, 2, 2, 2])"
      ]
     },
     "execution_count": 27,
     "metadata": {},
     "output_type": "execute_result"
    }
   ],
   "source": [
    "trg_processed[0]"
   ]
  },
  {
   "cell_type": "code",
   "execution_count": 28,
   "metadata": {},
   "outputs": [
    {
     "data": {
      "text/plain": [
       "torch.Size([4, 1000])"
      ]
     },
     "execution_count": 28,
     "metadata": {},
     "output_type": "execute_result"
    }
   ],
   "source": [
    "hidden.shape"
   ]
  },
  {
   "cell_type": "code",
   "execution_count": 29,
   "metadata": {},
   "outputs": [
    {
     "data": {
      "text/plain": [
       "2000"
      ]
     },
     "execution_count": 29,
     "metadata": {},
     "output_type": "execute_result"
    }
   ],
   "source": [
    "ENC_HID_DIM + DEC_HID_DIM"
   ]
  },
  {
   "cell_type": "code",
   "execution_count": 30,
   "metadata": {},
   "outputs": [
    {
     "data": {
      "text/plain": [
       "(tensor([[ 0.0559, -0.1669,  0.2349,  ..., -0.0452, -0.0938, -0.0357],\n",
       "         [ 0.0483, -0.1513,  0.0857,  ..., -0.1082, -0.0490, -0.1031],\n",
       "         [ 0.0671, -0.0401,  0.0198,  ...,  0.1508, -0.1210,  0.0221],\n",
       "         [ 0.1047, -0.1045,  0.0206,  ..., -0.0281, -0.2147, -0.0872]],\n",
       "        device='cuda:0', grad_fn=<AddmmBackward>),\n",
       " tensor([[-0.1880,  0.0139,  0.1199,  ..., -0.1744, -0.1233,  0.2990],\n",
       "         [-0.1782, -0.0597,  0.3737,  ..., -0.0841, -0.0128,  0.2554],\n",
       "         [-0.4456, -0.0765,  0.5238,  ..., -0.2736, -0.2589,  0.1170],\n",
       "         [ 0.0277, -0.0954,  0.5715,  ..., -0.1066, -0.4325,  0.6372]],\n",
       "        device='cuda:0', grad_fn=<SqueezeBackward1>))"
      ]
     },
     "execution_count": 30,
     "metadata": {},
     "output_type": "execute_result"
    }
   ],
   "source": [
    "dec(trg_processed[0].to(device), hidden.to(device), key)"
   ]
  },
  {
   "cell_type": "code",
   "execution_count": 31,
   "metadata": {},
   "outputs": [],
   "source": [
    "class Seq2Seq(nn.Module):\n",
    "    def __init__(self, encoder, decoder, device):\n",
    "        super().__init__()\n",
    "        \n",
    "        self.encoder = encoder\n",
    "        self.decoder = decoder\n",
    "        self.device = device\n",
    "        \n",
    "    def forward(self, src, trg, teacher_forcing_ratio = 0.5):\n",
    "        \n",
    "        #src = [src len, batch size]\n",
    "        #trg = [trg len, batch size]\n",
    "        #teacher_forcing_ratio is probability to use teacher forcing\n",
    "        #e.g. if teacher_forcing_ratio is 0.75 we use teacher forcing 75% of the time\n",
    "        \n",
    "        batch_size = src.shape[1]\n",
    "        trg_len = trg.shape[0]\n",
    "        trg_vocab_size = self.decoder.output_dim\n",
    "        \n",
    "        #tensor to store decoder outputs\n",
    "        outputs = torch.zeros(trg_len, batch_size, trg_vocab_size).to(self.device)\n",
    "        \n",
    "        #encoder_outputs is all hidden states of the input sequence, back and forwards\n",
    "        #hidden is the final forward and backward hidden states, passed through a linear layer\n",
    "        encoder_outputs, hidden = self.encoder(src)\n",
    "                \n",
    "        #first input to the decoder is the <sos> tokens\n",
    "        input = trg[0,:]\n",
    "        \n",
    "        for t in range(1, trg_len):\n",
    "            \n",
    "            #insert input token embedding, previous hidden state and all encoder hidden states\n",
    "            #receive output tensor (predictions) and new hidden state\n",
    "            output, hidden = self.decoder(input, hidden, encoder_outputs)\n",
    "            \n",
    "            #place predictions in a tensor holding predictions for each token\n",
    "            outputs[t] = output\n",
    "            \n",
    "            #decide if we are going to use teacher forcing or not\n",
    "            teacher_force = random.random() < teacher_forcing_ratio\n",
    "            \n",
    "            #get the highest predicted token from our predictions\n",
    "            top1 = output.argmax(1) \n",
    "            \n",
    "            #if teacher forcing, use actual next token as next input\n",
    "            #if not, use predicted token\n",
    "            input = trg[t] if teacher_force else top1\n",
    "\n",
    "        return outputs"
   ]
  },
  {
   "cell_type": "code",
   "execution_count": 32,
   "metadata": {},
   "outputs": [],
   "source": [
    "model = Seq2Seq(enc, dec, device).to(device)"
   ]
  },
  {
   "cell_type": "markdown",
   "metadata": {},
   "source": [
    "# initialize"
   ]
  },
  {
   "attachments": {
    "image.png": {
     "image/png": "[encoded data removed]"
    }
   },
   "cell_type": "markdown",
   "metadata": {},
   "source": [
    "![image.png](attachment:image.png)"
   ]
  },
  {
   "cell_type": "markdown",
   "metadata": {},
   "source": [
    "- recurrent weight matrix들은 random orthogonal matrices\n",
    "- 모든 bias는 0\n",
    "- $W_a$와 $U_a$는 N(0, 0.001^2)이고 bias는 0 -> 코드에서 concat되어 있는데 그냥...하나로..\n",
    "- $V_a$는 다 0으로 초기화 -> $v_a$라고 일단 생각함\n",
    "- 다른 weight들은 N(0, 0.01$2)"
   ]
  },
  {
   "cell_type": "code",
   "execution_count": 33,
   "metadata": {
    "scrolled": false
   },
   "outputs": [
    {
     "data": {
      "text/plain": [
       "['encoder.embedding.weight',\n",
       " 'encoder.rnn.weight_ih_l0',\n",
       " 'encoder.rnn.weight_hh_l0',\n",
       " 'encoder.rnn.bias_ih_l0',\n",
       " 'encoder.rnn.bias_hh_l0',\n",
       " 'encoder.fc.weight',\n",
       " 'encoder.fc.bias',\n",
       " 'decoder.attention.fc_q.weight',\n",
       " 'decoder.attention.fc_q.bias',\n",
       " 'decoder.attention.fc_k.weight',\n",
       " 'decoder.attention.fc_k.bias',\n",
       " 'decoder.attention.fc_v.weight',\n",
       " 'decoder.attention.fc_v.bias',\n",
       " 'decoder.attention.fc_o.weight',\n",
       " 'decoder.attention.fc_o.bias',\n",
       " 'decoder.embedding.weight',\n",
       " 'decoder.rnn.weight_ih_l0',\n",
       " 'decoder.rnn.weight_hh_l0',\n",
       " 'decoder.rnn.bias_ih_l0',\n",
       " 'decoder.rnn.bias_hh_l0',\n",
       " 'decoder.fc_out.weight',\n",
       " 'decoder.fc_out.bias']"
      ]
     },
     "execution_count": 33,
     "metadata": {},
     "output_type": "execute_result"
    }
   ],
   "source": [
    "[name for name, param in model.named_parameters()]"
   ]
  },
  {
   "cell_type": "code",
   "execution_count": 34,
   "metadata": {},
   "outputs": [
    {
     "data": {
      "text/plain": [
       "tensor([[0., 0., 0.],\n",
       "        [0., 0., 0.],\n",
       "        [0., 0., 0.],\n",
       "        [0., 0., 0.],\n",
       "        [0., 0., 0.]])"
      ]
     },
     "execution_count": 34,
     "metadata": {},
     "output_type": "execute_result"
    }
   ],
   "source": [
    "x = torch.Tensor(5, 3)\n",
    "nn.init.zeros_(x)"
   ]
  },
  {
   "cell_type": "code",
   "execution_count": 35,
   "metadata": {},
   "outputs": [],
   "source": [
    "def init_weights(m):\n",
    "    for name, param in m.named_parameters():\n",
    "        if 'rnn.weight' in name:\n",
    "            # recurrent weight matrix \n",
    "            # orthogonal should have dim 2 or more\n",
    "            nn.init.orthogonal_(param.data)\n",
    "        elif 'attention.v' in name:\n",
    "            nn.init.zeros_(param.data)\n",
    "        elif 'attention' in name:\n",
    "            nn.init.normal_(param.data, 0, 0.001 ** 2)\n",
    "        elif 'weight' in name:\n",
    "            nn.init.normal_(param.data, 0, 0.01 ** 2)\n",
    "        else:\n",
    "            nn.init.constant_(param.data, 0)\n",
    "            "
   ]
  },
  {
   "cell_type": "markdown",
   "metadata": {},
   "source": [
    "### main에 넣기"
   ]
  },
  {
   "cell_type": "code",
   "execution_count": 36,
   "metadata": {},
   "outputs": [
    {
     "data": {
      "text/plain": [
       "Seq2Seq(\n",
       "  (encoder): Encoder(\n",
       "    (embedding): Embedding(5893, 620)\n",
       "    (rnn): GRU(620, 1000)\n",
       "    (fc): Linear(in_features=1000, out_features=1000, bias=True)\n",
       "    (dropout): Dropout(p=0.5, inplace=False)\n",
       "  )\n",
       "  (decoder): Decoder(\n",
       "    (attention): MultiHeadAttentionLayer(\n",
       "      (fc_q): Linear(in_features=1000, out_features=1000, bias=True)\n",
       "      (fc_k): Linear(in_features=1000, out_features=1000, bias=True)\n",
       "      (fc_v): Linear(in_features=1000, out_features=1000, bias=True)\n",
       "      (fc_o): Linear(in_features=1000, out_features=1000, bias=True)\n",
       "      (dropout): Dropout(p=0.5, inplace=False)\n",
       "    )\n",
       "    (embedding): Embedding(6469, 620)\n",
       "    (rnn): GRU(620, 1000)\n",
       "    (fc_out): Linear(in_features=2000, out_features=6469, bias=True)\n",
       "    (dropout): Dropout(p=0.5, inplace=False)\n",
       "  )\n",
       ")"
      ]
     },
     "execution_count": 36,
     "metadata": {},
     "output_type": "execute_result"
    }
   ],
   "source": [
    "model.apply(init_weights)"
   ]
  },
  {
   "cell_type": "raw",
   "metadata": {},
   "source": [
    "maxout 미적용시\n",
    "Seq2Seq(\n",
    "  (encoder): Encoder(\n",
    "    (embedding): Embedding(5893, 256)\n",
    "    (rnn): GRU(256, 512, bidirectional=True)\n",
    "    (fc): Linear(in_features=1024, out_features=512, bias=True)\n",
    "    (dropout): Dropout(p=0.5, inplace=False)\n",
    "  )\n",
    "  (decoder): Decoder(\n",
    "    (attention): Attention(\n",
    "      (attn): Linear(in_features=1536, out_features=512, bias=True)\n",
    "      (v): Linear(in_features=512, out_features=1, bias=False)\n",
    "    )\n",
    "    (embedding): Embedding(6469, 256)\n",
    "    (rnn): GRU(1280, 512)\n",
    "    (fc_out): Linear(in_features=1792, out_features=6469, bias=True)\n",
    "    (dropout): Dropout(p=0.5, inplace=False)\n",
    "  )\n",
    ")"
   ]
  },
  {
   "cell_type": "code",
   "execution_count": 37,
   "metadata": {},
   "outputs": [
    {
     "name": "stdout",
     "output_type": "stream",
     "text": [
      "The model has 35,345,909 trainable parameters\n"
     ]
    }
   ],
   "source": [
    "def count_parameters(model):\n",
    "    return sum(p.numel() for p in model.parameters() if p.requires_grad)\n",
    "\n",
    "print(f'The model has {count_parameters(model):,} trainable parameters')"
   ]
  },
  {
   "cell_type": "markdown",
   "metadata": {},
   "source": [
    "maxout 미적용 시, The model has 21,196,869 trainable parameters<Br>\n",
    "maxout 적용 시, The model has 14,631,921 trainable parameters<Br>\n",
    "maxout 적용 및 논문 파라미터 적용 시, The model has 40,127,409 trainable parameters"
   ]
  },
  {
   "cell_type": "code",
   "execution_count": 38,
   "metadata": {},
   "outputs": [],
   "source": [
    "optimizer = optim.Adam(model.parameters())"
   ]
  },
  {
   "cell_type": "code",
   "execution_count": 39,
   "metadata": {},
   "outputs": [],
   "source": [
    "TRG_PAD_IDX = TRG.vocab.stoi[TRG.pad_token]\n",
    "\n",
    "criterion = nn.CrossEntropyLoss(ignore_index = TRG_PAD_IDX)"
   ]
  },
  {
   "cell_type": "markdown",
   "metadata": {},
   "source": [
    "# bleu score\n",
    "https://cloud.google.com/translate/automl/docs/evaluate"
   ]
  },
  {
   "cell_type": "markdown",
   "metadata": {},
   "source": [
    "refs : 정답<br>\n",
    "sys : 후보"
   ]
  },
  {
   "cell_type": "code",
   "execution_count": 40,
   "metadata": {},
   "outputs": [],
   "source": [
    "from sacrebleu import corpus_bleu, sentence_bleu"
   ]
  },
  {
   "cell_type": "code",
   "execution_count": 41,
   "metadata": {},
   "outputs": [
    {
     "name": "stdout",
     "output_type": "stream",
     "text": [
      "48.530827009929865\n"
     ]
    }
   ],
   "source": [
    "sys = ['The dog bit the man.', \"It wasn't surprising.\", 'The man had just bitten him.']\n",
    "refs = [['The dog bit the man.', 'It was not unexpected.', 'The man bit him first.'],\n",
    "        ['The dog had bit the man.', 'No one was surprised.', 'The man had bitten the dog.']]\n",
    "bleu = corpus_bleu(sys, refs)\n",
    "print(bleu.score)"
   ]
  },
  {
   "cell_type": "code",
   "execution_count": 42,
   "metadata": {},
   "outputs": [
    {
     "name": "stdout",
     "output_type": "stream",
     "text": [
      "22.31301601484299\n"
     ]
    }
   ],
   "source": [
    "sys = ['The dog bit the man.']\n",
    "refs = [['The dog bit the man.<eos><eos><eos>'],\n",
    "        ['The dog had bit the man. <eos><eos><eos><eos>']]\n",
    "bleu = corpus_bleu(sys, refs, force=True)\n",
    "print(bleu.score)"
   ]
  },
  {
   "cell_type": "code",
   "execution_count": 43,
   "metadata": {},
   "outputs": [
    {
     "data": {
      "text/plain": [
       "34.66806371753173"
      ]
     },
     "execution_count": 43,
     "metadata": {},
     "output_type": "execute_result"
    }
   ],
   "source": [
    "sys = ['i kill you']\n",
    "refs = ['i love you']\n",
    "sentence_bleu(sys, refs).score"
   ]
  },
  {
   "cell_type": "code",
   "execution_count": 44,
   "metadata": {},
   "outputs": [
    {
     "name": "stderr",
     "output_type": "stream",
     "text": [
      "/home/long8v/anaconda3/envs/long36v/lib/python3.6/site-packages/torchtext/data/batch.py:23: UserWarning: Batch class will be retired soon and moved to torchtext.legacy. Please see the most recent release notes for further information.\n",
      "  warnings.warn('{} class will be retired soon and moved to torchtext.legacy. Please see the most recent release notes for further information.'.format(self.__class__.__name__), UserWarning)\n"
     ]
    }
   ],
   "source": [
    "for batch in train_iterator:\n",
    "    src = batch.src\n",
    "    trg = batch.trg\n",
    "    break"
   ]
  },
  {
   "cell_type": "code",
   "execution_count": 45,
   "metadata": {},
   "outputs": [],
   "source": [
    "output = model(src, trg)"
   ]
  },
  {
   "cell_type": "code",
   "execution_count": 46,
   "metadata": {},
   "outputs": [
    {
     "data": {
      "text/plain": [
       "torch.Size([31, 32, 6469])"
      ]
     },
     "execution_count": 46,
     "metadata": {},
     "output_type": "execute_result"
    }
   ],
   "source": [
    "output.shape # seq_len, batch_size, trg_token_list"
   ]
  },
  {
   "cell_type": "code",
   "execution_count": 47,
   "metadata": {},
   "outputs": [
    {
     "data": {
      "text/plain": [
       "1"
      ]
     },
     "execution_count": 47,
     "metadata": {},
     "output_type": "execute_result"
    }
   ],
   "source": [
    "TRG_PAD_IDX"
   ]
  },
  {
   "cell_type": "code",
   "execution_count": 48,
   "metadata": {
    "scrolled": true
   },
   "outputs": [
    {
     "data": {
      "text/plain": [
       "torch.Size([31, 32])"
      ]
     },
     "execution_count": 48,
     "metadata": {},
     "output_type": "execute_result"
    }
   ],
   "source": [
    "output.argmax(-1).shape"
   ]
  },
  {
   "cell_type": "code",
   "execution_count": 49,
   "metadata": {},
   "outputs": [],
   "source": [
    "TRG_PAD_IDX = TRG.vocab.stoi[TRG.pad_token]\n",
    "TRG_UNK_IDX = TRG.vocab.stoi[TRG.unk_token]\n",
    "TRG_EOS_IDX = TRG.vocab.stoi[TRG.eos_token]\n",
    "TRG_special_tokens = [TRG_EOS_IDX, TRG_PAD_IDX, TRG_UNK_IDX]"
   ]
  },
  {
   "cell_type": "code",
   "execution_count": 50,
   "metadata": {},
   "outputs": [],
   "source": [
    "def get_speical_token(field):\n",
    "    def get_stoi(idx):\n",
    "        return field.vocab.stoi[idx]\n",
    "    return [get_stoi(field.pad_token), get_stoi(field.unk_token), \n",
    "            get_stoi(field.eos_token)]"
   ]
  },
  {
   "cell_type": "code",
   "execution_count": 51,
   "metadata": {},
   "outputs": [],
   "source": [
    "def get_itos_str(tokens, field):\n",
    "    ignore_idx = get_speical_token(field)\n",
    "    return ' '.join([field.vocab.itos[token] for token in tokens\n",
    "                    if token not in ignore_idx])"
   ]
  },
  {
   "cell_type": "code",
   "execution_count": 52,
   "metadata": {},
   "outputs": [],
   "source": [
    "def get_itos_batch(tokens_batch, field):\n",
    "    return [get_itos_str(batch, field) for batch in tokens_batch]"
   ]
  },
  {
   "cell_type": "code",
   "execution_count": 53,
   "metadata": {},
   "outputs": [],
   "source": [
    "def get_bleu_score(output, trg, trg_field):\n",
    "    with torch.no_grad():\n",
    "        output_token = output.argmax(-1)\n",
    "\n",
    "    # 문장 별로 해야돼서 permute 해야 함\n",
    "    output_token = output_token.permute(1, 0)\n",
    "    trg = trg.permute(1, 0)\n",
    "    system = get_itos_batch(output_token, trg_field)\n",
    "    refs = get_itos_batch(trg, trg_field)\n",
    "    bleu = corpus_bleu(system, [refs], force=True).score\n",
    "\n",
    "    return bleu"
   ]
  },
  {
   "cell_type": "code",
   "execution_count": 54,
   "metadata": {},
   "outputs": [
    {
     "data": {
      "text/plain": [
       "(torch.Size([31, 32, 6469]), torch.Size([31, 32]))"
      ]
     },
     "execution_count": 54,
     "metadata": {},
     "output_type": "execute_result"
    }
   ],
   "source": [
    "output.shape, trg.shape"
   ]
  },
  {
   "cell_type": "code",
   "execution_count": 55,
   "metadata": {},
   "outputs": [
    {
     "data": {
      "text/plain": [
       "0.046137309505918385"
      ]
     },
     "execution_count": 55,
     "metadata": {},
     "output_type": "execute_result"
    }
   ],
   "source": [
    "get_bleu_score(output, trg, TRG)"
   ]
  },
  {
   "cell_type": "code",
   "execution_count": 56,
   "metadata": {},
   "outputs": [],
   "source": [
    "def train(model, iterator, optimizer, criterion, clip):\n",
    "    \n",
    "    model.train()\n",
    "    \n",
    "    epoch_loss = 0\n",
    "    epoch_bleu = 0 \n",
    "    \n",
    "    for i, batch in enumerate(iterator):\n",
    "        \n",
    "        src = batch.src\n",
    "        trg = batch.trg\n",
    "        \n",
    "        optimizer.zero_grad()\n",
    "        \n",
    "        output = model(src, trg)\n",
    "        \n",
    "        #trg = [trg len, batch size]\n",
    "        #output = [trg len, batch size, output dim]\n",
    "        \n",
    "        bleu = get_bleu_score(output, trg, TRG)\n",
    "        output_dim = output.shape[-1]\n",
    "        \n",
    "        output = output[1:].view(-1, output_dim)\n",
    "        trg = trg[1:].view(-1)\n",
    "        \n",
    "        #trg = [(trg len - 1) * batch size]\n",
    "        #output = [(trg len - 1) * batch size, output dim]\n",
    "        \n",
    "        loss = criterion(output, trg)\n",
    "\n",
    "        \n",
    "        loss.backward()\n",
    "        \n",
    "        torch.nn.utils.clip_grad_norm_(model.parameters(), clip)\n",
    "        \n",
    "        optimizer.step()\n",
    "        \n",
    "        epoch_loss += loss.item()\n",
    "        epoch_bleu += bleu\n",
    "        \n",
    "    return epoch_loss / len(iterator), epoch_bleu / len(iterator)"
   ]
  },
  {
   "cell_type": "code",
   "execution_count": 57,
   "metadata": {},
   "outputs": [],
   "source": [
    "def evaluate(model, iterator, criterion):\n",
    "    \n",
    "    model.eval()\n",
    "    \n",
    "    epoch_loss = 0\n",
    "    epoch_bleu = 0 \n",
    "    \n",
    "    with torch.no_grad():\n",
    "    \n",
    "        for i, batch in enumerate(iterator):\n",
    "\n",
    "            src = batch.src\n",
    "            trg = batch.trg\n",
    "\n",
    "            output = model(src, trg, 0) #turn off teacher forcing\n",
    "\n",
    "            #trg = [trg len, batch size]\n",
    "            #output = [trg len, batch size, output dim]\n",
    "            bleu = get_bleu_score(output, trg, TRG)\n",
    "            output_dim = output.shape[-1]\n",
    "            \n",
    "            output = output[1:].view(-1, output_dim)\n",
    "            trg = trg[1:].view(-1)\n",
    "\n",
    "            #trg = [(trg len - 1) * batch size]\n",
    "            #output = [(trg len - 1) * batch size, output dim]\n",
    "\n",
    "            loss = criterion(output, trg)\n",
    "\n",
    "\n",
    "            epoch_loss += loss.item()\n",
    "            epoch_bleu += bleu\n",
    "        \n",
    "    return epoch_loss / len(iterator), epoch_bleu / len(iterator)"
   ]
  },
  {
   "cell_type": "code",
   "execution_count": 58,
   "metadata": {},
   "outputs": [],
   "source": [
    "def epoch_time(start_time, end_time):\n",
    "    elapsed_time = end_time - start_time\n",
    "    elapsed_mins = int(elapsed_time / 60)\n",
    "    elapsed_secs = int(elapsed_time - (elapsed_mins * 60))\n",
    "    return elapsed_mins, elapsed_secs"
   ]
  },
  {
   "cell_type": "code",
   "execution_count": 60,
   "metadata": {
    "scrolled": false
   },
   "outputs": [
    {
     "name": "stdout",
     "output_type": "stream",
     "text": [
      "0\n"
     ]
    },
    {
     "name": "stderr",
     "output_type": "stream",
     "text": [
      "/home/long8v/anaconda3/envs/long36v/lib/python3.6/site-packages/torchtext/data/batch.py:23: UserWarning: Batch class will be retired soon and moved to torchtext.legacy. Please see the most recent release notes for further information.\n",
      "  warnings.warn('{} class will be retired soon and moved to torchtext.legacy. Please see the most recent release notes for further information.'.format(self.__class__.__name__), UserWarning)\n"
     ]
    },
    {
     "ename": "KeyboardInterrupt",
     "evalue": "",
     "output_type": "error",
     "traceback": [
      "\u001b[0;31m---------------------------------------------------------------------------\u001b[0m",
      "\u001b[0;31mKeyboardInterrupt\u001b[0m                         Traceback (most recent call last)",
      "\u001b[0;32m<ipython-input-60-0989121f0c62>\u001b[0m in \u001b[0;36m<module>\u001b[0;34m\u001b[0m\n\u001b[1;32m      8\u001b[0m     \u001b[0mstart_time\u001b[0m \u001b[0;34m=\u001b[0m \u001b[0mtime\u001b[0m\u001b[0;34m.\u001b[0m\u001b[0mtime\u001b[0m\u001b[0;34m(\u001b[0m\u001b[0;34m)\u001b[0m\u001b[0;34m\u001b[0m\u001b[0;34m\u001b[0m\u001b[0m\n\u001b[1;32m      9\u001b[0m \u001b[0;34m\u001b[0m\u001b[0m\n\u001b[0;32m---> 10\u001b[0;31m     \u001b[0mtrain_loss\u001b[0m\u001b[0;34m,\u001b[0m \u001b[0mtrain_bleu\u001b[0m \u001b[0;34m=\u001b[0m \u001b[0mtrain\u001b[0m\u001b[0;34m(\u001b[0m\u001b[0mmodel\u001b[0m\u001b[0;34m,\u001b[0m \u001b[0mtrain_iterator\u001b[0m\u001b[0;34m,\u001b[0m \u001b[0moptimizer\u001b[0m\u001b[0;34m,\u001b[0m \u001b[0mcriterion\u001b[0m\u001b[0;34m,\u001b[0m \u001b[0mCLIP\u001b[0m\u001b[0;34m)\u001b[0m\u001b[0;34m\u001b[0m\u001b[0;34m\u001b[0m\u001b[0m\n\u001b[0m\u001b[1;32m     11\u001b[0m     \u001b[0mvalid_loss\u001b[0m\u001b[0;34m,\u001b[0m \u001b[0mvalid_bleu\u001b[0m \u001b[0;34m=\u001b[0m \u001b[0mevaluate\u001b[0m\u001b[0;34m(\u001b[0m\u001b[0mmodel\u001b[0m\u001b[0;34m,\u001b[0m \u001b[0mvalid_iterator\u001b[0m\u001b[0;34m,\u001b[0m \u001b[0mcriterion\u001b[0m\u001b[0;34m)\u001b[0m\u001b[0;34m\u001b[0m\u001b[0;34m\u001b[0m\u001b[0m\n\u001b[1;32m     12\u001b[0m \u001b[0;34m\u001b[0m\u001b[0m\n",
      "\u001b[0;32m<ipython-input-56-2460573e6bb7>\u001b[0m in \u001b[0;36mtrain\u001b[0;34m(model, iterator, optimizer, criterion, clip)\u001b[0m\n\u001b[1;32m     18\u001b[0m         \u001b[0;31m#output = [trg len, batch size, output dim]\u001b[0m\u001b[0;34m\u001b[0m\u001b[0;34m\u001b[0m\u001b[0;34m\u001b[0m\u001b[0m\n\u001b[1;32m     19\u001b[0m \u001b[0;34m\u001b[0m\u001b[0m\n\u001b[0;32m---> 20\u001b[0;31m         \u001b[0mbleu\u001b[0m \u001b[0;34m=\u001b[0m \u001b[0mget_bleu_score\u001b[0m\u001b[0;34m(\u001b[0m\u001b[0moutput\u001b[0m\u001b[0;34m,\u001b[0m \u001b[0mtrg\u001b[0m\u001b[0;34m,\u001b[0m \u001b[0mTRG\u001b[0m\u001b[0;34m)\u001b[0m\u001b[0;34m\u001b[0m\u001b[0;34m\u001b[0m\u001b[0m\n\u001b[0m\u001b[1;32m     21\u001b[0m         \u001b[0moutput_dim\u001b[0m \u001b[0;34m=\u001b[0m \u001b[0moutput\u001b[0m\u001b[0;34m.\u001b[0m\u001b[0mshape\u001b[0m\u001b[0;34m[\u001b[0m\u001b[0;34m-\u001b[0m\u001b[0;36m1\u001b[0m\u001b[0;34m]\u001b[0m\u001b[0;34m\u001b[0m\u001b[0;34m\u001b[0m\u001b[0m\n\u001b[1;32m     22\u001b[0m \u001b[0;34m\u001b[0m\u001b[0m\n",
      "\u001b[0;32m<ipython-input-53-1e56f196db21>\u001b[0m in \u001b[0;36mget_bleu_score\u001b[0;34m(output, trg, trg_field)\u001b[0m\n\u001b[1;32m      6\u001b[0m     \u001b[0moutput_token\u001b[0m \u001b[0;34m=\u001b[0m \u001b[0moutput_token\u001b[0m\u001b[0;34m.\u001b[0m\u001b[0mpermute\u001b[0m\u001b[0;34m(\u001b[0m\u001b[0;36m1\u001b[0m\u001b[0;34m,\u001b[0m \u001b[0;36m0\u001b[0m\u001b[0;34m)\u001b[0m\u001b[0;34m\u001b[0m\u001b[0;34m\u001b[0m\u001b[0m\n\u001b[1;32m      7\u001b[0m     \u001b[0mtrg\u001b[0m \u001b[0;34m=\u001b[0m \u001b[0mtrg\u001b[0m\u001b[0;34m.\u001b[0m\u001b[0mpermute\u001b[0m\u001b[0;34m(\u001b[0m\u001b[0;36m1\u001b[0m\u001b[0;34m,\u001b[0m \u001b[0;36m0\u001b[0m\u001b[0;34m)\u001b[0m\u001b[0;34m\u001b[0m\u001b[0;34m\u001b[0m\u001b[0m\n\u001b[0;32m----> 8\u001b[0;31m     \u001b[0msystem\u001b[0m \u001b[0;34m=\u001b[0m \u001b[0mget_itos_batch\u001b[0m\u001b[0;34m(\u001b[0m\u001b[0moutput_token\u001b[0m\u001b[0;34m,\u001b[0m \u001b[0mtrg_field\u001b[0m\u001b[0;34m)\u001b[0m\u001b[0;34m\u001b[0m\u001b[0;34m\u001b[0m\u001b[0m\n\u001b[0m\u001b[1;32m      9\u001b[0m     \u001b[0mrefs\u001b[0m \u001b[0;34m=\u001b[0m \u001b[0mget_itos_batch\u001b[0m\u001b[0;34m(\u001b[0m\u001b[0mtrg\u001b[0m\u001b[0;34m,\u001b[0m \u001b[0mtrg_field\u001b[0m\u001b[0;34m)\u001b[0m\u001b[0;34m\u001b[0m\u001b[0;34m\u001b[0m\u001b[0m\n\u001b[1;32m     10\u001b[0m     \u001b[0mbleu\u001b[0m \u001b[0;34m=\u001b[0m \u001b[0mcorpus_bleu\u001b[0m\u001b[0;34m(\u001b[0m\u001b[0msystem\u001b[0m\u001b[0;34m,\u001b[0m \u001b[0;34m[\u001b[0m\u001b[0mrefs\u001b[0m\u001b[0;34m]\u001b[0m\u001b[0;34m,\u001b[0m \u001b[0mforce\u001b[0m\u001b[0;34m=\u001b[0m\u001b[0;32mTrue\u001b[0m\u001b[0;34m)\u001b[0m\u001b[0;34m.\u001b[0m\u001b[0mscore\u001b[0m\u001b[0;34m\u001b[0m\u001b[0;34m\u001b[0m\u001b[0m\n",
      "\u001b[0;32m<ipython-input-52-5032b6429287>\u001b[0m in \u001b[0;36mget_itos_batch\u001b[0;34m(tokens_batch, field)\u001b[0m\n\u001b[1;32m      1\u001b[0m \u001b[0;32mdef\u001b[0m \u001b[0mget_itos_batch\u001b[0m\u001b[0;34m(\u001b[0m\u001b[0mtokens_batch\u001b[0m\u001b[0;34m,\u001b[0m \u001b[0mfield\u001b[0m\u001b[0;34m)\u001b[0m\u001b[0;34m:\u001b[0m\u001b[0;34m\u001b[0m\u001b[0;34m\u001b[0m\u001b[0m\n\u001b[0;32m----> 2\u001b[0;31m     \u001b[0;32mreturn\u001b[0m \u001b[0;34m[\u001b[0m\u001b[0mget_itos_str\u001b[0m\u001b[0;34m(\u001b[0m\u001b[0mbatch\u001b[0m\u001b[0;34m,\u001b[0m \u001b[0mfield\u001b[0m\u001b[0;34m)\u001b[0m \u001b[0;32mfor\u001b[0m \u001b[0mbatch\u001b[0m \u001b[0;32min\u001b[0m \u001b[0mtokens_batch\u001b[0m\u001b[0;34m]\u001b[0m\u001b[0;34m\u001b[0m\u001b[0;34m\u001b[0m\u001b[0m\n\u001b[0m",
      "\u001b[0;32m<ipython-input-52-5032b6429287>\u001b[0m in \u001b[0;36m<listcomp>\u001b[0;34m(.0)\u001b[0m\n\u001b[1;32m      1\u001b[0m \u001b[0;32mdef\u001b[0m \u001b[0mget_itos_batch\u001b[0m\u001b[0;34m(\u001b[0m\u001b[0mtokens_batch\u001b[0m\u001b[0;34m,\u001b[0m \u001b[0mfield\u001b[0m\u001b[0;34m)\u001b[0m\u001b[0;34m:\u001b[0m\u001b[0;34m\u001b[0m\u001b[0;34m\u001b[0m\u001b[0m\n\u001b[0;32m----> 2\u001b[0;31m     \u001b[0;32mreturn\u001b[0m \u001b[0;34m[\u001b[0m\u001b[0mget_itos_str\u001b[0m\u001b[0;34m(\u001b[0m\u001b[0mbatch\u001b[0m\u001b[0;34m,\u001b[0m \u001b[0mfield\u001b[0m\u001b[0;34m)\u001b[0m \u001b[0;32mfor\u001b[0m \u001b[0mbatch\u001b[0m \u001b[0;32min\u001b[0m \u001b[0mtokens_batch\u001b[0m\u001b[0;34m]\u001b[0m\u001b[0;34m\u001b[0m\u001b[0;34m\u001b[0m\u001b[0m\n\u001b[0m",
      "\u001b[0;32m<ipython-input-51-91e892cc0009>\u001b[0m in \u001b[0;36mget_itos_str\u001b[0;34m(tokens, field)\u001b[0m\n\u001b[1;32m      1\u001b[0m \u001b[0;32mdef\u001b[0m \u001b[0mget_itos_str\u001b[0m\u001b[0;34m(\u001b[0m\u001b[0mtokens\u001b[0m\u001b[0;34m,\u001b[0m \u001b[0mfield\u001b[0m\u001b[0;34m)\u001b[0m\u001b[0;34m:\u001b[0m\u001b[0;34m\u001b[0m\u001b[0;34m\u001b[0m\u001b[0m\n\u001b[1;32m      2\u001b[0m     \u001b[0mignore_idx\u001b[0m \u001b[0;34m=\u001b[0m \u001b[0mget_speical_token\u001b[0m\u001b[0;34m(\u001b[0m\u001b[0mfield\u001b[0m\u001b[0;34m)\u001b[0m\u001b[0;34m\u001b[0m\u001b[0;34m\u001b[0m\u001b[0m\n\u001b[0;32m----> 3\u001b[0;31m     return ' '.join([field.vocab.itos[token] for token in tokens\n\u001b[0m\u001b[1;32m      4\u001b[0m                     if token not in ignore_idx])\n",
      "\u001b[0;32m<ipython-input-51-91e892cc0009>\u001b[0m in \u001b[0;36m<listcomp>\u001b[0;34m(.0)\u001b[0m\n\u001b[1;32m      2\u001b[0m     \u001b[0mignore_idx\u001b[0m \u001b[0;34m=\u001b[0m \u001b[0mget_speical_token\u001b[0m\u001b[0;34m(\u001b[0m\u001b[0mfield\u001b[0m\u001b[0;34m)\u001b[0m\u001b[0;34m\u001b[0m\u001b[0;34m\u001b[0m\u001b[0m\n\u001b[1;32m      3\u001b[0m     return ' '.join([field.vocab.itos[token] for token in tokens\n\u001b[0;32m----> 4\u001b[0;31m                     if token not in ignore_idx])\n\u001b[0m",
      "\u001b[0;31mKeyboardInterrupt\u001b[0m: "
     ]
    }
   ],
   "source": [
    "N_EPOCHS = 10\n",
    "CLIP = 1\n",
    "\n",
    "best_valid_loss = float('inf')\n",
    "\n",
    "for epoch in range(N_EPOCHS):\n",
    "    \n",
    "    start_time = time.time()\n",
    "    \n",
    "    train_loss, train_bleu = train(model, train_iterator, optimizer, criterion, CLIP)\n",
    "    valid_loss, valid_bleu = evaluate(model, valid_iterator, criterion)\n",
    "    \n",
    "    end_time = time.time()\n",
    "    \n",
    "    epoch_mins, epoch_secs = epoch_time(start_time, end_time)\n",
    "    \n",
    "    if valid_loss < best_valid_loss:\n",
    "        best_valid_loss = valid_loss\n",
    "        torch.save(model.state_dict(), 'tut3-model.pt')\n",
    "    \n",
    "    print(f'Epoch: {epoch+1:02} | Time: {epoch_mins}m {epoch_secs}s')\n",
    "    print(f'\\tTrain Loss: {train_loss:.3f} | Train PPL: {math.exp(train_loss):7.3f} | train BLEU : {train_bleu:.3f}')\n",
    "    print(f'\\tVal. Loss: {valid_loss:.3f} |  Val. PPL: {math.exp(valid_loss):7.3f} | valid BLEU : {valid_bleu:.3f}')"
   ]
  },
  {
   "cell_type": "markdown",
   "metadata": {},
   "source": [
    "Finally, we test the model on the test set using these \"best\" parameters."
   ]
  },
  {
   "cell_type": "raw",
   "metadata": {},
   "source": [
    "without maxout\n",
    "\n",
    "Epoch: 01 | Time: 3m 15s\n",
    "\tTrain Loss: 5.239 | Train PPL: 188.575 | train BLEU : 0.381\n",
    "\t Val. Loss: 5.380 |  Val. PPL: 217.083 | valid BLEU : 0.704\n",
    "Epoch: 02 | Time: 3m 16s\n",
    "\tTrain Loss: 4.432 | Train PPL:  84.116 | train BLEU : 1.410\n",
    "\t Val. Loss: 5.017 |  Val. PPL: 150.963 | valid BLEU : 3.302\n",
    "Epoch: 03 | Time: 3m 21s\n",
    "\tTrain Loss: 3.743 | Train PPL:  42.219 | train BLEU : 4.420\n",
    "\t Val. Loss: 3.838 |  Val. PPL:  46.419 | valid BLEU : 13.759\n",
    "Epoch: 04 | Time: 3m 18s\n",
    "\tTrain Loss: 2.762 | Train PPL:  15.824 | train BLEU : 13.237\n",
    "\t Val. Loss: 3.261 |  Val. PPL:  26.088 | valid BLEU : 24.845\n",
    "Epoch: 05 | Time: 3m 19s\n",
    "\tTrain Loss: 2.199 | Train PPL:   9.017 | train BLEU : 19.587\n",
    "\t Val. Loss: 2.903 |  Val. PPL:  18.225 | valid BLEU : 32.483\n",
    "Epoch: 06 | Time: 3m 19s\n",
    "\tTrain Loss: 1.802 | Train PPL:   6.059 | train BLEU : 24.154\n",
    "\t Val. Loss: 2.790 |  Val. PPL:  16.274 | valid BLEU : 35.187\n",
    "Epoch: 07 | Time: 3m 18s\n",
    "\tTrain Loss: 1.529 | Train PPL:   4.612 | train BLEU : 28.056\n",
    "\t Val. Loss: 2.750 |  Val. PPL:  15.646 | valid BLEU : 37.183\n",
    "Epoch: 08 | Time: 3m 20s\n",
    "\tTrain Loss: 1.306 | Train PPL:   3.691 | train BLEU : 29.984\n",
    "\t Val. Loss: 2.723 |  Val. PPL:  15.233 | valid BLEU : 38.439\n",
    "Epoch: 09 | Time: 3m 19s\n",
    "\tTrain Loss: 1.146 | Train PPL:   3.144 | train BLEU : 33.303\n",
    "\t Val. Loss: 2.751 |  Val. PPL:  15.654 | valid BLEU : 39.458\n",
    "Epoch: 10 | Time: 3m 17s\n",
    "\tTrain Loss: 1.036 | Train PPL:   2.818 | train BLEU : 35.230\n",
    "\t Val. Loss: 2.742 |  Val. PPL:  15.512 | valid BLEU : 38.921"
   ]
  },
  {
   "cell_type": "raw",
   "metadata": {},
   "source": [
    "with maxout w/o parameter unchanged\n",
    "\n",
    "Epoch: 01 | Time: 4m 40s\n",
    "\tTrain Loss: 5.228 | Train PPL: 186.433 | train BLEU : 0.366\n",
    "\t Val. Loss: 5.025 |  Val. PPL: 152.156 | valid BLEU : 0.812\n",
    "Epoch: 02 | Time: 5m 4s\n",
    "\tTrain Loss: 4.304 | Train PPL:  74.008 | train BLEU : 1.677\n",
    "\t Val. Loss: 4.536 |  Val. PPL:  93.316 | valid BLEU : 3.694\n",
    "Epoch: 03 | Time: 4m 11s\n",
    "\tTrain Loss: 3.575 | Train PPL:  35.677 | train BLEU : 6.187\n",
    "\t Val. Loss: 4.209 |  Val. PPL:  67.277 | valid BLEU : 10.841\n",
    "Epoch: 04 | Time: 3m 8s\n",
    "\tTrain Loss: 3.019 | Train PPL:  20.461 | train BLEU : 12.969\n",
    "\t Val. Loss: 3.684 |  Val. PPL:  39.821 | valid BLEU : 19.822\n",
    "Epoch: 05 | Time: 3m 6s\n",
    "\tTrain Loss: 2.639 | Train PPL:  14.005 | train BLEU : 18.326\n",
    "\t Val. Loss: 3.268 |  Val. PPL:  26.248 | valid BLEU : 27.197\n",
    "Epoch: 06 | Time: 3m 3s\n",
    "\tTrain Loss: 2.302 | Train PPL:   9.996 | train BLEU : 23.039\n",
    "\t Val. Loss: 3.061 |  Val. PPL:  21.346 | valid BLEU : 30.057\n",
    "Epoch: 07 | Time: 3m 2s\n",
    "\tTrain Loss: 2.066 | Train PPL:   7.894 | train BLEU : 26.086\n",
    "\t Val. Loss: 2.928 |  Val. PPL:  18.685 | valid BLEU : 35.345\n",
    "Epoch: 08 | Time: 3m 3s\n",
    "\tTrain Loss: 1.880 | Train PPL:   6.553 | train BLEU : 27.289\n",
    "\t Val. Loss: 2.898 |  Val. PPL:  18.133 | valid BLEU : 37.436\n",
    "Epoch: 09 | Time: 3m 6s\n",
    "\tTrain Loss: 1.706 | Train PPL:   5.504 | train BLEU : 29.220\n",
    "\t Val. Loss: 2.762 |  Val. PPL:  15.828 | valid BLEU : 38.731\n",
    "Epoch: 10 | Time: 3m 11s\n",
    "\tTrain Loss: 1.592 | Train PPL:   4.913 | train BLEU : 30.808\n",
    "\t Val. Loss: 2.661 |  Val. PPL:  14.310 | valid BLEU : 39.102\n"
   ]
  },
  {
   "cell_type": "code",
   "execution_count": null,
   "metadata": {},
   "outputs": [],
   "source": [
    "model.load_state_dict(torch.load('tut3-model.pt'))\n",
    "\n",
    "test_loss, test_bleu = evaluate(model, test_iterator, criterion)\n",
    "\n",
    "print(f'| Test Loss: {test_loss:.3f} | Test PPL: {math.exp(test_loss):7.3f} | Test BLEU : {test_bleu :.3f}')"
   ]
  },
  {
   "cell_type": "markdown",
   "metadata": {},
   "source": [
    "without maxout<br>\n",
    "| Test Loss: 2.577 | Test PPL:  13.162 | Test BLEU : 39.637<br>\n",
    "with maxout (no parameter change) <br>\n",
    "| Test Loss: 2.516 | Test PPL:  12.380 | Test BLEU : 40.204<br>\n",
    "with maxout and paper parameter<br>\n",
    "| Test Loss: 2.545 | Test PPL:  12.747 | Test BLEU : 40.328"
   ]
  },
  {
   "cell_type": "markdown",
   "metadata": {},
   "source": [
    "# predict"
   ]
  },
  {
   "cell_type": "code",
   "execution_count": null,
   "metadata": {},
   "outputs": [],
   "source": [
    "examples = ['i like you', 'i hate you']"
   ]
  },
  {
   "cell_type": "code",
   "execution_count": null,
   "metadata": {},
   "outputs": [],
   "source": [
    "preprocessed = [SRC.preprocess(example) for example in examples]\n",
    "processed = SRC.process(preprocessed)\n",
    "preprocessed, processed"
   ]
  },
  {
   "cell_type": "code",
   "execution_count": null,
   "metadata": {},
   "outputs": [],
   "source": [
    "# TRG_LEN 만큼 outputs이 나오기 때문에 그냥 길이를 늘여줌\n",
    "processed_long = processed.repeat(4, 1) "
   ]
  },
  {
   "cell_type": "code",
   "execution_count": null,
   "metadata": {},
   "outputs": [],
   "source": [
    "with torch.no_grad():\n",
    "    outputs = model(processed.to(device), processed_long.to(device), teacher_forcing_ratio=0)"
   ]
  },
  {
   "cell_type": "code",
   "execution_count": null,
   "metadata": {},
   "outputs": [],
   "source": [
    "outputs.shape"
   ]
  },
  {
   "cell_type": "code",
   "execution_count": null,
   "metadata": {},
   "outputs": [],
   "source": [
    "predicted = torch.argmax(outputs, dim=-1)"
   ]
  },
  {
   "cell_type": "code",
   "execution_count": null,
   "metadata": {},
   "outputs": [],
   "source": [
    "predicted.T"
   ]
  },
  {
   "cell_type": "code",
   "execution_count": null,
   "metadata": {
    "scrolled": true
   },
   "outputs": [],
   "source": [
    "get_itos_batch(predicted.T, TRG)"
   ]
  },
  {
   "cell_type": "markdown",
   "metadata": {},
   "source": [
    "je sais que vous vous vous vous . : \n",
    "I know you you you you you.<br>\n",
    "j' pancarte vous vous . : I sign you you."
   ]
  },
  {
   "cell_type": "code",
   "execution_count": null,
   "metadata": {},
   "outputs": [],
   "source": []
  }
 ],
 "metadata": {
  "kernelspec": {
   "display_name": "long36v",
   "language": "python",
   "name": "long36v"
  },
  "language_info": {
   "codemirror_mode": {
    "name": "ipython",
    "version": 3
   },
   "file_extension": ".py",
   "mimetype": "text/x-python",
   "name": "python",
   "nbconvert_exporter": "python",
   "pygments_lexer": "ipython3",
   "version": "3.6.12"
  }
 },
 "nbformat": 4,
 "nbformat_minor": 2
}
