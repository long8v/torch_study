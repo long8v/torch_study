{
 "cells": [
  {
   "cell_type": "markdown",
   "metadata": {},
   "source": [
    "## 1. 딥러닝 프레임워크 \n",
    "딥러닝 프레임워크는 왜 필요할까요?"
   ]
  },
  {
   "cell_type": "markdown",
   "metadata": {},
   "source": [
    "딥러닝을 하기 위해선 이런 것들이 필요합니다. \n",
    "- 역전파 기능\n",
    "- 모델을 gpu에서 돌릴 수 있도록 하는 기능 \n",
    "- 데이터를 gpu에 올리는 기능\n",
    "- 모델 구조를 구현\n",
    "- 역전파할 때의 optimizer\n",
    "- learning rate 조정을 할 수 있는 scheduler\n",
    "- 기타 등등...\n",
    "\n",
    "이것들을 매번 구현하기에는 시간도 오래걸리고 매번 효율화를 할 수 없습니다.<br>\n",
    "그래서 우리는 딥러닝 프레임워크를 사용하면 미리 정의된 클래스, 메소드를 사용하여 **비교적 간단하게(!)**구현할 수 있습니다<br>\n",
    "대표적인 프레임워크로는 tensorflow와 pyTorch가 있습니다"
   ]
  },
  {
   "cell_type": "markdown",
   "metadata": {},
   "source": [
    "## 2. tensorflow vs. torch"
   ]
  },
  {
   "cell_type": "markdown",
   "metadata": {},
   "source": [
    "## 3. torch 기본 텐서조작 "
   ]
  },
  {
   "cell_type": "markdown",
   "metadata": {},
   "source": [
    "torch의 자료형으로는 tensor가 있습니다. tensor는 기본적으로 numpy.array와 유사하며 메소드도 공유하고 있습니다.<br>\n",
    "numpy.array를 잠깐 복습해봅시다."
   ]
  },
  {
   "cell_type": "code",
   "execution_count": 1,
   "metadata": {},
   "outputs": [],
   "source": [
    "import torch\n",
    "import numpy as np"
   ]
  },
  {
   "cell_type": "code",
   "execution_count": 2,
   "metadata": {},
   "outputs": [
    {
     "name": "stdout",
     "output_type": "stream",
     "text": [
      "[[0 1 0]\n",
      " [0 0 0]]\n",
      "(2, 3)\n"
     ]
    }
   ],
   "source": [
    "X = np.array([[0, 1, 0], [0, 0, 0]])\n",
    "print(X) \n",
    "print(X.shape)"
   ]
  },
  {
   "cell_type": "code",
   "execution_count": 3,
   "metadata": {},
   "outputs": [
    {
     "name": "stdout",
     "output_type": "stream",
     "text": [
      "[[0. 0. 0. 0. 0.]\n",
      " [0. 0. 0. 0. 0.]]\n"
     ]
    }
   ],
   "source": [
    "X = np.zeros((2, 5))\n",
    "print(X)"
   ]
  },
  {
   "cell_type": "markdown",
   "metadata": {},
   "source": [
    "### 문제 1: 2 by 3 np.array를 1 by 6으로 만들어보세요\n",
    "**hint : reshape**"
   ]
  },
  {
   "cell_type": "code",
   "execution_count": 4,
   "metadata": {},
   "outputs": [],
   "source": [
    "# X.reshape((-1, 6))"
   ]
  },
  {
   "cell_type": "markdown",
   "metadata": {},
   "source": [
    "이 때 shape이 (1, 6)과 (6,)은 다름을 알아둡시다! "
   ]
  },
  {
   "cell_type": "code",
   "execution_count": 5,
   "metadata": {},
   "outputs": [
    {
     "data": {
      "text/plain": [
       "(array([1., 1., 1., 1., 1., 1.]), array([[1., 1., 1., 1., 1., 1.]]))"
      ]
     },
     "execution_count": 5,
     "metadata": {},
     "output_type": "execute_result"
    }
   ],
   "source": [
    "np.ones(6), np.ones((1, 6))"
   ]
  },
  {
   "cell_type": "markdown",
   "metadata": {},
   "source": [
    "torch의 tensor는 이와 매우 유사합니다. 이 때, torch.Tensor와 torch.tensor는 사용법이 다름을 유의합시다"
   ]
  },
  {
   "cell_type": "code",
   "execution_count": 6,
   "metadata": {},
   "outputs": [],
   "source": [
    "X = torch.Tensor(3, 5) # 3 by 5 random tensor생성, np.random.rand와 같은 기능"
   ]
  },
  {
   "cell_type": "code",
   "execution_count": 7,
   "metadata": {},
   "outputs": [
    {
     "data": {
      "text/plain": [
       "tensor([[ 3.2487e+33,  5.8687e-02,  2.9287e-43,  0.0000e+00, -3.9788e+03],\n",
       "        [ 4.5608e-41, -3.9788e+03,  4.5608e-41,  5.8270e-10,  8.2990e-33],\n",
       "        [ 1.3563e-19,  1.3563e-19,  1.3563e-19,  2.4754e-12,  2.4756e-12]])"
      ]
     },
     "execution_count": 7,
     "metadata": {},
     "output_type": "execute_result"
    }
   ],
   "source": [
    "X"
   ]
  },
  {
   "cell_type": "code",
   "execution_count": 8,
   "metadata": {},
   "outputs": [],
   "source": [
    "X = torch.tensor([3, 6]) # torch.tensor는 리스트나 어레이를 받아 텐서로 만들어줍니다"
   ]
  },
  {
   "cell_type": "code",
   "execution_count": 9,
   "metadata": {},
   "outputs": [
    {
     "data": {
      "text/plain": [
       "tensor([3, 6])"
      ]
     },
     "execution_count": 9,
     "metadata": {},
     "output_type": "execute_result"
    }
   ],
   "source": [
    "X"
   ]
  },
  {
   "cell_type": "markdown",
   "metadata": {},
   "source": [
    "numpy.array를 torch의 tensor로, 또 torch의 tensor를 numpy.array로 옮길 수 있습니다"
   ]
  },
  {
   "cell_type": "code",
   "execution_count": 10,
   "metadata": {},
   "outputs": [
    {
     "name": "stdout",
     "output_type": "stream",
     "text": [
      "[[1. 1. 1. 1. 1.]\n",
      " [1. 1. 1. 1. 1.]\n",
      " [1. 1. 1. 1. 1.]]\n"
     ]
    }
   ],
   "source": [
    "np_x = np.ones((3, 5))\n",
    "print(np_x)"
   ]
  },
  {
   "cell_type": "code",
   "execution_count": 11,
   "metadata": {},
   "outputs": [
    {
     "name": "stdout",
     "output_type": "stream",
     "text": [
      "tensor([[1., 1., 1., 1., 1.],\n",
      "        [1., 1., 1., 1., 1.],\n",
      "        [1., 1., 1., 1., 1.]], dtype=torch.float64)\n"
     ]
    }
   ],
   "source": [
    "torch_x = torch.from_numpy(np_x)\n",
    "print(torch_x)"
   ]
  },
  {
   "cell_type": "markdown",
   "metadata": {},
   "source": [
    "tensor에도 다양한 메소드가 있습니다. 그 중 가장 많이 쓰이는 것 위주로 배워봅시다.<br> 외의 메소드에 대해서는 공식 문서를 참고합시다.\n",
    "https://pytorch.org/docs/stable/tensors.html"
   ]
  },
  {
   "cell_type": "markdown",
   "metadata": {},
   "source": [
    "### squeeze / unsqueeze\n",
    "squeeze와 unsqueeze는 차원을 줄이거나 늘릴 때 사용하는 메소드입니다"
   ]
  },
  {
   "cell_type": "code",
   "execution_count": 12,
   "metadata": {},
   "outputs": [
    {
     "name": "stdout",
     "output_type": "stream",
     "text": [
      "torch.Size([3, 5])\n",
      "torch.Size([1, 3, 5])\n",
      "torch.Size([3, 5])\n",
      "torch.Size([3, 5])\n"
     ]
    }
   ],
   "source": [
    "print(torch_x.shape)\n",
    "torch_x = torch_x.unsqueeze(0)\n",
    "print(torch_x.shape)         # unsqueeze는 입력으로 받은 차원을 하나 더 생성해줍니다\n",
    "torch_x = torch_x.squeeze(0) # squeeze는 입력으로 받은 차원의 크기 1이라면 차원을 제거해줍니다\n",
    "print(torch_x.shape) \n",
    "torch_x = torch_x.squeeze(1) # 차원의 크기가 1이 아니라면 제거할 수 없습니다\n",
    "print(torch_x.shape) "
   ]
  },
  {
   "cell_type": "markdown",
   "metadata": {},
   "source": [
    "### transpose / permute\n",
    "transpose와 permute는 차원의 위치를 변경하는데 사용됩니다"
   ]
  },
  {
   "cell_type": "code",
   "execution_count": 13,
   "metadata": {},
   "outputs": [
    {
     "name": "stdout",
     "output_type": "stream",
     "text": [
      "torch.Size([5, 3])\n",
      "torch.Size([3, 5])\n"
     ]
    }
   ],
   "source": [
    "torch_x = torch_x.permute(1, 0) # 1번째 차원을 0번째 차원으로, 0번째 차원을 1번째 차원으로\n",
    "print(torch_x.shape)\n",
    "      \n",
    "torch_x = torch_x.transpose(1, 0) # 1번째 차원을 0번째 차원으로, 0번빼 차원을 1번째 차원으로\n",
    "print(torch_x.shape)"
   ]
  },
  {
   "cell_type": "markdown",
   "metadata": {},
   "source": [
    "### view\n",
    "np.array의 reshape과 비슷합니다. 그러나 작동방식이 쭉 한줄로 펼친 후 shape에 맞게 자르는 것임에 주의합니다. <br>\n",
    "그래서 view의 사용은 최대한 자제하는 것이 좋습니다."
   ]
  },
  {
   "cell_type": "code",
   "execution_count": 14,
   "metadata": {},
   "outputs": [
    {
     "name": "stdout",
     "output_type": "stream",
     "text": [
      "tensor([ 1,  2,  3,  4,  5,  6,  7,  8,  9, 10, 11, 12])\n"
     ]
    }
   ],
   "source": [
    "x = torch.arange(1, 13)\n",
    "print(x)"
   ]
  },
  {
   "cell_type": "code",
   "execution_count": 15,
   "metadata": {},
   "outputs": [
    {
     "data": {
      "text/plain": [
       "tensor([[ 1,  2,  3,  4,  5,  6],\n",
       "        [ 7,  8,  9, 10, 11, 12]])"
      ]
     },
     "execution_count": 15,
     "metadata": {},
     "output_type": "execute_result"
    }
   ],
   "source": [
    "x_2_6 = x.view(2, 6)\n",
    "x_2_6"
   ]
  },
  {
   "cell_type": "code",
   "execution_count": 16,
   "metadata": {},
   "outputs": [
    {
     "data": {
      "text/plain": [
       "tensor([[ 1,  2],\n",
       "        [ 3,  4],\n",
       "        [ 5,  6],\n",
       "        [ 7,  8],\n",
       "        [ 9, 10],\n",
       "        [11, 12]])"
      ]
     },
     "execution_count": 16,
     "metadata": {},
     "output_type": "execute_result"
    }
   ],
   "source": [
    "x_2_6.view(6, 2)"
   ]
  },
  {
   "cell_type": "markdown",
   "metadata": {},
   "source": [
    "### 문제 2 : x_2_6을  위와 같이 만드려면 어떻게 해야할까요?\n",
    "tensor([[ 1,  7],<br>\n",
    "        [ 2,  8],<br>\n",
    "        [ 3,  9],<br>\n",
    "        [ 4, 10],<br>\n",
    "        [ 5, 11],<br>\n",
    "        [ 6, 12]])<br>\n",
    "**hint :** 방금 배움"
   ]
  },
  {
   "cell_type": "code",
   "execution_count": 17,
   "metadata": {},
   "outputs": [],
   "source": [
    "# x_2_6.transpose(1, 0)"
   ]
  },
  {
   "cell_type": "markdown",
   "metadata": {},
   "source": [
    "## 4. Neural Network \n",
    "이제 뉴럴 네트워크를 만들어봅시다<br>\n",
    "Fully Connected Network를 사용하여 가상의 데이터 분포를 근사하는 모델을 만들어봅시다 "
   ]
  },
  {
   "cell_type": "code",
   "execution_count": 18,
   "metadata": {},
   "outputs": [],
   "source": [
    "from torch import nn\n",
    "from torch.nn import MSELoss\n",
    "import torch\n",
    "import matplotlib.pyplot as plt"
   ]
  },
  {
   "cell_type": "markdown",
   "metadata": {},
   "source": [
    "## 네트워크 쌓기\n",
    "torch는 `nn.Module`이라는 클래스를 상속하여 간단하게 모델을 만들 수 있습니다.<br>\n",
    "오늘은 첫 시간이니, FCN를 쌓을 수 있는 `nn.Linear`와 활성화 함수인 `nn.ReLU`를 활용하여 아주 간단한 네트워크를 쌓을 겁니다.<br>\n",
    "네트워크를 쌓을 때는 항상 input의 차원을 잘 확인하여 정의하는 것이 가장 중요합니다."
   ]
  },
  {
   "cell_type": "markdown",
   "metadata": {},
   "source": [
    "## `nn.Linear`\n",
    "`nn.Linear`는 FCN을 간단하게 짤 수 있습니다.<br>\n",
    "처음에 정의할 때는 **torch.nn.Linear(입력값의 차원, 출력값의 차원)** 를 받습니다.\n"
   ]
  },
  {
   "cell_type": "code",
   "execution_count": 19,
   "metadata": {},
   "outputs": [],
   "source": [
    "# 컬럼이 5개인 데이터가 10개 있는 상황입니다\n",
    "X = torch.Tensor(10, 5) "
   ]
  },
  {
   "cell_type": "code",
   "execution_count": 20,
   "metadata": {},
   "outputs": [],
   "source": [
    "# 컬럼 5개에 weight를 곱한 뒤 3개의 output_dim으로 내보내는 층입니다\n",
    "linear = nn.Linear(5, 3) "
   ]
  },
  {
   "cell_type": "raw",
   "metadata": {},
   "source": [
    "# Y = WX 로 결과값은 아래와 같이 되게 됩니다\n",
    "Y = linear(X)\n",
    "print(Y, Y.shape)"
   ]
  },
  {
   "cell_type": "markdown",
   "metadata": {},
   "source": [
    "# `nn.ReLU`\n",
    "뉴럴 네트워크가 학습이 가능한 것은 단순 선형결합이 아닌 활성화함수(activation function)이라고 하는 비선형 함수를 사용하기 때문입니다.<br> \n",
    "ReLU의 수식은 아주 간단합니다. $$ReLU(x) = max(0, x)$$<br>\n",
    "바로 0 이상은 그대로 출력하고 0 이하는 0으로 바꿔버리는 활성화 함수입니다. 그래프는 아래와 같이 생겼습니다.<br>"
   ]
  },
  {
   "attachments": {
    "faa5d248-ad8b-4574-804e-5e79fe376552.png": {
     "image/png": "[encoded data removed]"
    }
   },
   "cell_type": "markdown",
   "metadata": {},
   "source": [
    "![relu.png](attachment:faa5d248-ad8b-4574-804e-5e79fe376552.png)"
   ]
  },
  {
   "cell_type": "code",
   "execution_count": 21,
   "metadata": {},
   "outputs": [
    {
     "name": "stdout",
     "output_type": "stream",
     "text": [
      "tensor([[0.6282, 0.7190, 0.7569, 0.0840, 0.9787],\n",
      "        [0.3405, 0.7130, 0.3404, 0.9450, 0.0836],\n",
      "        [0.7774, 0.5039, 0.0087, 0.5204, 0.6636],\n",
      "        [0.7376, 0.5423, 0.4162, 0.2060, 0.4995],\n",
      "        [0.0258, 0.4334, 0.2667, 0.9312, 0.5580],\n",
      "        [0.5213, 0.0043, 0.7148, 0.4030, 0.0669],\n",
      "        [0.6967, 0.6883, 0.8866, 0.4964, 0.1758],\n",
      "        [0.6180, 0.3567, 0.2843, 0.2960, 0.2781],\n",
      "        [0.9729, 0.7218, 0.1446, 0.8563, 0.1490],\n",
      "        [0.3482, 0.3750, 0.8039, 0.9199, 0.7647]])\n"
     ]
    }
   ],
   "source": [
    "# 컬럼이 5개인 데이터가 10개 있는 상황입니다\n",
    "X = torch.rand(10, 5) \n",
    "print(X) # 모두 양수입니다"
   ]
  },
  {
   "cell_type": "code",
   "execution_count": 22,
   "metadata": {},
   "outputs": [
    {
     "name": "stdout",
     "output_type": "stream",
     "text": [
      "tensor([[ 0.7126,  0.9661,  0.5655,  0.8585,  0.8941],\n",
      "        [ 0.1995,  0.0054, -0.0936, -0.1030, -0.7881],\n",
      "        [ 0.2709,  0.4300,  0.8637,  0.4902, -0.9786],\n",
      "        [ 0.3340,  0.8792,  0.0597, -0.6176,  0.3160],\n",
      "        [-0.4987,  0.5995, -0.5453,  0.2245,  0.0867],\n",
      "        [-0.8744, -0.9338,  0.1004,  0.7634, -0.3408],\n",
      "        [ 0.9198, -0.4139, -0.4100, -0.0715, -0.6920],\n",
      "        [-0.5803, -0.4096,  0.5389,  0.8557,  0.0187],\n",
      "        [-0.2572, -0.6866, -0.8784,  0.8616,  0.9071],\n",
      "        [ 0.4520, -0.9343, -0.0024,  0.2635, -0.5635]])\n"
     ]
    }
   ],
   "source": [
    "# ReLU의 효과를 보기위해서 [-1 ~ 1] 사이의 uniform distribution으로 바꿔줍시다.\n",
    "# torch에서 메소드 뒤에 _가 붙으면 그 자체를 바꿔주어서 \n",
    "# X = X.uniform_(.,,) 과 같이 적지 않아도 됩니다\n",
    "X.uniform_(-1, 1)\n",
    "print(X) # 이제는 음수와 양수가 있는 것을 볼 수 있습니다 "
   ]
  },
  {
   "cell_type": "code",
   "execution_count": 23,
   "metadata": {},
   "outputs": [],
   "source": [
    "relu = nn.ReLU()"
   ]
  },
  {
   "cell_type": "code",
   "execution_count": 24,
   "metadata": {},
   "outputs": [
    {
     "data": {
      "text/plain": [
       "tensor([[0.7126, 0.9661, 0.5655, 0.8585, 0.8941],\n",
       "        [0.1995, 0.0054, 0.0000, 0.0000, 0.0000],\n",
       "        [0.2709, 0.4300, 0.8637, 0.4902, 0.0000],\n",
       "        [0.3340, 0.8792, 0.0597, 0.0000, 0.3160],\n",
       "        [0.0000, 0.5995, 0.0000, 0.2245, 0.0867],\n",
       "        [0.0000, 0.0000, 0.1004, 0.7634, 0.0000],\n",
       "        [0.9198, 0.0000, 0.0000, 0.0000, 0.0000],\n",
       "        [0.0000, 0.0000, 0.5389, 0.8557, 0.0187],\n",
       "        [0.0000, 0.0000, 0.0000, 0.8616, 0.9071],\n",
       "        [0.4520, 0.0000, 0.0000, 0.2635, 0.0000]])"
      ]
     },
     "execution_count": 24,
     "metadata": {},
     "output_type": "execute_result"
    }
   ],
   "source": [
    "relu(X) # ReLU 함수를 거치니 음수는 다 0으로 바뀐 것을 알 수 있습니다"
   ]
  },
  {
   "cell_type": "markdown",
   "metadata": {},
   "source": [
    "# 실전! 네트워크 쌓기\n",
    "이제 정말 네트워크를 쌓을 시간입니다.<br>\n",
    "파이토치에서 네트워크를 쌓을 때는 아래와 같은 문법으로 적게 됩니다."
   ]
  },
  {
   "cell_type": "raw",
   "metadata": {},
   "source": [
    "class 네트워크이름(nn.Module): # 네트워크를 정의합니다. 꼭 nn.Module를 상속해야합니다! \n",
    "    def __init__(self, input_dim, hidden_dim, output_dim):\n",
    "        # 모델이 참고해야할 인자들을 __init__에 넣어줍니다.\n",
    "        super().__init__() # 이건 꼭 필요하지만...설명하지 않겠습니다\n",
    "        \n",
    "        ##################################################################################\n",
    "        # 이 밑에서부터 nn.Linear나 nn.ReLU와 같은 레이어를 선언하게 됩니다                        #\n",
    "        # 처음 선언할때는 실제 들어갈 값의 차원 등을 입력하면 forward 함수에서 사용이 가능합니다.        #\n",
    "        ##################################################################################\n",
    "        \n",
    "        self.fc1 = nn.Linear(input_dim, hidden_dim)\n",
    "        self.relu = nn.ReLU()\n",
    "\n",
    "    def forward(self, src):\n",
    "        \n",
    "        ##################################################################################\n",
    "        # 실제로 네트워크를 쌓아야하는 곳입니다.                                                 #\n",
    "        # 위에서 정의한 레이어를 입력값이 들어왔을 때 어떤 순서로 어떻게 쌓을지를 정의하게 됩니다          #\n",
    "        ##################################################################################\n",
    "        \n",
    "        output = self.fc1(src) # [batch size, hidden_size]\n",
    "        output = self.relu(output)\n",
    "        return output"
   ]
  },
  {
   "cell_type": "code",
   "execution_count": 25,
   "metadata": {},
   "outputs": [],
   "source": [
    "class fcn(nn.Module): \n",
    "    def __init__(self, input_dim, hidden_dim, output_dim):\n",
    "        super().__init__()\n",
    "        self.fc1 = nn.Linear(input_dim, hidden_dim)\n",
    "        self.relu = nn.ReLU()\n",
    "        '''\n",
    "        여기에 두번째 linear 함수를 정의주세요!\n",
    "        self.fc2 = ...\n",
    "        '''\n",
    "        self.fc2 = nn.Linear(hidden_dim, output_dim)\n",
    "\n",
    "    def forward(self, src):\n",
    "        output = self.fc1(src) # [batch size, hidden_size]\n",
    "        output = self.relu(output)\n",
    "        '''\n",
    "        여기에 두번째 linear 함수를 쌓아주세요!\n",
    "        '''\n",
    "        output = self.fc2(output)\n",
    "        return output"
   ]
  },
  {
   "cell_type": "markdown",
   "metadata": {},
   "source": [
    "## 모델 정의"
   ]
  },
  {
   "cell_type": "code",
   "execution_count": 26,
   "metadata": {},
   "outputs": [],
   "source": [
    "input_dim = 1\n",
    "hidden_dim = 200\n",
    "batch_size = 1000\n",
    "output_dim = 1"
   ]
  },
  {
   "cell_type": "code",
   "execution_count": 27,
   "metadata": {},
   "outputs": [],
   "source": [
    "model = fcn(input_dim, hidden_dim, output_dim)"
   ]
  },
  {
   "cell_type": "markdown",
   "metadata": {},
   "source": [
    "## loss, optimizer 정의 "
   ]
  },
  {
   "cell_type": "code",
   "execution_count": 28,
   "metadata": {},
   "outputs": [],
   "source": [
    "loss = nn.MSELoss()\n",
    "optim = torch.optim.Adam(model.parameters())"
   ]
  },
  {
   "cell_type": "code",
   "execution_count": 29,
   "metadata": {},
   "outputs": [],
   "source": [
    "# device = 'cuda'\n",
    "# model.to(device);"
   ]
  },
  {
   "cell_type": "markdown",
   "metadata": {},
   "source": [
    "weight를 초기화 해줍니다. 오늘은 uniform distribution으로 초기화합니다."
   ]
  },
  {
   "cell_type": "code",
   "execution_count": 30,
   "metadata": {},
   "outputs": [],
   "source": [
    "def initialize_weights(m):\n",
    "    for name, param in m.named_parameters():\n",
    "        torch.nn.init.uniform(param.data)"
   ]
  },
  {
   "cell_type": "code",
   "execution_count": 31,
   "metadata": {},
   "outputs": [
    {
     "name": "stderr",
     "output_type": "stream",
     "text": [
      "/home/long8v/anaconda3/envs/long36v/lib/python3.6/site-packages/ipykernel_launcher.py:3: UserWarning: nn.init.uniform is now deprecated in favor of nn.init.uniform_.\n",
      "  This is separate from the ipykernel package so we can avoid doing imports until\n"
     ]
    }
   ],
   "source": [
    "model.apply(initialize_weights);"
   ]
  },
  {
   "cell_type": "markdown",
   "metadata": {},
   "source": [
    "## 모델 학습"
   ]
  },
  {
   "cell_type": "code",
   "execution_count": 32,
   "metadata": {},
   "outputs": [],
   "source": [
    "device ='cpu'"
   ]
  },
  {
   "cell_type": "code",
   "execution_count": 33,
   "metadata": {},
   "outputs": [
    {
     "name": "stderr",
     "output_type": "stream",
     "text": [
      "/home/long8v/anaconda3/envs/long36v/lib/python3.6/site-packages/ipykernel_launcher.py:14: UserWarning: torch.range is deprecated and will be removed in a future release because its behavior is inconsistent with Python's range builtin. Instead, use torch.arange, which produces values in [start, end).\n",
      "  \n"
     ]
    },
    {
     "data": {
      "image/png": "[encoded data removed]",
      "text/plain": [
       "<Figure size 432x288 with 1 Axes>"
      ]
     },
     "metadata": {
      "needs_background": "light"
     },
     "output_type": "display_data"
    },
    {
     "data": {
      "image/png": "[encoded data removed]",
      "text/plain": [
       "<Figure size 432x288 with 1 Axes>"
      ]
     },
     "metadata": {
      "needs_background": "light"
     },
     "output_type": "display_data"
    },
    {
     "data": {
      "image/png": "[encoded data removed]",
      "text/plain": [
       "<Figure size 432x288 with 1 Axes>"
      ]
     },
     "metadata": {
      "needs_background": "light"
     },
     "output_type": "display_data"
    },
    {
     "data": {
      "image/png": "[encoded data removed]",
      "text/plain": [
       "<Figure size 432x288 with 1 Axes>"
      ]
     },
     "metadata": {
      "needs_background": "light"
     },
     "output_type": "display_data"
    },
    {
     "data": {
      "image/png": "[encoded data removed]",
      "text/plain": [
       "<Figure size 432x288 with 1 Axes>"
      ]
     },
     "metadata": {
      "needs_background": "light"
     },
     "output_type": "display_data"
    },
    {
     "data": {
      "image/png": "[encoded data removed]",
      "text/plain": [
       "<Figure size 432x288 with 1 Axes>"
      ]
     },
     "metadata": {
      "needs_background": "light"
     },
     "output_type": "display_data"
    },
    {
     "data": {
      "image/png": "[encoded data removed]",
      "text/plain": [
       "<Figure size 432x288 with 1 Axes>"
      ]
     },
     "metadata": {
      "needs_background": "light"
     },
     "output_type": "display_data"
    },
    {
     "data": {
      "image/png": "[encoded data removed]",
      "text/plain": [
       "<Figure size 432x288 with 1 Axes>"
      ]
     },
     "metadata": {
      "needs_background": "light"
     },
     "output_type": "display_data"
    },
    {
     "data": {
      "image/png": "[encoded data removed]",
      "text/plain": [
       "<Figure size 432x288 with 1 Axes>"
      ]
     },
     "metadata": {
      "needs_background": "light"
     },
     "output_type": "display_data"
    },
    {
     "data": {
      "image/png": "[encoded data removed]",
      "text/plain": [
       "<Figure size 432x288 with 1 Axes>"
      ]
     },
     "metadata": {
      "needs_background": "light"
     },
     "output_type": "display_data"
    }
   ],
   "source": [
    "output_list = []\n",
    "for _ in range(2000):\n",
    "    optim.zero_grad()\n",
    "    x = torch.FloatTensor(batch_size, input_dim).uniform_(-30, 30) # batch size, input_dim\n",
    "    y = x ** 2\n",
    "    x = x.to(device)\n",
    "    y = y.to(device)\n",
    "    output = loss(model(x), y)\n",
    "    output.backward()\n",
    "    optim.step()\n",
    "    if _ % 200 == 0:\n",
    "        model.eval()\n",
    "        with torch.no_grad():\n",
    "            xx = torch.range(-20, 20, 1)\n",
    "            yy = model(xx.unsqueeze(1).to(device))\n",
    "            plt.scatter(xx, yy.data.cpu())\n",
    "            plt.title(f'Epoch {_}')\n",
    "            plt.show()"
   ]
  },
  {
   "cell_type": "markdown",
   "metadata": {},
   "source": [
    "## 실습해봅시다 & 생각해봅시다\n",
    "- `reLU`말고 다른 활성화 함수를 사용해봅시다. 초기 그래프는 어떤 모양으로 그려지나요? 왜 그럴까요?\n",
    "- 활성화 함수를 빼고 FC1 + FC2 두개로만 학습을 해봅시다. 학습이 잘 되나요? 안된다면 그 이유는 무엇일까요? 자유롭게 생각해봅시다"
   ]
  }
 ],
 "metadata": {
  "kernelspec": {
   "display_name": "Python 3",
   "language": "python",
   "name": "python3"
  },
  "language_info": {
   "codemirror_mode": {
    "name": "ipython",
    "version": 3
   },
   "file_extension": ".py",
   "mimetype": "text/x-python",
   "name": "python",
   "nbconvert_exporter": "python",
   "pygments_lexer": "ipython3",
   "version": "3.6.12"
  }
 },
 "nbformat": 4,
 "nbformat_minor": 4
}
